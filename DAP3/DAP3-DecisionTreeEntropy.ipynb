{
 "cells": [
  {
   "cell_type": "code",
   "execution_count": 1,
   "metadata": {},
   "outputs": [
    {
     "name": "stdout",
     "output_type": "stream",
     "text": [
      "Download complete.\n"
     ]
    }
   ],
   "source": [
    "import os\n",
    "import urllib\n",
    "\n",
    "# Download the data\n",
    "API_KEY = \"PO6RG0NM9390YF3A\"\n",
    "STOCK_SYMBOL = \"SPY\"\n",
    "INTERVAL = \"1min\"\n",
    "DATA_TYPE = \"WEEKLY\" # INTRADAY || DAILY || WEEKLY || MONTHLY\n",
    "\n",
    "if DATA_TYPE == \"intraday\":\n",
    "    DOWNLOAD_ROOT = f\"https://www.alphavantage.co/query?function=TIME_SERIES_INTRADAY&symbol={STOCK_SYMBOL}&interval={INTERVAL}&apikey={API_KEY}&datatype=csv&ouputsize=full\"\n",
    "else:\n",
    "    DOWNLOAD_ROOT = f\"https://www.alphavantage.co/query?function=TIME_SERIES_{DATA_TYPE}&symbol={STOCK_SYMBOL}&apikey={API_KEY}&datatype=csv&ouputsize=full\"\n",
    "filename = STOCK_SYMBOL+\"_\"+DATA_TYPE+\".csv\"\n",
    "datapath = \"rawdata/\"\n",
    "os.makedirs(datapath, exist_ok=True)\n",
    "urllib.request.urlretrieve(DOWNLOAD_ROOT, datapath+filename)\n",
    "print('Download complete.')"
   ]
  },
  {
   "cell_type": "code",
   "execution_count": 2,
   "metadata": {},
   "outputs": [
    {
     "name": "stdout",
     "output_type": "stream",
     "text": [
      "       timestamp      open      high       low     close     volume\n",
      "1042  2000-05-19  142.7500  147.7187  140.4062  141.1250   29384700\n",
      "1041  2000-05-26  141.2500  141.8125  136.5000  138.0000   42993000\n",
      "1040  2000-06-02  140.0000  149.0937  139.4687  147.8437   29343000\n",
      "1039  2000-06-09  147.4687  148.2187  145.6250  146.5937   25584900\n",
      "1038  2000-06-16  146.9687  148.8750  144.6250  146.5937   28107200\n",
      "...          ...       ...       ...       ...       ...        ...\n",
      "4     2020-04-09  257.8400  281.2000  248.1698  278.2000  728498717\n",
      "3     2020-04-17  277.1400  287.3000  271.4100  286.6400  641620261\n",
      "2     2020-04-24  282.6100  286.7912  272.0200  282.9700  506655211\n",
      "1     2020-05-01  285.1200  294.8800  281.5200  282.7900  546963684\n",
      "0     2020-05-08  280.7400  292.9500  279.1300  292.4400  374854032\n",
      "\n",
      "[1043 rows x 6 columns]\n"
     ]
    }
   ],
   "source": [
    "import matplotlib.pyplot as plt\n",
    "import numpy as np\n",
    "import pandas as pd\n",
    "import datetime\n",
    "\n",
    "stock_data = pd.read_csv(datapath + filename, thousands=',')\n",
    "\n",
    "stock_data = stock_data.iloc[::-1]\n",
    "print(stock_data)"
   ]
  },
  {
   "cell_type": "code",
   "execution_count": 3,
   "metadata": {},
   "outputs": [
    {
     "name": "stdout",
     "output_type": "stream",
     "text": [
      "       timestamp      open      high       low     close     volume action\n",
      "1042  2000-05-19  142.7500  147.7187  140.4062  141.1250   29384700   sell\n",
      "1041  2000-05-26  141.2500  141.8125  136.5000  138.0000   42993000   sell\n",
      "1040  2000-06-02  140.0000  149.0937  139.4687  147.8437   29343000    buy\n",
      "1039  2000-06-09  147.4687  148.2187  145.6250  146.5937   25584900   sell\n",
      "1038  2000-06-16  146.9687  148.8750  144.6250  146.5937   28107200   sell\n",
      "...          ...       ...       ...       ...       ...        ...    ...\n",
      "4     2020-04-09  257.8400  281.2000  248.1698  278.2000  728498717    buy\n",
      "3     2020-04-17  277.1400  287.3000  271.4100  286.6400  641620261    buy\n",
      "2     2020-04-24  282.6100  286.7912  272.0200  282.9700  506655211    buy\n",
      "1     2020-05-01  285.1200  294.8800  281.5200  282.7900  546963684   sell\n",
      "0     2020-05-08  280.7400  292.9500  279.1300  292.4400  374854032    buy\n",
      "\n",
      "[1043 rows x 7 columns]\n"
     ]
    }
   ],
   "source": [
    "label = []\n",
    "for index, row in stock_data.iterrows():\n",
    "    if row['close'] > row['open']:\n",
    "        label.append('buy')\n",
    "    else:\n",
    "        label.append('sell')\n",
    "stock_data['action'] = label\n",
    "print(stock_data)"
   ]
  },
  {
   "cell_type": "code",
   "execution_count": 4,
   "metadata": {},
   "outputs": [],
   "source": [
    "import sys\n",
    "assert sys.version_info >= (3, 5)\n",
    "\n",
    "import sklearn\n",
    "assert sklearn.__version__ >= \"0.20\"\n",
    "\n",
    "import numpy as np\n",
    "import pandas as pd\n",
    "import os\n",
    "from sklearn.metrics import confusion_matrix\n",
    "from sklearn.metrics import classification_report\n",
    "from sklearn.model_selection import train_test_split\n",
    "from sklearn.tree import DecisionTreeClassifier\n",
    "\n",
    "%matplotlib inline\n",
    "import matplotlib as mpl\n",
    "import matplotlib.pyplot as plt\n",
    "mpl.rc('axes', labelsize=14)\n",
    "mpl.rc('xtick', labelsize=12)\n",
    "mpl.rc('ytick', labelsize=12)"
   ]
  },
  {
   "cell_type": "code",
   "execution_count": 5,
   "metadata": {},
   "outputs": [],
   "source": [
    "from matplotlib import cm\n",
    "\n",
    "X = stock_data[['open','high','low','close','volume']]\n",
    "y = stock_data['action']\n",
    "#training set = 70% of dataset(seems to give best accuracy)\n",
    "X_train, X_test, y_train, y_test = train_test_split(X, y, train_size=0.70, random_state=0)"
   ]
  },
  {
   "cell_type": "code",
   "execution_count": 7,
   "metadata": {},
   "outputs": [],
   "source": [
    "tree_clf = DecisionTreeClassifier(max_depth=2, criterion=\"entropy\", random_state=42)\n",
    "tree_clf.fit(X_train, y_train)\n",
    "y_pred = tree_clf.predict(X_test)"
   ]
  },
  {
   "cell_type": "code",
   "execution_count": 9,
   "metadata": {},
   "outputs": [],
   "source": [
    "def plot_confusion_matrix(confusion_mat, cln):\n",
    "    plt.imshow(confusion_mat, interpolation='nearest', cmap=plt.cm.gray)\n",
    "    plt.title('Confusion matrix')\n",
    "    plt.colorbar()\n",
    "    tick_marks = np.arange(cln)\n",
    "    plt.xticks(tick_marks, tick_marks)\n",
    "    plt.yticks(tick_marks, tick_marks)\n",
    "    plt.ylabel('True label')\n",
    "    plt.xlabel('Predicted label')\n",
    "    plt.show()"
   ]
  },
  {
   "cell_type": "code",
   "execution_count": 10,
   "metadata": {},
   "outputs": [
    {
     "name": "stdout",
     "output_type": "stream",
     "text": [
      "[[134  18]\n",
      " [126  35]]\n"
     ]
    },
    {
     "data": {
      "image/png": "[encoded data removed]",
      "text/plain": [
       "<Figure size 432x288 with 2 Axes>"
      ]
     },
     "metadata": {
      "needs_background": "light"
     },
     "output_type": "display_data"
    }
   ],
   "source": [
    "confusion_mat = confusion_matrix(y_test, y_pred)\n",
    "\n",
    "print(confusion_mat)\n",
    "\n",
    "plot_confusion_matrix(confusion_mat, 2)"
   ]
  },
  {
   "cell_type": "code",
   "execution_count": 18,
   "metadata": {},
   "outputs": [
    {
     "name": "stdout",
     "output_type": "stream",
     "text": [
      "KFold(n_splits=10, random_state=None, shuffle=True)\n"
     ]
    }
   ],
   "source": [
    "from sklearn.model_selection import KFold \n",
    "# k= 10\n",
    "kf = KFold(n_splits=10, random_state=None, shuffle=True)\n",
    "\n",
    "kf.get_n_splits(X)\n",
    "\n",
    "print(kf)"
   ]
  },
  {
   "cell_type": "code",
   "execution_count": 20,
   "metadata": {},
   "outputs": [
    {
     "name": "stdout",
     "output_type": "stream",
     "text": [
      "              precision    recall  f1-score   support\n",
      "\n",
      "         buy       0.52      0.88      0.65       152\n",
      "        sell       0.66      0.22      0.33       161\n",
      "\n",
      "    accuracy                           0.54       313\n",
      "   macro avg       0.59      0.55      0.49       313\n",
      "weighted avg       0.59      0.54      0.48       313\n",
      "\n",
      "              precision    recall  f1-score   support\n",
      "\n",
      "         buy       0.52      0.88      0.65       152\n",
      "        sell       0.66      0.22      0.33       161\n",
      "\n",
      "    accuracy                           0.54       313\n",
      "   macro avg       0.59      0.55      0.49       313\n",
      "weighted avg       0.59      0.54      0.48       313\n",
      "\n",
      "              precision    recall  f1-score   support\n",
      "\n",
      "         buy       0.52      0.88      0.65       152\n",
      "        sell       0.66      0.22      0.33       161\n",
      "\n",
      "    accuracy                           0.54       313\n",
      "   macro avg       0.59      0.55      0.49       313\n",
      "weighted avg       0.59      0.54      0.48       313\n",
      "\n",
      "              precision    recall  f1-score   support\n",
      "\n",
      "         buy       0.52      0.88      0.65       152\n",
      "        sell       0.66      0.22      0.33       161\n",
      "\n",
      "    accuracy                           0.54       313\n",
      "   macro avg       0.59      0.55      0.49       313\n",
      "weighted avg       0.59      0.54      0.48       313\n",
      "\n",
      "              precision    recall  f1-score   support\n",
      "\n",
      "         buy       0.52      0.88      0.65       152\n",
      "        sell       0.66      0.22      0.33       161\n",
      "\n",
      "    accuracy                           0.54       313\n",
      "   macro avg       0.59      0.55      0.49       313\n",
      "weighted avg       0.59      0.54      0.48       313\n",
      "\n",
      "              precision    recall  f1-score   support\n",
      "\n",
      "         buy       0.52      0.88      0.65       152\n",
      "        sell       0.66      0.22      0.33       161\n",
      "\n",
      "    accuracy                           0.54       313\n",
      "   macro avg       0.59      0.55      0.49       313\n",
      "weighted avg       0.59      0.54      0.48       313\n",
      "\n",
      "              precision    recall  f1-score   support\n",
      "\n",
      "         buy       0.52      0.88      0.65       152\n",
      "        sell       0.66      0.22      0.33       161\n",
      "\n",
      "    accuracy                           0.54       313\n",
      "   macro avg       0.59      0.55      0.49       313\n",
      "weighted avg       0.59      0.54      0.48       313\n",
      "\n",
      "              precision    recall  f1-score   support\n",
      "\n",
      "         buy       0.52      0.88      0.65       152\n",
      "        sell       0.66      0.22      0.33       161\n",
      "\n",
      "    accuracy                           0.54       313\n",
      "   macro avg       0.59      0.55      0.49       313\n",
      "weighted avg       0.59      0.54      0.48       313\n",
      "\n",
      "              precision    recall  f1-score   support\n",
      "\n",
      "         buy       0.52      0.88      0.65       152\n",
      "        sell       0.66      0.22      0.33       161\n",
      "\n",
      "    accuracy                           0.54       313\n",
      "   macro avg       0.59      0.55      0.49       313\n",
      "weighted avg       0.59      0.54      0.48       313\n",
      "\n",
      "              precision    recall  f1-score   support\n",
      "\n",
      "         buy       0.52      0.88      0.65       152\n",
      "        sell       0.66      0.22      0.33       161\n",
      "\n",
      "    accuracy                           0.54       313\n",
      "   macro avg       0.59      0.55      0.49       313\n",
      "weighted avg       0.59      0.54      0.48       313\n",
      "\n"
     ]
    }
   ],
   "source": [
    "from sklearn.model_selection import cross_val_score\n",
    "#Entropy\n",
    "tree_clf = DecisionTreeClassifier(max_depth=2, criterion=\"entropy\", random_state=42)\n",
    "\n",
    "X_train, X_test, y_train, y_test = train_test_split(X, y, train_size=0.70, random_state=0)\n",
    "for train_index, test_index in kf.split(X):\n",
    "\n",
    "    tree_clf.fit(X_train, y_train)\n",
    "    \n",
    "    y_pred = tree_clf.predict(X_test)\n",
    "    \n",
    "    target_names = ['buy','sell']\n",
    "    print(classification_report(y_test, y_pred, target_names=target_names))"
   ]
  },
  {
   "cell_type": "code",
   "execution_count": null,
   "metadata": {},
   "outputs": [],
   "source": []
  }
 ],
 "metadata": {
  "kernelspec": {
   "display_name": "Python 3",
   "language": "python",
   "name": "python3"
  },
  "language_info": {
   "codemirror_mode": {
    "name": "ipython",
    "version": 3
   },
   "file_extension": ".py",
   "mimetype": "text/x-python",
   "name": "python",
   "nbconvert_exporter": "python",
   "pygments_lexer": "ipython3",
   "version": "3.7.6"
  }
 },
 "nbformat": 4,
 "nbformat_minor": 4
}
