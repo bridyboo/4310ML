{
 "cells": [
  {
   "cell_type": "markdown",
   "metadata": {},
   "source": [
    "# Naive Bayes Classification"
   ]
  },
  {
   "cell_type": "code",
   "execution_count": 3,
   "metadata": {},
   "outputs": [
    {
     "name": "stdout",
     "output_type": "stream",
     "text": [
      "Download complete.\n"
     ]
    }
   ],
   "source": [
    "import os\n",
    "import urllib\n",
    "\n",
    "# Download the data\n",
    "API_KEY = \"PO6RG0NM9390YF3A\"\n",
    "STOCK_SYMBOL = \"SPY\"\n",
    "INTERVAL = \"1min\"\n",
    "DATA_TYPE = \"WEEKLY\" # INTRADAY || DAILY || WEEKLY || MONTHLY\n",
    "\n",
    "if DATA_TYPE == \"intraday\":\n",
    "    DOWNLOAD_ROOT = f\"https://www.alphavantage.co/query?function=TIME_SERIES_INTRADAY&symbol={STOCK_SYMBOL}&interval={INTERVAL}&apikey={API_KEY}&datatype=csv&ouputsize=full\"\n",
    "else:\n",
    "    DOWNLOAD_ROOT = f\"https://www.alphavantage.co/query?function=TIME_SERIES_{DATA_TYPE}&symbol={STOCK_SYMBOL}&apikey={API_KEY}&datatype=csv&ouputsize=full\"\n",
    "filename = STOCK_SYMBOL+\"_\"+DATA_TYPE+\".csv\"\n",
    "datapath = \"rawdata/\"\n",
    "os.makedirs(datapath, exist_ok=True)\n",
    "urllib.request.urlretrieve(DOWNLOAD_ROOT, datapath+filename)\n",
    "print('Download complete.')"
   ]
  },
  {
   "cell_type": "code",
   "execution_count": 4,
   "metadata": {},
   "outputs": [
    {
     "name": "stdout",
     "output_type": "stream",
     "text": [
      "       timestamp      open      high       low     close     volume\n",
      "1042  2000-05-19  142.7500  147.7187  140.4062  141.1250   29384700\n",
      "1041  2000-05-26  141.2500  141.8125  136.5000  138.0000   42993000\n",
      "1040  2000-06-02  140.0000  149.0937  139.4687  147.8437   29343000\n",
      "1039  2000-06-09  147.4687  148.2187  145.6250  146.5937   25584900\n",
      "1038  2000-06-16  146.9687  148.8750  144.6250  146.5937   28107200\n",
      "...          ...       ...       ...       ...       ...        ...\n",
      "4     2020-04-09  257.8400  281.2000  248.1698  278.2000  728498717\n",
      "3     2020-04-17  277.1400  287.3000  271.4100  286.6400  641620261\n",
      "2     2020-04-24  282.6100  286.7912  272.0200  282.9700  506655211\n",
      "1     2020-05-01  285.1200  294.8800  281.5200  282.7900  546963684\n",
      "0     2020-05-08  280.7400  292.9500  279.1300  292.4400  374854032\n",
      "\n",
      "[1043 rows x 6 columns]\n"
     ]
    }
   ],
   "source": [
    "# Code example of load the data and prepared the data\n",
    "import matplotlib.pyplot as plt\n",
    "import numpy as np\n",
    "import pandas as pd\n",
    "import datetime\n",
    "\n",
    "# Load the data\n",
    "stock_data = pd.read_csv(datapath + filename, thousands=',')\n",
    "\n",
    "# reverse data so it is in ascending timestamp order\n",
    "stock_data = stock_data.iloc[::-1]\n",
    "print(stock_data)"
   ]
  },
  {
   "cell_type": "code",
   "execution_count": 5,
   "metadata": {},
   "outputs": [
    {
     "name": "stdout",
     "output_type": "stream",
     "text": [
      "       timestamp      open      high       low     close     volume action\n",
      "1042  2000-05-19  142.7500  147.7187  140.4062  141.1250   29384700   sell\n",
      "1041  2000-05-26  141.2500  141.8125  136.5000  138.0000   42993000   sell\n",
      "1040  2000-06-02  140.0000  149.0937  139.4687  147.8437   29343000    buy\n",
      "1039  2000-06-09  147.4687  148.2187  145.6250  146.5937   25584900   sell\n",
      "1038  2000-06-16  146.9687  148.8750  144.6250  146.5937   28107200   sell\n",
      "...          ...       ...       ...       ...       ...        ...    ...\n",
      "4     2020-04-09  257.8400  281.2000  248.1698  278.2000  728498717    buy\n",
      "3     2020-04-17  277.1400  287.3000  271.4100  286.6400  641620261    buy\n",
      "2     2020-04-24  282.6100  286.7912  272.0200  282.9700  506655211    buy\n",
      "1     2020-05-01  285.1200  294.8800  281.5200  282.7900  546963684   sell\n",
      "0     2020-05-08  280.7400  292.9500  279.1300  292.4400  374854032    buy\n",
      "\n",
      "[1043 rows x 7 columns]\n"
     ]
    }
   ],
   "source": [
    "label = []\n",
    "for index, row in stock_data.iterrows():\n",
    "    if row['close'] > row['open']:\n",
    "        label.append('buy')\n",
    "    else:\n",
    "        label.append('sell')\n",
    "stock_data['action'] = label\n",
    "print(stock_data)"
   ]
  },
  {
   "cell_type": "code",
   "execution_count": 6,
   "metadata": {},
   "outputs": [],
   "source": [
    "import sys\n",
    "assert sys.version_info >= (3, 5)\n",
    "\n",
    "import sklearn\n",
    "assert sklearn.__version__ >= \"0.20\"\n",
    "\n",
    "import numpy as np\n",
    "import pandas as pd\n",
    "import os\n",
    "from sklearn.metrics import confusion_matrix\n",
    "from sklearn.metrics import classification_report\n",
    "from sklearn.model_selection import train_test_split\n",
    "from sklearn.tree import DecisionTreeClassifier\n",
    "\n",
    "%matplotlib inline\n",
    "import matplotlib as mpl\n",
    "import matplotlib.pyplot as plt\n",
    "mpl.rc('axes', labelsize=14)\n",
    "mpl.rc('xtick', labelsize=12)\n",
    "mpl.rc('ytick', labelsize=12)"
   ]
  },
  {
   "cell_type": "code",
   "execution_count": 7,
   "metadata": {},
   "outputs": [],
   "source": [
    "from matplotlib import cm\n",
    "\n",
    "X = stock_data[['open','high','low','close','volume']]\n",
    "y = stock_data['action']\n",
    "#training set = 70% of dataset(seems to give best accuracy)\n",
    "X_train, X_test, y_train, y_test = train_test_split(X, y, train_size=0.70, random_state=0)"
   ]
  },
  {
   "cell_type": "code",
   "execution_count": 8,
   "metadata": {},
   "outputs": [],
   "source": [
    "from sklearn.naive_bayes import GaussianNB\n",
    "from adspy_shared_utilities import plot_class_regions_for_classifier\n",
    "\n",
    "nbclf = GaussianNB().fit(X_train, y_train)\n",
    "\n",
    "#plot_class_regions_for_classifier(nbclf, X_train, y_train, X_test, y_test, 'Gaussian Naive Bayes classifier: Dataset 1')"
   ]
  },
  {
   "cell_type": "code",
   "execution_count": 9,
   "metadata": {},
   "outputs": [
    {
     "data": {
      "text/plain": [
       "0.5399361022364217"
      ]
     },
     "execution_count": 9,
     "metadata": {},
     "output_type": "execute_result"
    }
   ],
   "source": [
    "nbclf.score(X_test, y_test)"
   ]
  },
  {
   "cell_type": "code",
   "execution_count": 10,
   "metadata": {},
   "outputs": [
    {
     "name": "stdout",
     "output_type": "stream",
     "text": [
      "[[142  10]\n",
      " [134  27]]\n"
     ]
    }
   ],
   "source": [
    "y_pred = nbclf.predict(X_test)\n",
    "\n",
    "# plot a confusion matrix\n",
    "confusion_mat = confusion_matrix(y_test, y_pred)\n",
    "\n",
    "print(confusion_mat)"
   ]
  },
  {
   "cell_type": "code",
   "execution_count": 11,
   "metadata": {},
   "outputs": [
    {
     "name": "stdout",
     "output_type": "stream",
     "text": [
      "              precision    recall  f1-score   support\n",
      "\n",
      "     Class 0       0.51      0.93      0.66       152\n",
      "     Class 1       0.73      0.17      0.27       161\n",
      "\n",
      "    accuracy                           0.54       313\n",
      "   macro avg       0.62      0.55      0.47       313\n",
      "weighted avg       0.63      0.54      0.46       313\n",
      "\n"
     ]
    }
   ],
   "source": [
    "# Print classification report\n",
    "target_names = ['Class 0', 'Class 1']\n",
    "\n",
    "result_metrics = classification_report(y_test, y_pred, target_names=target_names)\n",
    "\n",
    "print(result_metrics)"
   ]
  },
  {
   "cell_type": "markdown",
   "metadata": {},
   "source": [
    "## ROC Curve"
   ]
  },
  {
   "cell_type": "code",
   "execution_count": 37,
   "metadata": {},
   "outputs": [
    {
     "name": "stdout",
     "output_type": "stream",
     "text": [
      "y_score =  [0.38400086 0.7542049  0.4920448  0.38562783 0.59091993 0.39416335\n",
      " 0.42310855 0.95218533 0.42911921 0.41097884 0.42685868 0.38724769\n",
      " 0.38630364 0.38786394 0.38340439 0.39235522 0.38523117 0.59941284\n",
      " 0.45131589 0.3881744  0.38494681 0.43402282 0.47246033 0.54385043\n",
      " 0.38515675 0.42375927 0.424269   0.42821126 0.40091995 0.42202855\n",
      " 0.38808523 0.39069271 0.39450912 0.40609071 0.39563929 0.38345866\n",
      " 0.39624532 0.42609961 0.40427027 0.99326116 0.44247622 0.38339607\n",
      " 0.38516434 0.38649668 0.40447157 0.41847802 0.41296137 0.38558678\n",
      " 0.39896589 0.45413662 0.41241765 0.38594788 0.39059706 0.42909884\n",
      " 0.42847413 0.40450684 0.43207121 0.38654093 0.39402437 0.44651185\n",
      " 0.38527013 0.68919173 0.40600445 0.5190466  0.39383502 0.38916568\n",
      " 0.69553707 0.92828518 0.39684588 0.42122045 0.40902382 0.38814539\n",
      " 0.38985594 0.38428971 0.40505655 0.42389489 0.53369186 0.40248266\n",
      " 0.39169756 0.41461277 0.38908825 0.38938003 0.39217341 0.39512859\n",
      " 0.38351175 0.38862711 0.38379613 0.41314833 0.97428126 0.39278267\n",
      " 0.43213192 0.79657022 0.41753923 0.38394225 0.48212931 0.40164569\n",
      " 0.39047056 0.39932973 0.42039942 0.93833404 0.58288065 0.93052522\n",
      " 0.39104882 0.38453345 0.39366828 0.38416987 0.39257182 0.40778167\n",
      " 0.42087367 0.55749058 0.38453157 0.38933886 0.42666731 0.3853241\n",
      " 0.99822395 0.38364742 0.38358371 0.38591808 0.38839624 0.39084612\n",
      " 0.39155865 0.39249257 0.53549775 0.43073761 0.38895647 0.38406724\n",
      " 0.44517721 0.88759732 0.49982772 0.42087711 0.38448864 0.38341372\n",
      " 0.38456189 0.39688122 0.39105668 0.38404554 0.38480306 0.38473907\n",
      " 0.60718124 0.65439739 0.38387262 0.38810216 0.57259279 0.4220058\n",
      " 0.38350863 0.38690816 0.39269584 0.39885367 0.43216531 0.385197\n",
      " 0.38749874 0.38340152 0.38958435 0.42133189 0.39853632 0.43041408\n",
      " 0.3840609  0.55657615 0.43630304 0.4009568  0.40878204 0.3849952\n",
      " 0.39224834 0.38341278 0.43384688 0.38923038 0.38676064 0.38970439\n",
      " 0.42765202 0.38970381 0.39382377 0.41363519 0.39395861 0.44986995\n",
      " 0.40208011 0.39885107 0.3913676  0.39015683 0.59533592 0.3912038\n",
      " 0.38549325 0.4248586  0.42532967 0.3844767  0.42561176 0.38347152\n",
      " 0.38411355 0.48261757 0.38361674 0.39742765 0.48633399 0.38739592\n",
      " 0.38645299 0.51703484 0.41657999 0.38635552 0.39241544 0.38921369\n",
      " 0.38973463 0.41114779 0.39511737 0.41700901 0.39079934 0.38436582\n",
      " 0.40169209 0.42754388 0.46187715 0.38417746 0.39555973 0.38823197\n",
      " 0.46549413 0.38962975 0.43534435 0.38426205 0.38738073 0.38355144\n",
      " 0.43645    0.40294586 0.38681818 0.41213173 0.38796914 0.39003901\n",
      " 0.43295969 0.39598036 0.38367314 0.393565   0.39225993 0.60619369\n",
      " 0.38340101 0.39320584 0.98247217 0.39240917 0.39221747 0.39235629\n",
      " 0.42716485 0.51105812 0.38406193 0.38860054 0.41024813 0.45375268\n",
      " 0.38394252 0.39223437 0.39140395 0.39281315 0.46547645 0.40550942\n",
      " 0.56987254 0.39499107 0.39671204 0.39461859 0.38888331 0.39077481\n",
      " 0.4064642  0.39224651 0.3921035  0.38945087 0.38473313 0.42438868\n",
      " 0.39436887 0.39963726 0.42065794 0.41250562 0.39276187 0.38346149\n",
      " 0.41386885 0.3857388  0.40851416 0.74984631 0.39663777 0.38380107\n",
      " 0.46495499 0.38665825 0.39195314 0.46874624 0.42152341 0.4227002\n",
      " 0.39654821 0.38343469 0.40267334 0.38484734 0.78387959 0.42713912\n",
      " 0.68195134 0.39202364 0.42007684 0.38473736 0.39549613 0.4268559\n",
      " 0.3921579  0.38353078 0.42586446 0.39393984 0.38354807 0.38562134\n",
      " 0.39162773 0.39745456 0.38392234 0.40072043 0.38343796 0.66985275\n",
      " 0.3849348  0.62550693 0.38587737 0.44592995 0.42169632 0.39698027\n",
      " 0.40745339 0.44431011 0.38630127 0.383424   0.54649117 0.70622168\n",
      " 0.40368806]\n",
      "true positive =  [nan nan nan]\n",
      "Accuracy =  nan\n"
     ]
    },
    {
     "name": "stderr",
     "output_type": "stream",
     "text": [
      "/Users/dantemonaldo/opt/anaconda3/lib/python3.7/site-packages/sklearn/metrics/_ranking.py:808: UndefinedMetricWarning: No positive samples in y_true, true positive value should be meaningless\n",
      "  UndefinedMetricWarning)\n"
     ]
    },
    {
     "data": {
      "image/png": "[encoded data removed]",
      "text/plain": [
       "<Figure size 432x288 with 1 Axes>"
      ]
     },
     "metadata": {
      "needs_background": "light"
     },
     "output_type": "display_data"
    }
   ],
   "source": [
    "from sklearn.metrics import roc_curve, auc\n",
    "y_score = nbclf.predict_proba(X_test)\n",
    "\n",
    "# print('y_test ', y_test)\n",
    "print('y_score = ', y_score[:,1])\n",
    "false_positive_rate, true_positive_rate, thresholds = roc_curve(y_test, y_score[:,1], pos_label=2)\n",
    "# print('false positive = ', false_positive_rate)\n",
    "print('true positive = ', true_positive_rate)\n",
    "# print('thresholds = ', thresholds)\n",
    "roc_auc = auc(false_positive_rate, true_positive_rate)\n",
    "print('Accuracy = ', roc_auc)\n",
    "\n",
    "# Plotting\n",
    "plt.title('ROC')\n",
    "plt.plot(false_positive_rate, true_positive_rate, c='navy', label=('Accuracy = %0.2f'%roc_auc))\n",
    "plt.legend(loc='lower right', prop={'size':8})\n",
    "plt.plot([0,1],[0,1], color='lightgrey', linestyle='--')\n",
    "plt.xlim([-0.05,1.0])\n",
    "plt.ylim([0.0,1.05])\n",
    "plt.ylabel('True Positive Rate')\n",
    "plt.xlabel('False Positive Rate')\n",
    "plt.show()"
   ]
  },
  {
   "cell_type": "code",
   "execution_count": null,
   "metadata": {},
   "outputs": [],
   "source": []
  },
  {
   "cell_type": "code",
   "execution_count": null,
   "metadata": {},
   "outputs": [],
   "source": []
  }
 ],
 "metadata": {
  "kernelspec": {
   "display_name": "Python 3",
   "language": "python",
   "name": "python3"
  },
  "language_info": {
   "codemirror_mode": {
    "name": "ipython",
    "version": 3
   },
   "file_extension": ".py",
   "mimetype": "text/x-python",
   "name": "python",
   "nbconvert_exporter": "python",
   "pygments_lexer": "ipython3",
   "version": "3.7.6"
  }
 },
 "nbformat": 4,
 "nbformat_minor": 4
}
