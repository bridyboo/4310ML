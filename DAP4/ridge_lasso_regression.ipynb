{
 "cells": [
  {
   "cell_type": "code",
   "execution_count": 2,
   "metadata": {},
   "outputs": [
    {
     "name": "stdout",
     "output_type": "stream",
     "text": [
      "Download complete.\n"
     ]
    }
   ],
   "source": [
    "import os\n",
    "import urllib\n",
    "\n",
    "# Download the data\n",
    "API_KEY = \"PO6RG0NM9390YF3A\"\n",
    "STOCK_SYMBOL = \"SPY\"\n",
    "INTERVAL = \"1min\"\n",
    "DATA_TYPE = \"MONTHLY\" # INTRADAY || DAILY || WEEKLY || MONTHLY\n",
    "\n",
    "if DATA_TYPE == \"intraday\":\n",
    "    DOWNLOAD_ROOT = f\"https://www.alphavantage.co/query?function=TIME_SERIES_INTRADAY&symbol={STOCK_SYMBOL}&interval={INTERVAL}&apikey={API_KEY}&datatype=csv&ouputsize=full\"\n",
    "else:\n",
    "    DOWNLOAD_ROOT = f\"https://www.alphavantage.co/query?function=TIME_SERIES_{DATA_TYPE}&symbol={STOCK_SYMBOL}&apikey={API_KEY}&datatype=csv&ouputsize=full\"\n",
    "filename = STOCK_SYMBOL+\"_\"+DATA_TYPE+\".csv\"\n",
    "datapath = \"rawdata/\"\n",
    "os.makedirs(datapath, exist_ok=True)\n",
    "urllib.request.urlretrieve(DOWNLOAD_ROOT, datapath+filename)\n",
    "print('Download complete.')"
   ]
  },
  {
   "cell_type": "code",
   "execution_count": 3,
   "metadata": {},
   "outputs": [
    {
     "name": "stdout",
     "output_type": "stream",
     "text": [
      "      timestamp      open      high       low     close      volume\n",
      "239  2000-06-30  143.6875  149.1562  143.0000  145.2812   127146000\n",
      "238  2000-07-31  145.4375  151.9843  141.5156  143.0000   106780100\n",
      "237  2000-08-31  143.6250  153.0937  142.6250  152.3437   102365500\n",
      "236  2000-09-29  153.2500  153.5937  142.1250  143.6250   113203000\n",
      "235  2000-10-31  144.2812  145.7500  130.1562  142.9531   178392400\n",
      "..          ...       ...       ...       ...       ...         ...\n",
      "4    2020-01-31  323.5400  332.9500  320.3600  321.7300  1389179454\n",
      "3    2020-02-28  323.3500  339.0800  285.5400  296.2600  2099672006\n",
      "2    2020-03-31  298.2100  313.8400  218.2600  257.7500  5888710884\n",
      "1    2020-04-30  247.9800  294.8800  243.9000  290.4800  2798273802\n",
      "0    2020-05-22  285.3100  297.8700  272.9900  295.4400  1499792747\n",
      "\n",
      "[240 rows x 6 columns]\n"
     ]
    }
   ],
   "source": [
    "import matplotlib.pyplot as plt\n",
    "import numpy as np\n",
    "import pandas as pd\n",
    "import datetime\n",
    "\n",
    "stock_data = pd.read_csv(datapath + filename, thousands=',')\n",
    "\n",
    "stock_data = stock_data.iloc[::-1]\n",
    "print(stock_data)"
   ]
  },
  {
   "cell_type": "code",
   "execution_count": 4,
   "metadata": {},
   "outputs": [],
   "source": [
    "import sys\n",
    "assert sys.version_info >= (3, 5)\n",
    "\n",
    "import sklearn\n",
    "assert sklearn.__version__ >= \"0.20\"\n",
    "\n",
    "import numpy as np\n",
    "import pandas as pd\n",
    "import os\n",
    "from sklearn.metrics import confusion_matrix\n",
    "from sklearn.metrics import classification_report\n",
    "from sklearn.model_selection import train_test_split\n",
    "\n",
    "%matplotlib inline\n",
    "import matplotlib as mpl\n",
    "import matplotlib.pyplot as plt\n",
    "mpl.rc('axes', labelsize=14)\n",
    "mpl.rc('xtick', labelsize=12)\n",
    "mpl.rc('ytick', labelsize=12)"
   ]
  },
  {
   "cell_type": "code",
   "execution_count": 5,
   "metadata": {},
   "outputs": [
    {
     "name": "stdout",
     "output_type": "stream",
     "text": [
      "     timestamp      open      high       low     close      volume\n",
      "239          1  143.6875  149.1562  143.0000  145.2812   127146000\n",
      "238          2  145.4375  151.9843  141.5156  143.0000   106780100\n",
      "237          3  143.6250  153.0937  142.6250  152.3437   102365500\n",
      "236          4  153.2500  153.5937  142.1250  143.6250   113203000\n",
      "235          5  144.2812  145.7500  130.1562  142.9531   178392400\n",
      "..         ...       ...       ...       ...       ...         ...\n",
      "4          236  323.5400  332.9500  320.3600  321.7300  1389179454\n",
      "3          237  323.3500  339.0800  285.5400  296.2600  2099672006\n",
      "2          238  298.2100  313.8400  218.2600  257.7500  5888710884\n",
      "1          239  247.9800  294.8800  243.9000  290.4800  2798273802\n",
      "0          240  285.3100  297.8700  272.9900  295.4400  1499792747\n",
      "\n",
      "[240 rows x 6 columns]\n"
     ]
    }
   ],
   "source": [
    "from matplotlib import cm\n",
    "import datetime as dt\n",
    "rowNum = 1\n",
    "timeRow = []\n",
    "for index, row in stock_data.iterrows():\n",
    "    timeRow.append(rowNum)\n",
    "    rowNum += 1\n",
    "stock_data['timestamp'] = timeRow\n",
    "\n",
    "X = stock_data[['timestamp', 'low', 'high', 'open']]\n",
    "y = stock_data['close']\n",
    "print(stock_data)"
   ]
  },
  {
   "cell_type": "code",
   "execution_count": 26,
   "metadata": {},
   "outputs": [],
   "source": [
    "from sklearn.metrics import mean_squared_error\n",
    "\n",
    "def plot_learning_curves(model, X, y):\n",
    "    X_train, X_val, y_train, y_val = train_test_split(X, y, test_size=0.2, random_state=10)\n",
    "    \n",
    "    train_errors, val_errors = [], []\n",
    "    \n",
    "    for m in range(1, len(X_train)):\n",
    "        model.fit(X_train[:m], y_train[:m])\n",
    "        y_train_predict = model.predict(X_train[:m])\n",
    "        y_val_predict = model.predict(X_val)\n",
    "        train_errors.append(mean_squared_error(y_train[:m], y_train_predict))\n",
    "        val_errors.append(mean_squared_error(y_val, y_val_predict))\n",
    "        \n",
    "    plt.plot(np.sqrt(train_errors), \"r-+\", linewidth=2, label=\"train\")\n",
    "    plt.plot(np.sqrt(val_errors), \"b-\", linewidth=3, label=\"val\")\n",
    "    plt.legend(loc=\"upper right\", fontsize=14)   # not shown in the book\n",
    "    plt.xlabel(\"Training set size\", fontsize=14) # not shown\n",
    "    plt.ylabel(\"RMSE\", fontsize=14)              # not shown"
   ]
  },
  {
   "cell_type": "markdown",
   "metadata": {},
   "source": [
    "## Ridge Regression (regularized regression)"
   ]
  },
  {
   "cell_type": "code",
   "execution_count": 27,
   "metadata": {},
   "outputs": [
    {
     "name": "stdout",
     "output_type": "stream",
     "text": [
      "Stock dataset\n",
      "ridge regression linear model intercept: 0.050166181625542094\n",
      "ridge regression linear model coeff:\n",
      "[ 0.00872125  0.64273312  0.83232051 -0.48166375]\n",
      "R-squared score (training): 0.998\n",
      "R-squared score (test): 0.998\n",
      "Number of non-zero features: 4\n"
     ]
    }
   ],
   "source": [
    "from sklearn.linear_model import Ridge\n",
    "X_train, X_test, y_train, y_test = train_test_split(X, y, random_state=0)\n",
    "linridge = Ridge(alpha=20.0).fit(X_train, y_train)\n",
    "\n",
    "print('Stock dataset')\n",
    "print('ridge regression linear model intercept: {}'\n",
    "     .format(linridge.intercept_))\n",
    "print('ridge regression linear model coeff:\\n{}'\n",
    "     .format(linridge.coef_))\n",
    "print('R-squared score (training): {:.3f}'\n",
    "     .format(linridge.score(X_train, y_train)))\n",
    "print('R-squared score (test): {:.3f}'\n",
    "     .format(linridge.score(X_test, y_test)))\n",
    "print('Number of non-zero features: {}'\n",
    "     .format(np.sum(linridge.coef_ != 0)))"
   ]
  },
  {
   "cell_type": "code",
   "execution_count": 28,
   "metadata": {},
   "outputs": [
    {
     "data": {
      "image/png": "[encoded data removed]",
      "text/plain": [
       "<Figure size 432x288 with 1 Axes>"
      ]
     },
     "metadata": {
      "needs_background": "light"
     },
     "output_type": "display_data"
    }
   ],
   "source": [
    "plot_learning_curves(linridge,  X,y)"
   ]
  },
  {
   "cell_type": "markdown",
   "metadata": {},
   "source": [
    "## Ridge regression (feature normalization)"
   ]
  },
  {
   "cell_type": "code",
   "execution_count": 9,
   "metadata": {},
   "outputs": [
    {
     "name": "stdout",
     "output_type": "stream",
     "text": [
      "Stock dataset\n",
      "ridge regression linear model intercept: 98.2645910775835\n",
      "ridge regression linear model coeff:\n",
      "[38.45554244 42.36824534 44.23752511 43.33608165]\n",
      "R-squared score (training): 0.877\n",
      "R-squared score (test): 0.861\n",
      "Number of non-zero features: 4\n"
     ]
    }
   ],
   "source": [
    "from sklearn.preprocessing import MinMaxScaler\n",
    "scaler = MinMaxScaler()\n",
    "\n",
    "from sklearn.linear_model import Ridge\n",
    "X_train, X_test, y_train, y_test = train_test_split(X, y, random_state = 0)\n",
    "\n",
    "X_train_scaled = scaler.fit_transform(X_train)\n",
    "X_test_scaled = scaler.transform(X_test)\n",
    "\n",
    "linridge = Ridge(alpha=20.0).fit(X_train_scaled, y_train)\n",
    "\n",
    "print('Stock dataset')\n",
    "print('ridge regression linear model intercept: {}'\n",
    "     .format(linridge.intercept_))\n",
    "print('ridge regression linear model coeff:\\n{}'\n",
    "     .format(linridge.coef_))\n",
    "print('R-squared score (training): {:.3f}'\n",
    "     .format(linridge.score(X_train_scaled, y_train)))\n",
    "print('R-squared score (test): {:.3f}'\n",
    "     .format(linridge.score(X_test_scaled, y_test)))\n",
    "print('Number of non-zero features: {}'\n",
    "     .format(np.sum(linridge.coef_ != 0)))"
   ]
  },
  {
   "cell_type": "code",
   "execution_count": 29,
   "metadata": {},
   "outputs": [
    {
     "data": {
      "image/png": "[encoded data removed]",
      "text/plain": [
       "<Figure size 432x288 with 1 Axes>"
      ]
     },
     "metadata": {
      "needs_background": "light"
     },
     "output_type": "display_data"
    }
   ],
   "source": [
    "plot_learning_curves(linridge,X,y)"
   ]
  },
  {
   "cell_type": "markdown",
   "metadata": {},
   "source": [
    "## Ridge regression with regularization parameter: alpha"
   ]
  },
  {
   "cell_type": "code",
   "execution_count": 14,
   "metadata": {},
   "outputs": [
    {
     "name": "stdout",
     "output_type": "stream",
     "text": [
      "Ridge regression: effect of alpha regularization parameter\n",
      "\n",
      "Alpha = 0.00\n",
      "num abs(coeff) > 1.0: 4, r-squared training: 1.00, r-squared test: 1.00\n",
      "\n",
      "Alpha = 1.00\n",
      "num abs(coeff) > 1.0: 4, r-squared training: 0.99, r-squared test: 0.99\n",
      "\n",
      "Alpha = 10.00\n",
      "num abs(coeff) > 1.0: 4, r-squared training: 0.94, r-squared test: 0.93\n",
      "\n",
      "Alpha = 20.00\n",
      "num abs(coeff) > 1.0: 4, r-squared training: 0.88, r-squared test: 0.86\n",
      "\n",
      "Alpha = 50.00\n",
      "num abs(coeff) > 1.0: 4, r-squared training: 0.69, r-squared test: 0.67\n",
      "\n",
      "Alpha = 100.00\n",
      "num abs(coeff) > 1.0: 4, r-squared training: 0.50, r-squared test: 0.48\n",
      "\n",
      "Alpha = 1000.00\n",
      "num abs(coeff) > 1.0: 4, r-squared training: 0.08, r-squared test: 0.07\n",
      "\n"
     ]
    }
   ],
   "source": [
    "print('Ridge regression: effect of alpha regularization parameter\\n')\n",
    "for this_alpha in [0, 1, 10, 20, 50, 100, 1000]:\n",
    "    linridge = Ridge(alpha = this_alpha).fit(X_train_scaled, y_train)\n",
    "    r2_train = linridge.score(X_train_scaled, y_train)\n",
    "    r2_test = linridge.score(X_test_scaled, y_test)\n",
    "    num_coeff_bigger = np.sum(abs(linridge.coef_) > 1.0)\n",
    "    print('Alpha = {:.2f}\\nnum abs(coeff) > 1.0: {}, \\\n",
    "r-squared training: {:.2f}, r-squared test: {:.2f}\\n'\n",
    "         .format(this_alpha, num_coeff_bigger, r2_train, r2_test))"
   ]
  },
  {
   "cell_type": "markdown",
   "metadata": {},
   "source": [
    "## Lasso Regression"
   ]
  },
  {
   "cell_type": "code",
   "execution_count": 20,
   "metadata": {},
   "outputs": [
    {
     "name": "stdout",
     "output_type": "stream",
     "text": [
      "Stock dataset\n",
      "lasso regression linear model intercept: 89.19810034204995\n",
      "lasso regression linear model coeff:\n",
      "[  6.93655394  37.01612056 173.33301446   0.        ]\n",
      "Non-zero features: 3\n",
      "R-squared score (training): 0.975\n",
      "R-squared score (test): 0.973\n",
      "\n",
      "Features with non-zero weight (sorted by absolute magnitude):\n",
      "\thigh, 173.333\n",
      "\tlow, 37.016\n",
      "\ttimestamp, 6.937\n"
     ]
    }
   ],
   "source": [
    "from sklearn.linear_model import Lasso\n",
    "from sklearn.preprocessing import MinMaxScaler\n",
    "scaler = MinMaxScaler()\n",
    "\n",
    "X_train, X_test, y_train, y_test = train_test_split(X, y, random_state = 0)\n",
    "\n",
    "X_train_scaled = scaler.fit_transform(X_train)\n",
    "X_test_scaled = scaler.transform(X_test)\n",
    "\n",
    "linlasso = Lasso(alpha=2.0, max_iter = 10000).fit(X_train_scaled, y_train)\n",
    "\n",
    "print('Stock dataset')\n",
    "print('lasso regression linear model intercept: {}'\n",
    "     .format(linlasso.intercept_))\n",
    "print('lasso regression linear model coeff:\\n{}'\n",
    "     .format(linlasso.coef_))\n",
    "print('Non-zero features: {}'\n",
    "     .format(np.sum(linlasso.coef_ != 0)))\n",
    "print('R-squared score (training): {:.3f}'\n",
    "     .format(linlasso.score(X_train_scaled, y_train)))\n",
    "print('R-squared score (test): {:.3f}\\n'\n",
    "     .format(linlasso.score(X_test_scaled, y_test)))\n",
    "print('Features with non-zero weight (sorted by absolute magnitude):')\n",
    "\n",
    "for e in sorted (list(zip(list(X), linlasso.coef_)),\n",
    "                key = lambda e: -abs(e[1])):\n",
    "    if e[1] != 0:\n",
    "        print('\\t{}, {:.3f}'.format(e[0], e[1]))"
   ]
  },
  {
   "cell_type": "code",
   "execution_count": 30,
   "metadata": {},
   "outputs": [
    {
     "name": "stderr",
     "output_type": "stream",
     "text": [
      "/Users/dantemonaldo/opt/anaconda3/lib/python3.7/site-packages/sklearn/linear_model/_coordinate_descent.py:476: ConvergenceWarning: Objective did not converge. You might want to increase the number of iterations. Duality gap: 0.0, tolerance: 0.0\n",
      "  positive)\n"
     ]
    },
    {
     "data": {
      "image/png": "[encoded data removed]",
      "text/plain": [
       "<Figure size 432x288 with 1 Axes>"
      ]
     },
     "metadata": {
      "needs_background": "light"
     },
     "output_type": "display_data"
    }
   ],
   "source": [
    "plot_learning_curves(linlasso,X,y)"
   ]
  },
  {
   "cell_type": "markdown",
   "metadata": {},
   "source": [
    "## Lasso regression with regularization parameter: alpha"
   ]
  },
  {
   "cell_type": "code",
   "execution_count": 22,
   "metadata": {},
   "outputs": [
    {
     "name": "stdout",
     "output_type": "stream",
     "text": [
      "Lasso regression: effect of alpha regularization\n",
      "parameter on number of features kept in final model\n",
      "\n",
      "Alpha = 0.50\n",
      "Features kept: 3, r-squared training: 1.00, r-squared test: 1.00\n",
      "\n",
      "Alpha = 1.00\n",
      "Features kept: 3, r-squared training: 0.99, r-squared test: 0.99\n",
      "\n",
      "Alpha = 2.00\n",
      "Features kept: 3, r-squared training: 0.98, r-squared test: 0.97\n",
      "\n",
      "Alpha = 3.00\n",
      "Features kept: 2, r-squared training: 0.95, r-squared test: 0.95\n",
      "\n",
      "Alpha = 5.00\n",
      "Features kept: 2, r-squared training: 0.88, r-squared test: 0.87\n",
      "\n",
      "Alpha = 10.00\n",
      "Features kept: 2, r-squared training: 0.54, r-squared test: 0.52\n",
      "\n",
      "Alpha = 20.00\n",
      "Features kept: 0, r-squared training: 0.00, r-squared test: -0.00\n",
      "\n",
      "Alpha = 50.00\n",
      "Features kept: 0, r-squared training: 0.00, r-squared test: -0.00\n",
      "\n"
     ]
    }
   ],
   "source": [
    "print('Lasso regression: effect of alpha regularization\\n\\\n",
    "parameter on number of features kept in final model\\n')\n",
    "\n",
    "for alpha in [0.5, 1, 2, 3, 5, 10, 20, 50]:\n",
    "    linlasso = Lasso(alpha, max_iter = 10000).fit(X_train_scaled, y_train)\n",
    "    r2_train = linlasso.score(X_train_scaled, y_train)\n",
    "    r2_test = linlasso.score(X_test_scaled, y_test)\n",
    "    \n",
    "    print('Alpha = {:.2f}\\nFeatures kept: {}, r-squared training: {:.2f}, \\\n",
    "r-squared test: {:.2f}\\n'\n",
    "         .format(alpha, np.sum(linlasso.coef_ != 0), r2_train, r2_test))"
   ]
  },
  {
   "cell_type": "markdown",
   "metadata": {},
   "source": [
    "###### -- everything below is from another notebook"
   ]
  },
  {
   "cell_type": "markdown",
   "metadata": {},
   "source": [
    "# Regularized Linear Regression"
   ]
  },
  {
   "cell_type": "markdown",
   "metadata": {},
   "source": [
    "## Ridge Regression"
   ]
  },
  {
   "cell_type": "code",
   "execution_count": 100,
   "metadata": {},
   "outputs": [
    {
     "name": "stdout",
     "output_type": "stream",
     "text": [
      "ridge regression linear model intercept: 0.05016618162548525\n",
      "ridge regression linear model coeff:\n",
      "[ 0.00872125  0.64273312  0.83232051 -0.48166375]\n",
      "R-squared score (training): 0.998\n",
      "R-squared score (test): 0.998\n",
      "Number of non-zero features: 4\n"
     ]
    }
   ],
   "source": [
    "from sklearn.linear_model import Ridge\n",
    "X_train, X_test, y_train, y_test = train_test_split(X, y, random_state=0)\n",
    "\n",
    "linridge = Ridge(alpha=20.0).fit(X_train, y_train)\n",
    "\n",
    "print('ridge regression linear model intercept: {}'\n",
    "     .format(linridge.intercept_))\n",
    "print('ridge regression linear model coeff:\\n{}'\n",
    "     .format(linridge.coef_))\n",
    "print('R-squared score (training): {:.3f}'\n",
    "     .format(linridge.score(X_train, y_train)))\n",
    "print('R-squared score (test): {:.3f}'\n",
    "     .format(linridge.score(X_test, y_test)))\n",
    "print('Number of non-zero features: {}'\n",
    "     .format(np.sum(linridge.coef_ != 0)))"
   ]
  },
  {
   "cell_type": "code",
   "execution_count": 101,
   "metadata": {},
   "outputs": [
    {
     "name": "stdout",
     "output_type": "stream",
     "text": [
      "ridge regression linear model intercept: 98.2645910775835\n",
      "ridge regression linear model coeff:\n",
      "[38.45554244 42.36824534 44.23752511 43.33608165]\n",
      "R-squared score (training): 0.877\n",
      "R-squared score (test): 0.861\n",
      "Number of non-zero features: 4\n"
     ]
    }
   ],
   "source": [
    "from sklearn.preprocessing import MinMaxScaler\n",
    "scaler = MinMaxScaler()\n",
    "\n",
    "from sklearn.linear_model import Ridge\n",
    "X_train, X_test, y_train, y_test = train_test_split(X, y, random_state = 0)\n",
    "\n",
    "X_train_scaled = scaler.fit_transform(X_train)\n",
    "X_test_scaled = scaler.transform(X_test)\n",
    "\n",
    "linridge = Ridge(alpha=20.0).fit(X_train_scaled, y_train)\n",
    "\n",
    "print('ridge regression linear model intercept: {}'\n",
    "     .format(linridge.intercept_))\n",
    "print('ridge regression linear model coeff:\\n{}'\n",
    "     .format(linridge.coef_))\n",
    "print('R-squared score (training): {:.3f}'\n",
    "     .format(linridge.score(X_train_scaled, y_train)))\n",
    "print('R-squared score (test): {:.3f}'\n",
    "     .format(linridge.score(X_test_scaled, y_test)))\n",
    "print('Number of non-zero features: {}'\n",
    "     .format(np.sum(linridge.coef_ != 0)))"
   ]
  },
  {
   "cell_type": "code",
   "execution_count": 102,
   "metadata": {},
   "outputs": [
    {
     "name": "stdout",
     "output_type": "stream",
     "text": [
      "Ridge regression: effect of alpha regularization parameter\n",
      "\n",
      "Alpha = 0.00\n",
      "num abs(coeff) > 1.0: 4, r-squared training: 1.00, r-squared test: 1.00\n",
      "\n",
      "Alpha = 1.00\n",
      "num abs(coeff) > 1.0: 4, r-squared training: 0.99, r-squared test: 0.99\n",
      "\n",
      "Alpha = 10.00\n",
      "num abs(coeff) > 1.0: 4, r-squared training: 0.94, r-squared test: 0.93\n",
      "\n",
      "Alpha = 20.00\n",
      "num abs(coeff) > 1.0: 4, r-squared training: 0.88, r-squared test: 0.86\n",
      "\n",
      "Alpha = 50.00\n",
      "num abs(coeff) > 1.0: 4, r-squared training: 0.69, r-squared test: 0.67\n",
      "\n",
      "Alpha = 100.00\n",
      "num abs(coeff) > 1.0: 4, r-squared training: 0.50, r-squared test: 0.48\n",
      "\n",
      "Alpha = 1000.00\n",
      "num abs(coeff) > 1.0: 4, r-squared training: 0.08, r-squared test: 0.07\n",
      "\n"
     ]
    }
   ],
   "source": [
    "print('Ridge regression: effect of alpha regularization parameter\\n')\n",
    "for this_alpha in [0, 1, 10, 20, 50, 100, 1000]:\n",
    "    linridge = Ridge(alpha = this_alpha).fit(X_train_scaled, y_train)\n",
    "    r2_train = linridge.score(X_train_scaled, y_train)\n",
    "    r2_test = linridge.score(X_test_scaled, y_test)\n",
    "    num_coeff_bigger = np.sum(abs(linridge.coef_) > 1.0)\n",
    "    print('Alpha = {:.2f}\\nnum abs(coeff) > 1.0: {}, \\\n",
    "r-squared training: {:.2f}, r-squared test: {:.2f}\\n'\n",
    "         .format(this_alpha, num_coeff_bigger, r2_train, r2_test))"
   ]
  },
  {
   "cell_type": "markdown",
   "metadata": {},
   "source": [
    "## Lasso Regression"
   ]
  },
  {
   "cell_type": "code",
   "execution_count": 103,
   "metadata": {},
   "outputs": [
    {
     "name": "stdout",
     "output_type": "stream",
     "text": [
      "lasso regression linear model intercept: 89.19810034204994\n",
      "lasso regression linear model coeff:\n",
      "[  6.93655394  37.01612056 173.33301446   0.        ]\n",
      "Non-zero features: 3\n",
      "R-squared score (training): 0.975\n",
      "R-squared score (test): 0.973\n",
      "\n",
      "Features with non-zero weight (sorted by absolute magnitude):\n",
      "\thigh, 173.333\n",
      "\tlow, 37.016\n",
      "\ttimestamp, 6.937\n"
     ]
    }
   ],
   "source": [
    "from sklearn.linear_model import Lasso\n",
    "from sklearn.preprocessing import MinMaxScaler\n",
    "scaler = MinMaxScaler()\n",
    "\n",
    "X_train, X_test, y_train, y_test = train_test_split(X, y, random_state = 0)\n",
    "\n",
    "X_train_scaled = scaler.fit_transform(X_train)\n",
    "X_test_scaled = scaler.transform(X_test)\n",
    "\n",
    "linlasso = Lasso(alpha=2.0, max_iter = 10000).fit(X_train_scaled, y_train)\n",
    "\n",
    "print('lasso regression linear model intercept: {}'\n",
    "     .format(linlasso.intercept_))\n",
    "print('lasso regression linear model coeff:\\n{}'\n",
    "     .format(linlasso.coef_))\n",
    "print('Non-zero features: {}'\n",
    "     .format(np.sum(linlasso.coef_ != 0)))\n",
    "print('R-squared score (training): {:.3f}'\n",
    "     .format(linlasso.score(X_train_scaled, y_train)))\n",
    "print('R-squared score (test): {:.3f}\\n'\n",
    "     .format(linlasso.score(X_test_scaled, y_test)))\n",
    "print('Features with non-zero weight (sorted by absolute magnitude):')\n",
    "\n",
    "for e in sorted (list(zip(list(X), linlasso.coef_)),\n",
    "                key = lambda e: -abs(e[1])):\n",
    "    if e[1] != 0:\n",
    "        print('\\t{}, {:.3f}'.format(e[0], e[1]))"
   ]
  },
  {
   "cell_type": "code",
   "execution_count": 104,
   "metadata": {},
   "outputs": [
    {
     "name": "stdout",
     "output_type": "stream",
     "text": [
      "Lasso regression: effect of alpha regularization\n",
      "parameter on number of features kept in final model\n",
      "\n",
      "Alpha = 0.50\n",
      "Features kept: 3, r-squared training: 1.00, r-squared test: 1.00\n",
      "\n",
      "Alpha = 1.00\n",
      "Features kept: 3, r-squared training: 0.99, r-squared test: 0.99\n",
      "\n",
      "Alpha = 2.00\n",
      "Features kept: 3, r-squared training: 0.98, r-squared test: 0.97\n",
      "\n",
      "Alpha = 3.00\n",
      "Features kept: 2, r-squared training: 0.95, r-squared test: 0.95\n",
      "\n",
      "Alpha = 5.00\n",
      "Features kept: 2, r-squared training: 0.88, r-squared test: 0.87\n",
      "\n",
      "Alpha = 10.00\n",
      "Features kept: 2, r-squared training: 0.54, r-squared test: 0.52\n",
      "\n",
      "Alpha = 20.00\n",
      "Features kept: 0, r-squared training: 0.00, r-squared test: -0.00\n",
      "\n",
      "Alpha = 50.00\n",
      "Features kept: 0, r-squared training: 0.00, r-squared test: -0.00\n",
      "\n"
     ]
    }
   ],
   "source": [
    "print('Lasso regression: effect of alpha regularization\\n\\\n",
    "parameter on number of features kept in final model\\n')\n",
    "\n",
    "for alpha in [0.5, 1, 2, 3, 5, 10, 20, 50]:\n",
    "    linlasso = Lasso(alpha, max_iter = 10000).fit(X_train_scaled, y_train)\n",
    "    r2_train = linlasso.score(X_train_scaled, y_train)\n",
    "    r2_test = linlasso.score(X_test_scaled, y_test)\n",
    "    \n",
    "    print('Alpha = {:.2f}\\nFeatures kept: {}, r-squared training: {:.2f}, \\\n",
    "r-squared test: {:.2f}\\n'\n",
    "         .format(alpha, np.sum(linlasso.coef_ != 0), r2_train, r2_test))"
   ]
  },
  {
   "cell_type": "markdown",
   "metadata": {},
   "source": [
    "# Polynomial Regression"
   ]
  },
  {
   "cell_type": "code",
   "execution_count": 167,
   "metadata": {},
   "outputs": [],
   "source": [
    "from sklearn.preprocessing import PolynomialFeatures\n",
    "from sklearn.model_selection import KFold # import k-fold validation\n",
    "from sklearn.metrics import classification_report\n",
    "from sklearn.metrics import mean_squared_error\n",
    "from math import sqrt\n",
    "from sklearn.model_selection import train_test_split\n",
    "\n",
    "def plot_learning_curves(model, X, y):\n",
    "    X_train, X_val, y_train, y_val = train_test_split(X, y, test_size=0.2, random_state=10)\n",
    "    \n",
    "    train_errors, val_errors = [], []\n",
    "    \n",
    "    for m in range(1, len(X_train)):\n",
    "        model.fit(X_train[:m], y_train[:m])\n",
    "        y_train_predict = model.predict(X_train[:m])\n",
    "        y_val_predict = model.predict(X_val)\n",
    "        train_errors.append(mean_squared_error(y_train[:m], y_train_predict))\n",
    "        val_errors.append(mean_squared_error(y_val, y_val_predict))\n",
    "        \n",
    "    plt.plot(np.sqrt(train_errors), \"r-+\", linewidth=2, label=\"train\")\n",
    "    plt.plot(np.sqrt(val_errors), \"b-\", linewidth=3, label=\"val\")\n",
    "    plt.legend(loc=\"upper right\", fontsize=14)   # not shown in the book\n",
    "    plt.xlabel(\"Training set size\", fontsize=14) # not shown\n",
    "    plt.ylabel(\"RMSE\", fontsize=14)              # not shown"
   ]
  },
  {
   "cell_type": "code",
   "execution_count": 209,
   "metadata": {},
   "outputs": [
    {
     "name": "stdout",
     "output_type": "stream",
     "text": [
      "POLYNOMIAL DEGREE-2 W/ LINEAR REGRESSION\n",
      "(poly deg 2) linear model coeff (w):\n",
      "[ 0.00000000e+00 -7.99347520e-02  4.34919318e-01  1.26693145e+00\n",
      " -6.02763967e-01 -9.42272764e-05 -1.54505944e-04  2.97197557e-03\n",
      " -2.18838683e-03  1.61169760e-03  9.02590734e-03 -1.13616915e-02\n",
      "  3.05089655e-03 -1.98144026e-02  1.70040618e-02]\n",
      "(poly deg 2) linear model intercept (b): -5.150\n",
      "(poly deg 2) R-squared score (training): 0.998\n",
      "(poly deg 2) R-squared score (test): 0.998\n",
      "(poly deg 2) RMSE score (train): 2.618\n",
      "(poly deg 2) RMSE score (test): 2.882\n",
      "\n",
      "POLYNOMIAL DEGREE-3 W/ LINEAR REGRESSION\n",
      "(poly deg 3) linear model coeff (w):\n",
      "[-5.16075744e+06  2.80254772e-01  2.09841510e+00 -7.94064812e-01\n",
      " -2.73281880e-01 -2.24025650e-03  6.81348823e-03 -7.94573412e-04\n",
      " -6.62889712e-03  3.31144437e-02 -1.74254272e-01  9.98042800e-02\n",
      "  1.68572138e-01 -1.64736814e-01  3.76296992e-02 -7.48529833e-06\n",
      " -7.81697797e-05  8.51464694e-05  1.50377400e-05 -5.37922390e-04\n",
      "  6.61120185e-04  4.07197303e-04 -1.47686763e-03  2.32154330e-03\n",
      " -1.38384431e-03  2.19277606e-04  2.55870829e-03 -2.93092885e-03\n",
      "  7.32178248e-03 -1.96026558e-02  1.24028241e-02  1.62832347e-03\n",
      " -1.18104444e-02  2.10996644e-02 -1.08867762e-02]\n",
      "(poly deg 3) linear model intercept (b): 5160754.244\n",
      "(poly deg 3) R-squared score (training): 0.998\n",
      "(poly deg 3) R-squared score (test): 0.996\n",
      "(poly deg 3) RMSE score (train): 2.503\n",
      "(poly deg 3) RMSE score (test): 4.056\n",
      "\n",
      "POLYNOMIAL DEGREE-5 W/ LINEAR REGRESSION\n",
      "(poly deg 5) linear model coeff (w):\n",
      "[-9.05022137e+01  5.84092967e+00 -2.74098276e+01 -5.21734757e+01\n",
      "  5.56689738e+01 -7.64451613e-02 -1.43441560e+00 -1.95321974e-01\n",
      "  1.57694181e+00  3.28750260e-01  5.39735131e+00 -4.28394432e+00\n",
      "  1.27825159e+00 -6.39027462e+00  3.97979124e+00  2.41108481e-04\n",
      " -6.47972411e-03 -3.84085030e-03  1.19437478e-02 -1.60909337e-01\n",
      "  3.35925743e-01  7.67777245e-03 -3.20320189e-02 -2.56615868e-01\n",
      "  1.04633774e-01 -4.37949700e-02 -1.08612814e-01  3.19862001e-01\n",
      " -2.16015696e-01  3.68297809e-01 -4.65975107e-01 -1.95806137e-01\n",
      "  7.84081106e-01 -8.29257431e-01  3.85952551e-01 -2.53790294e-06\n",
      " -3.32427561e-05  4.74756679e-05 -1.23842577e-05  2.81519790e-04\n",
      " -1.12955769e-03  7.65245757e-04  1.21811871e-03 -1.43800934e-03\n",
      "  2.89209852e-04 -3.29696247e-03  2.16982692e-02 -1.07139305e-02\n",
      " -3.53720576e-02  2.74048389e-02 -4.35436697e-03  7.85289951e-03\n",
      "  8.92692021e-03 -1.96818853e-02  7.55216857e-03 -7.63933158e-03\n",
      " -2.79167807e-03  3.39855675e-02  1.04205161e-02 -2.46598995e-02\n",
      " -3.43412248e-02  3.76224684e-02 -1.12878605e-01  1.29870827e-01\n",
      " -2.03429442e-02  1.13436855e-02 -8.53009459e-02  1.78963275e-01\n",
      " -1.57737702e-01  4.34850860e-02  1.05888978e-08 -1.04838826e-07\n",
      " -1.03282437e-07  1.98034781e-07 -2.32340199e-06  7.39782532e-06\n",
      " -2.59162710e-06 -3.56472207e-06  2.59833656e-07  8.05679687e-07\n",
      " -4.55376020e-07 -2.52354154e-05  2.93406978e-05  1.48889469e-04\n",
      " -2.61487142e-04  1.05177675e-04 -9.81857000e-05  1.55556546e-04\n",
      " -2.81901618e-05 -2.53453331e-05 -9.10704958e-05  3.06154787e-04\n",
      "  4.88450128e-05 -1.20571654e-03  1.48848849e-03 -8.08105008e-04\n",
      "  9.92510554e-04 -7.07413467e-04 -6.23160307e-04  6.88530472e-04\n",
      " -1.45538969e-04 -2.72989648e-04  6.23065053e-04 -1.67641617e-04\n",
      " -1.26023165e-04 -1.02283271e-04  2.24491878e-04  3.61735865e-04\n",
      "  2.04104493e-03 -5.20126443e-03  1.85229669e-03  1.03447362e-03\n",
      " -8.16920296e-03  1.52453944e-02 -6.67671725e-03  2.57430313e-06\n",
      " -3.23406650e-03  1.37644196e-02 -1.94043369e-02  8.09362525e-03\n",
      "  8.86256426e-05 -3.46589615e-04  2.62398782e-03 -7.73137587e-03\n",
      "  8.98565978e-03 -3.45247704e-03]\n",
      "(poly deg 5) linear model intercept (b): 794.004\n",
      "(poly deg 5) R-squared score (training): 0.998\n",
      "(poly deg 5) R-squared score (test): 0.385\n",
      "(poly deg 5) RMSE score (train): 2.862\n",
      "(poly deg 5) RMSE score (test): 50.208\n",
      "\n",
      "POLYNOMIAL DEGREE-10 W/ LINEAR REGRESSION\n",
      "(poly deg 10) linear model coeff (w):\n",
      "[-2.81390980e-14 -1.06758650e-14 -1.60538481e-14 ... -1.29297153e-13\n",
      " -4.42180777e-13  4.35094481e-13]\n",
      "(poly deg 10) linear model intercept (b): 31.227\n",
      "(poly deg 10) R-squared score (training): 1.000\n",
      "(poly deg 10) R-squared score (test): -35325.746\n",
      "(poly deg 10) RMSE score (train): 0.257\n",
      "(poly deg 10) RMSE score (test): 12028.557\n",
      "\n"
     ]
    },
    {
     "data": {
      "image/png": "[encoded data removed]",
      "text/plain": [
       "<Figure size 432x288 with 1 Axes>"
      ]
     },
     "metadata": {
      "needs_background": "light"
     },
     "output_type": "display_data"
    }
   ],
   "source": [
    "for degree in [2, 3, 5,10]:\n",
    "    poly = PolynomialFeatures(degree)\n",
    "    X_F1_poly = poly.fit_transform(X)\n",
    "\n",
    "    X_train, X_test, y_train, y_test = train_test_split(X_F1_poly, y, random_state=0)\n",
    "    linreg = LinearRegression().fit(X_train, y_train)\n",
    "\n",
    "    print('POLYNOMIAL DEGREE-{} W/ LINEAR REGRESSION'.format(degree))\n",
    "    print('(poly deg {}) linear model coeff (w):\\n{}'\n",
    "         .format(degree, linreg.coef_))\n",
    "    print('(poly deg {}) linear model intercept (b): {:.3f}'\n",
    "         .format(degree, linreg.intercept_))\n",
    "    print('(poly deg {}) R-squared score (training): {:.3f}'\n",
    "         .format(degree, linreg.score(X_train, y_train)))\n",
    "    print('(poly deg {}) R-squared score (test): {:.3f}'\n",
    "         .format(degree, linreg.score(X_test, y_test)))\n",
    "    print('(poly deg {}) RMSE score (train): {:.3f}'\n",
    "         .format(degree, sqrt(mean_squared_error(y_train, linreg.predict(X_train)))))\n",
    "    print('(poly deg {}) RMSE score (test): {:.3f}\\n'\n",
    "         .format(degree, sqrt(mean_squared_error(y_test, linreg.predict(X_test)))))\n",
    "\n",
    "plot_learning_curves(linreg,  X,y)\n"
   ]
  },
  {
   "cell_type": "code",
   "execution_count": 211,
   "metadata": {},
   "outputs": [
    {
     "name": "stdout",
     "output_type": "stream",
     "text": [
      "POLYNOMIAL DEGREE-2 W/ RIDGE REGRESSION\n",
      "(poly deg 2) linear model coeff (w):\n",
      "[ 0.00000000e+00 -7.98426205e-02  4.34916393e-01  1.25916204e+00\n",
      " -5.95295586e-01 -9.24276543e-05 -1.60006468e-04  2.95921300e-03\n",
      " -2.17243998e-03  1.61157806e-03  9.03975420e-03 -1.13707216e-02\n",
      "  3.04643323e-03 -1.97743849e-02  1.69646238e-02]\n",
      "(poly deg 2) linear model intercept (b): -5.109\n",
      "(poly deg 2) R-squared score (training): 0.998\n",
      "(poly deg 2) R-squared score (test): 0.998\n",
      "(poly deg 2) RMSE score (train): 2.618\n",
      "(poly deg 2) RMSE score (test): 2.880\n",
      "\n",
      "POLYNOMIAL DEGREE-3 W/ RIDGE REGRESSION\n",
      "(poly deg 3) linear model coeff (w):\n",
      "[ 0.00000000e+00  2.78549423e-01  1.93373813e+00 -5.95724884e-01\n",
      " -2.87435536e-01 -1.82480363e-03  6.07140566e-03 -7.96322946e-04\n",
      " -6.73928760e-03  2.97403681e-02 -1.68778384e-01  9.75296836e-02\n",
      "  1.66953755e-01 -1.64688418e-01  3.96188533e-02 -3.62636305e-06\n",
      "  1.27449755e-05 -2.19172077e-06  7.35113346e-06 -3.42879300e-04\n",
      " -8.89801191e-05  6.90418776e-04 -9.56618568e-04  2.08484137e-03\n",
      " -1.39259056e-03  5.03336806e-04  2.18370630e-03 -3.43716470e-03\n",
      "  7.87150619e-03 -1.95574626e-02  1.27510279e-02  1.46507427e-03\n",
      " -1.22654311e-02  2.17281405e-02 -1.12439100e-02]\n",
      "(poly deg 3) linear model intercept (b): -7.119\n",
      "(poly deg 3) R-squared score (training): 0.999\n",
      "(poly deg 3) R-squared score (test): 0.997\n",
      "(poly deg 3) RMSE score (train): 2.158\n",
      "(poly deg 3) RMSE score (test): 3.415\n",
      "\n",
      "POLYNOMIAL DEGREE-5 W/ RIDGE REGRESSION\n",
      "(poly deg 5) linear model coeff (w):\n",
      "[ 7.38357250e-03 -1.68688875e-01 -7.37668206e-01 -6.85124766e-01\n",
      " -6.26502182e-01  6.02873047e-03 -1.21255120e+00  6.58704321e-01\n",
      "  4.98850007e-01  6.05727694e-01  9.22550093e-02 -1.45928444e-01\n",
      " -1.79099498e-01 -1.74416408e-01 -1.18617659e-01  5.77197406e-06\n",
      " -1.00181590e-02 -1.51004708e-03  1.12914627e-02 -1.17509427e-01\n",
      "  2.47570951e-01  1.52610356e-02 -7.73346364e-02 -9.45660278e-02\n",
      "  2.76167118e-02 -3.32278819e-02 -1.59669487e-02  1.63827205e-01\n",
      "  2.02372586e-01 -5.29956153e-01  1.09506018e-01 -1.40707302e-01\n",
      "  2.79852462e-01  6.56921190e-03 -4.32652169e-02  2.99145620e-06\n",
      "  1.12605863e-05 -1.41749277e-05 -3.44318583e-06  1.54947635e-04\n",
      " -1.58665359e-04 -2.78370866e-05  3.71365727e-04 -5.62231738e-04\n",
      "  2.28336667e-04 -2.95718200e-03  1.49167137e-02 -5.17488019e-03\n",
      " -2.90908575e-02  2.73490384e-02 -9.10255280e-03  6.51494144e-03\n",
      "  8.95245247e-03 -2.15334990e-02  1.01195252e-02 -5.82893937e-03\n",
      "  2.85447607e-03  2.12003463e-02  2.58609759e-02 -6.85264075e-02\n",
      "  4.87248419e-03 -2.72061752e-03 -2.76747286e-02  8.95885402e-02\n",
      " -3.23192362e-02  8.39547768e-03 -3.35085414e-02  6.01133750e-02\n",
      " -6.54153559e-02  2.31126290e-02  1.27149305e-08 -2.94703370e-07\n",
      " -8.32669700e-08  3.10486967e-07 -6.06191881e-07  2.95213917e-07\n",
      "  1.58805447e-06 -2.58445981e-06  5.42442732e-06 -4.01431313e-06\n",
      "  2.36400602e-06 -6.46246684e-05  5.98781273e-05  1.54654560e-04\n",
      " -1.93865235e-04  4.09342167e-05 -5.53064577e-05  2.31107122e-05\n",
      "  6.76379359e-05 -3.48345369e-05 -7.08358535e-05  2.41559631e-04\n",
      "  3.64352516e-05 -8.00800479e-04  9.36298540e-04 -5.51170170e-04\n",
      "  7.44806191e-04 -7.56614580e-04 -9.40794080e-05  3.86864399e-04\n",
      " -3.74831215e-05 -5.38681400e-04  1.15262240e-03 -7.41583101e-04\n",
      "  9.26618685e-05 -8.51633953e-05  1.51582433e-04  3.31212328e-04\n",
      "  1.73818078e-03 -4.29336357e-03  1.48381329e-03 -8.15347676e-04\n",
      " -1.99856242e-03  7.95975934e-03 -3.97277509e-03  1.26909666e-03\n",
      " -4.32545290e-03  9.08150933e-03 -1.14613576e-02  4.79874316e-03\n",
      "  7.47525458e-05 -1.61047274e-03  5.73484248e-03 -9.29835358e-03\n",
      "  7.80712152e-03 -2.56976289e-03]\n",
      "(poly deg 5) linear model intercept (b): 104.234\n",
      "(poly deg 5) R-squared score (training): 1.000\n",
      "(poly deg 5) R-squared score (test): 0.644\n",
      "(poly deg 5) RMSE score (train): 1.110\n",
      "(poly deg 5) RMSE score (test): 38.187\n",
      "\n",
      "POLYNOMIAL DEGREE-10 W/ RIDGE REGRESSION\n",
      "(poly deg 10) linear model coeff (w):\n",
      "[ 0.00000000e+00  4.72190174e-36  8.94190420e-35 ... -1.49918086e-19\n",
      "  1.80836643e-19  8.09819868e-19]\n",
      "(poly deg 10) linear model intercept (b): 103.230\n",
      "(poly deg 10) R-squared score (training): 0.979\n",
      "(poly deg 10) R-squared score (test): -0.709\n",
      "(poly deg 10) RMSE score (train): 8.794\n",
      "(poly deg 10) RMSE score (test): 83.665\n",
      "\n"
     ]
    },
    {
     "name": "stderr",
     "output_type": "stream",
     "text": [
      "C:\\ProgramData\\Anaconda3\\lib\\site-packages\\sklearn\\linear_model\\_ridge.py:148: LinAlgWarning: Ill-conditioned matrix (rcond=5.66151e-18): result may not be accurate.\n",
      "  overwrite_a=True).T\n",
      "C:\\ProgramData\\Anaconda3\\lib\\site-packages\\sklearn\\linear_model\\_ridge.py:190: UserWarning: Singular matrix in solving dual problem. Using least-squares solution instead.\n",
      "  warnings.warn(\"Singular matrix in solving dual problem. Using \"\n"
     ]
    },
    {
     "data": {
      "image/png": "[encoded data removed]",
      "text/plain": [
       "<Figure size 432x288 with 1 Axes>"
      ]
     },
     "metadata": {
      "needs_background": "light"
     },
     "output_type": "display_data"
    }
   ],
   "source": [
    "for degree in [2, 3, 5, 10]:\n",
    "    poly = PolynomialFeatures(degree)\n",
    "    X_F1_poly = poly.fit_transform(X)\n",
    "\n",
    "    X_train, X_test, y_train, y_test = train_test_split(X_F1_poly, y, random_state=0)\n",
    "    linreg = Ridge().fit(X_train, y_train)\n",
    "\n",
    "    print('POLYNOMIAL DEGREE-{} W/ RIDGE REGRESSION'.format(degree))\n",
    "    print('(poly deg {}) linear model coeff (w):\\n{}'\n",
    "         .format(degree, linreg.coef_))\n",
    "    print('(poly deg {}) linear model intercept (b): {:.3f}'\n",
    "         .format(degree, linreg.intercept_))\n",
    "    print('(poly deg {}) R-squared score (training): {:.3f}'\n",
    "         .format(degree, linreg.score(X_train, y_train)))\n",
    "    print('(poly deg {}) R-squared score (test): {:.3f}'\n",
    "         .format(degree, linreg.score(X_test, y_test)))\n",
    "    print('(poly deg {}) RMSE score (train): {:.3f}'\n",
    "         .format(degree, sqrt(mean_squared_error(y_train, linreg.predict(X_train)))))\n",
    "    print('(poly deg {}) RMSE score (test): {:.3f}\\n'\n",
    "         .format(degree, sqrt(mean_squared_error(y_test, linreg.predict(X_test)))))\n",
    "\n",
    "plot_learning_curves(linreg,  X,y)"
   ]
  },
  {
   "cell_type": "code",
   "execution_count": null,
   "metadata": {},
   "outputs": [],
   "source": []
  },
  {
   "cell_type": "code",
   "execution_count": null,
   "metadata": {},
   "outputs": [],
   "source": []
  }
 ],
 "metadata": {
  "kernelspec": {
   "display_name": "Python 3",
   "language": "python",
   "name": "python3"
  },
  "language_info": {
   "codemirror_mode": {
    "name": "ipython",
    "version": 3
   },
   "file_extension": ".py",
   "mimetype": "text/x-python",
   "name": "python",
   "nbconvert_exporter": "python",
   "pygments_lexer": "ipython3",
   "version": "3.7.6"
  }
 },
 "nbformat": 4,
 "nbformat_minor": 4
}
