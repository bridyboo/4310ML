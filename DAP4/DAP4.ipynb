{
 "cells": [
  {
   "cell_type": "code",
   "execution_count": 1,
   "metadata": {},
   "outputs": [
    {
     "name": "stdout",
     "output_type": "stream",
     "text": [
      "Download complete.\n"
     ]
    }
   ],
   "source": [
    "import os\n",
    "import urllib\n",
    "\n",
    "# Download the data\n",
    "API_KEY = \"PO6RG0NM9390YF3A\"\n",
    "STOCK_SYMBOL = \"SPY\"\n",
    "INTERVAL = \"1min\"\n",
    "DATA_TYPE = \"MONTHLY\" # INTRADAY || DAILY || WEEKLY || MONTHLY\n",
    "\n",
    "if DATA_TYPE == \"intraday\":\n",
    "    DOWNLOAD_ROOT = f\"https://www.alphavantage.co/query?function=TIME_SERIES_INTRADAY&symbol={STOCK_SYMBOL}&interval={INTERVAL}&apikey={API_KEY}&datatype=csv&ouputsize=full\"\n",
    "else:\n",
    "    DOWNLOAD_ROOT = f\"https://www.alphavantage.co/query?function=TIME_SERIES_{DATA_TYPE}&symbol={STOCK_SYMBOL}&apikey={API_KEY}&datatype=csv&ouputsize=full\"\n",
    "filename = STOCK_SYMBOL+\"_\"+DATA_TYPE+\".csv\"\n",
    "datapath = \"rawdata/\"\n",
    "os.makedirs(datapath, exist_ok=True)\n",
    "urllib.request.urlretrieve(DOWNLOAD_ROOT, datapath+filename)\n",
    "print('Download complete.')"
   ]
  },
  {
   "cell_type": "code",
   "execution_count": 2,
   "metadata": {},
   "outputs": [
    {
     "name": "stdout",
     "output_type": "stream",
     "text": [
      "      timestamp      open      high       low     close      volume\n",
      "239  2000-06-30  143.6875  149.1562  143.0000  145.2812   127146000\n",
      "238  2000-07-31  145.4375  151.9843  141.5156  143.0000   106780100\n",
      "237  2000-08-31  143.6250  153.0937  142.6250  152.3437   102365500\n",
      "236  2000-09-29  153.2500  153.5937  142.1250  143.6250   113203000\n",
      "235  2000-10-31  144.2812  145.7500  130.1562  142.9531   178392400\n",
      "..          ...       ...       ...       ...       ...         ...\n",
      "4    2020-01-31  323.5400  332.9500  320.3600  321.7300  1389179454\n",
      "3    2020-02-28  323.3500  339.0800  285.5400  296.2600  2099672006\n",
      "2    2020-03-31  298.2100  313.8400  218.2600  257.7500  5888710884\n",
      "1    2020-04-30  247.9800  294.8800  243.9000  290.4800  2798273802\n",
      "0    2020-05-27  285.3100  302.2200  272.9900  301.6484  1658262704\n",
      "\n",
      "[240 rows x 6 columns]\n"
     ]
    }
   ],
   "source": [
    "import matplotlib.pyplot as plt\n",
    "import numpy as np\n",
    "import pandas as pd\n",
    "import datetime\n",
    "\n",
    "stock_data = pd.read_csv(datapath + filename, thousands=',')\n",
    "\n",
    "stock_data = stock_data.iloc[::-1]\n",
    "print(stock_data)"
   ]
  },
  {
   "cell_type": "code",
   "execution_count": 3,
   "metadata": {},
   "outputs": [],
   "source": [
    "import sys\n",
    "assert sys.version_info >= (3, 5)\n",
    "\n",
    "import sklearn\n",
    "assert sklearn.__version__ >= \"0.20\"\n",
    "\n",
    "import numpy as np\n",
    "import pandas as pd\n",
    "import os\n",
    "from sklearn.metrics import confusion_matrix\n",
    "from sklearn.metrics import classification_report\n",
    "from sklearn.model_selection import train_test_split\n",
    "\n",
    "%matplotlib inline\n",
    "import matplotlib as mpl\n",
    "import matplotlib.pyplot as plt\n",
    "mpl.rc('axes', labelsize=14)\n",
    "mpl.rc('xtick', labelsize=12)\n",
    "mpl.rc('ytick', labelsize=12)"
   ]
  },
  {
   "cell_type": "code",
   "execution_count": 4,
   "metadata": {},
   "outputs": [
    {
     "name": "stdout",
     "output_type": "stream",
     "text": [
      "     timestamp      open      high       low     close      volume\n",
      "239          1  143.6875  149.1562  143.0000  145.2812   127146000\n",
      "238          2  145.4375  151.9843  141.5156  143.0000   106780100\n",
      "237          3  143.6250  153.0937  142.6250  152.3437   102365500\n",
      "236          4  153.2500  153.5937  142.1250  143.6250   113203000\n",
      "235          5  144.2812  145.7500  130.1562  142.9531   178392400\n",
      "..         ...       ...       ...       ...       ...         ...\n",
      "4          236  323.5400  332.9500  320.3600  321.7300  1389179454\n",
      "3          237  323.3500  339.0800  285.5400  296.2600  2099672006\n",
      "2          238  298.2100  313.8400  218.2600  257.7500  5888710884\n",
      "1          239  247.9800  294.8800  243.9000  290.4800  2798273802\n",
      "0          240  285.3100  302.2200  272.9900  301.6484  1658262704\n",
      "\n",
      "[240 rows x 6 columns]\n"
     ]
    }
   ],
   "source": [
    "from matplotlib import cm\n",
    "import datetime as dt\n",
    "rowNum = 1\n",
    "timeRow = []\n",
    "for index, row in stock_data.iterrows():\n",
    "    timeRow.append(rowNum)\n",
    "    rowNum += 1\n",
    "stock_data['timestamp'] = timeRow\n",
    "\n",
    "X = stock_data[['timestamp', 'low', 'high', 'open']]\n",
    "y = stock_data['close']\n",
    "print(stock_data)"
   ]
  },
  {
   "cell_type": "markdown",
   "metadata": {},
   "source": [
    "# Linear Regression"
   ]
  },
  {
   "cell_type": "code",
   "execution_count": 5,
   "metadata": {},
   "outputs": [],
   "source": [
    "from sklearn.linear_model import LinearRegression\n",
    "\n",
    "X_train, X_test, y_train, y_test = train_test_split(X, y, random_state=0)\n",
    "\n",
    "linreg = LinearRegression().fit(X_train, y_train)"
   ]
  },
  {
   "cell_type": "code",
   "execution_count": 65,
   "metadata": {},
   "outputs": [
    {
     "name": "stdout",
     "output_type": "stream",
     "text": [
      "linear model coeff (w): [ 0.00864723  0.64401578  0.83853151 -0.48921793]\n",
      "linear model intercept (b): 0.044\n",
      "R-squared score (training): 0.998\n",
      "R-squared score (test): 0.998\n",
      "RMSE: 2.628\n"
     ]
    },
    {
     "data": {
      "image/png": "[encoded data removed]",
      "text/plain": [
       "<Figure size 360x288 with 1 Axes>"
      ]
     },
     "metadata": {
      "needs_background": "light"
     },
     "output_type": "display_data"
    }
   ],
   "source": [
    "from sklearn import metrics\n",
    "\n",
    "print('linear model coeff (w): {}'.format(linreg.coef_))\n",
    "\n",
    "print('linear model intercept (b): {:.3f}'.format(linreg.intercept_))\n",
    "\n",
    "print('R-squared score (training): {:.3f}'.format(linreg.score(X_train, y_train)))\n",
    "\n",
    "print('R-squared score (test): {:.3f}'.format(linreg.score(X_test, y_test)))\n",
    "\n",
    "\n",
    "# make predictions on the testing set\n",
    "y_pred = linreg.predict(X_test)\n",
    "print('RMSE: {:.3f}'.format(np.sqrt(metrics.mean_squared_error(y_test, y_pred))))\n",
    "\n",
    "\n",
    "plt.figure(figsize=(5,4))\n",
    "plt.scatter(X['timestamp'], y)\n",
    "plt.plot(X, linreg.coef_ * X + linreg.intercept_, 'r-')\n",
    "plt.title('Least-squares linear regression')\n",
    "plt.xlabel('Feature value (x)')\n",
    "plt.ylabel('Target value (y)')\n",
    "plt.show()"
   ]
  },
  {
   "cell_type": "code",
   "execution_count": 66,
   "metadata": {},
   "outputs": [
    {
     "name": "stdout",
     "output_type": "stream",
     "text": [
      "[ 95.82    130.068   100.254   129.992    95.82    292.51854 167.59\n",
      " 280.118   148.176   217.976   137.854   240.444   149.918   174.908\n",
      " 302.24054 125.64    199.01016 107.686   273.076   127.64812  88.39\n",
      " 207.984   149.918   109.29    142.9531  112.04    224.918   128.594\n",
      " 121.8975  185.77    118.878   112.534   141.752   122.212   134.12\n",
      " 115.6     138.066   195.208   121.774   137.99    152.984   112.534\n",
      " 295.50854 113.44     89.736   108.652    89.736   133.36436 107.686\n",
      " 293.05654 123.084   148.176   302.24054 132.05    135.328    86.636\n",
      " 295.50854 174.908   107.11    194.292  ]\n",
      "R-squared test score: 0.991\n"
     ]
    }
   ],
   "source": [
    "from sklearn.neighbors import KNeighborsRegressor\n",
    "\n",
    "knnreg = KNeighborsRegressor(n_neighbors = 5).fit(X_train, y_train)\n",
    "\n",
    "print(knnreg.predict(X_test))\n",
    "print('R-squared test score: {:.3f}'\n",
    "     .format(knnreg.score(X_test, y_test)))"
   ]
  },
  {
   "cell_type": "markdown",
   "metadata": {},
   "source": [
    "# Linear Regression with Gradient Descent"
   ]
  },
  {
   "cell_type": "code",
   "execution_count": 48,
   "metadata": {},
   "outputs": [],
   "source": [
    "X_b = np.c_[np.ones((240,1)), X]\n",
    "theta = np.linalg.inv(X_b.T.dot(X_b)).dot(X_b.T).dot(y)"
   ]
  },
  {
   "cell_type": "code",
   "execution_count": 53,
   "metadata": {},
   "outputs": [
    {
     "name": "stdout",
     "output_type": "stream",
     "text": [
      "[2.06156961e+35 2.08057353e+35 2.08619479e+35 2.13556438e+35\n",
      " 2.00411046e+35 1.98930268e+35 1.90789362e+35 1.91123690e+35\n",
      " 1.90920670e+35 1.73887103e+35 1.70922265e+35 1.84221664e+35\n",
      " 1.82380415e+35 1.77069902e+35 1.74388262e+35 1.59174415e+35\n",
      " 1.56780966e+35 1.62236418e+35 1.69562115e+35 1.68765559e+35\n",
      " 1.65723913e+35 1.69268305e+35 1.67649152e+35 1.62039487e+35\n",
      " 1.55760843e+35 1.40605845e+35 1.37063889e+35 1.35673261e+35\n",
      " 1.29382619e+35 1.39064472e+35 1.43182782e+35 1.38009779e+35\n",
      " 1.32235273e+35 1.32943818e+35 1.37255685e+35 1.45419447e+35\n",
      " 1.53735961e+35 1.53732082e+35 1.54938957e+35 1.59200256e+35\n",
      " 1.59962893e+35 1.64976356e+35 1.69162057e+35 1.76446792e+35\n",
      " 1.78729028e+35 1.78307263e+35 1.77739065e+35 1.74965559e+35\n",
      " 1.78408902e+35 1.77695281e+35 1.75025263e+35 1.77562076e+35\n",
      " 1.78528200e+35 1.83443385e+35 1.89283167e+35 1.90691041e+35\n",
      " 1.90244087e+35 1.91738367e+35 1.87919615e+35 1.88134401e+35\n",
      " 1.92757111e+35 1.94193093e+35 1.97650988e+35 1.97426887e+35\n",
      " 1.95706582e+35 1.98418930e+35 2.03856355e+35 2.04231465e+35\n",
      " 2.05863332e+35 2.08891619e+35 2.10555432e+35 2.10523431e+35\n",
      " 2.06236096e+35 2.06021740e+35 2.09538226e+35 2.14543649e+35\n",
      " 2.19854509e+35 2.25005632e+35 2.28991780e+35 2.31217973e+35\n",
      " 2.33010362e+35 2.28835573e+35 2.35332579e+35 2.43790298e+35\n",
      " 2.47334916e+35 2.45469707e+35 2.37106303e+35 2.43490032e+35\n",
      " 2.49523137e+35 2.44891264e+35 2.44062207e+35 2.32581358e+35\n",
      " 2.27906694e+35 2.21583050e+35 2.27360798e+35 2.34185253e+35\n",
      " 2.28781689e+35 2.13987949e+35 2.17770593e+35 2.12772299e+35\n",
      " 1.87054163e+35 1.66786062e+35 1.62075803e+35 1.64042053e+35\n",
      " 1.54062360e+35 1.44915864e+35 1.56050336e+35 1.66739545e+35\n",
      " 1.71599817e+35 1.72914251e+35 1.84104144e+35 1.87942219e+35\n",
      " 1.91010518e+35 1.93110671e+35 2.00029213e+35 2.01294067e+35\n",
      " 1.96733837e+35 2.04763213e+35 2.12883288e+35 2.07500665e+35\n",
      " 1.98331990e+35 1.95005445e+35 2.01430328e+35 2.01668978e+35\n",
      " 2.10852382e+35 2.16718092e+35 2.20393455e+35 2.28376914e+35\n",
      " 2.33841417e+35 2.33799537e+35 2.37428233e+35 2.40680305e+35\n",
      " 2.36375173e+35 2.36795495e+35 2.26196830e+35 2.19314940e+35\n",
      " 2.16223773e+35 2.24421974e+35 2.27503358e+35 2.35160699e+35\n",
      " 2.42606801e+35 2.48141939e+35 2.50911678e+35 2.47782687e+35\n",
      " 2.39524462e+35 2.47223637e+35 2.51831022e+35 2.57829745e+35\n",
      " 2.59502601e+35 2.54248092e+35 2.58277156e+35 2.64719176e+35\n",
      " 2.70673853e+35 2.73759493e+35 2.79561316e+35 2.87858563e+35\n",
      " 2.87776544e+35 2.90867089e+35 2.97196686e+35 2.96897081e+35\n",
      " 3.00928139e+35 3.11755218e+35 3.17123441e+35 3.18782868e+35\n",
      " 3.15945983e+35 3.24964669e+35 3.25959407e+35 3.30268790e+35\n",
      " 3.37445669e+35 3.41008530e+35 3.39414519e+35 3.46795763e+35\n",
      " 3.38667923e+35 3.52726523e+35 3.56697678e+35 3.54408350e+35\n",
      " 3.54085695e+35 3.62296129e+35 3.60995080e+35 3.64430473e+35\n",
      " 3.65114099e+35 3.62885306e+35 3.53737336e+35 3.43878117e+35\n",
      " 3.47948622e+35 3.63033167e+35 3.62541780e+35 3.45673696e+35\n",
      " 3.39772893e+35 3.52375697e+35 3.63073295e+35 3.64406918e+35\n",
      " 3.64827364e+35 3.71593716e+35 3.79948900e+35 3.79336617e+35\n",
      " 3.77247175e+35 3.77457587e+35 3.89603856e+35 3.94839210e+35\n",
      " 4.01772557e+35 4.10585567e+35 4.09759402e+35 4.14066745e+35\n",
      " 4.19484858e+35 4.21919556e+35 4.25579313e+35 4.28765909e+35\n",
      " 4.36917306e+35 4.46339737e+35 4.53469685e+35 4.67109343e+35\n",
      " 4.65392511e+35 4.62147303e+35 4.52453167e+35 4.56883843e+35\n",
      " 4.68144922e+35 4.69871010e+35 4.84052421e+35 4.92852647e+35\n",
      " 4.81694292e+35 4.68000295e+35 4.58710408e+35 4.42553153e+35\n",
      " 4.70646559e+35 4.79860598e+35 4.92225279e+35 4.93400027e+35\n",
      " 4.84281043e+35 5.07322704e+35 5.01717285e+35 5.03067338e+35\n",
      " 5.05734635e+35 5.23906770e+35 5.33994429e+35 5.49087228e+35\n",
      " 5.36478560e+35 4.81993760e+35 4.61081222e+35 4.93818014e+35]\n"
     ]
    }
   ],
   "source": [
    "X_new = np.array([[0],[240]])\n",
    "X_new_b = np.c_[np.ones((240,1)), X]\n",
    "\n",
    "y_predict = X_new_b.dot(theta)\n",
    "print(y_predict)"
   ]
  },
  {
   "cell_type": "code",
   "execution_count": 50,
   "metadata": {},
   "outputs": [
    {
     "data": {
      "text/plain": [
       "array([2.55634016e+30, 3.72397478e+32, 4.55992586e+32, 4.87176907e+32,\n",
       "       4.72620175e+32])"
      ]
     },
     "execution_count": 50,
     "metadata": {},
     "output_type": "execute_result"
    }
   ],
   "source": [
    "eta = 0.1\n",
    "n_iterations = 10\n",
    "m = 100\n",
    "for iteration in range(n_iterations):\n",
    "    gradients = 2/m * X_b.T.dot(X_b.dot(theta) - y)\n",
    "    theta = theta - eta * gradients\n",
    "theta"
   ]
  },
  {
   "cell_type": "code",
   "execution_count": 51,
   "metadata": {},
   "outputs": [
    {
     "data": {
      "text/plain": [
       "array([2.06156961e+35, 2.08057353e+35, 2.08619479e+35, 2.13556438e+35,\n",
       "       2.00411046e+35, 1.98930268e+35, 1.90789362e+35, 1.91123690e+35,\n",
       "       1.90920670e+35, 1.73887103e+35, 1.70922265e+35, 1.84221664e+35,\n",
       "       1.82380415e+35, 1.77069902e+35, 1.74388262e+35, 1.59174415e+35,\n",
       "       1.56780966e+35, 1.62236418e+35, 1.69562115e+35, 1.68765559e+35,\n",
       "       1.65723913e+35, 1.69268305e+35, 1.67649152e+35, 1.62039487e+35,\n",
       "       1.55760843e+35, 1.40605845e+35, 1.37063889e+35, 1.35673261e+35,\n",
       "       1.29382619e+35, 1.39064472e+35, 1.43182782e+35, 1.38009779e+35,\n",
       "       1.32235273e+35, 1.32943818e+35, 1.37255685e+35, 1.45419447e+35,\n",
       "       1.53735961e+35, 1.53732082e+35, 1.54938957e+35, 1.59200256e+35,\n",
       "       1.59962893e+35, 1.64976356e+35, 1.69162057e+35, 1.76446792e+35,\n",
       "       1.78729028e+35, 1.78307263e+35, 1.77739065e+35, 1.74965559e+35,\n",
       "       1.78408902e+35, 1.77695281e+35, 1.75025263e+35, 1.77562076e+35,\n",
       "       1.78528200e+35, 1.83443385e+35, 1.89283167e+35, 1.90691041e+35,\n",
       "       1.90244087e+35, 1.91738367e+35, 1.87919615e+35, 1.88134401e+35,\n",
       "       1.92757111e+35, 1.94193093e+35, 1.97650988e+35, 1.97426887e+35,\n",
       "       1.95706582e+35, 1.98418930e+35, 2.03856355e+35, 2.04231465e+35,\n",
       "       2.05863332e+35, 2.08891619e+35, 2.10555432e+35, 2.10523431e+35,\n",
       "       2.06236096e+35, 2.06021740e+35, 2.09538226e+35, 2.14543649e+35,\n",
       "       2.19854509e+35, 2.25005632e+35, 2.28991780e+35, 2.31217973e+35,\n",
       "       2.33010362e+35, 2.28835573e+35, 2.35332579e+35, 2.43790298e+35,\n",
       "       2.47334916e+35, 2.45469707e+35, 2.37106303e+35, 2.43490032e+35,\n",
       "       2.49523137e+35, 2.44891264e+35, 2.44062207e+35, 2.32581358e+35,\n",
       "       2.27906694e+35, 2.21583050e+35, 2.27360798e+35, 2.34185253e+35,\n",
       "       2.28781689e+35, 2.13987949e+35, 2.17770593e+35, 2.12772299e+35,\n",
       "       1.87054163e+35, 1.66786062e+35, 1.62075803e+35, 1.64042053e+35,\n",
       "       1.54062360e+35, 1.44915864e+35, 1.56050336e+35, 1.66739545e+35,\n",
       "       1.71599817e+35, 1.72914251e+35, 1.84104144e+35, 1.87942219e+35,\n",
       "       1.91010518e+35, 1.93110671e+35, 2.00029213e+35, 2.01294067e+35,\n",
       "       1.96733837e+35, 2.04763213e+35, 2.12883288e+35, 2.07500665e+35,\n",
       "       1.98331990e+35, 1.95005445e+35, 2.01430328e+35, 2.01668978e+35,\n",
       "       2.10852382e+35, 2.16718092e+35, 2.20393455e+35, 2.28376914e+35,\n",
       "       2.33841417e+35, 2.33799537e+35, 2.37428233e+35, 2.40680305e+35,\n",
       "       2.36375173e+35, 2.36795495e+35, 2.26196830e+35, 2.19314940e+35,\n",
       "       2.16223773e+35, 2.24421974e+35, 2.27503358e+35, 2.35160699e+35,\n",
       "       2.42606801e+35, 2.48141939e+35, 2.50911678e+35, 2.47782687e+35,\n",
       "       2.39524462e+35, 2.47223637e+35, 2.51831022e+35, 2.57829745e+35,\n",
       "       2.59502601e+35, 2.54248092e+35, 2.58277156e+35, 2.64719176e+35,\n",
       "       2.70673853e+35, 2.73759493e+35, 2.79561316e+35, 2.87858563e+35,\n",
       "       2.87776544e+35, 2.90867089e+35, 2.97196686e+35, 2.96897081e+35,\n",
       "       3.00928139e+35, 3.11755218e+35, 3.17123441e+35, 3.18782868e+35,\n",
       "       3.15945983e+35, 3.24964669e+35, 3.25959407e+35, 3.30268790e+35,\n",
       "       3.37445669e+35, 3.41008530e+35, 3.39414519e+35, 3.46795763e+35,\n",
       "       3.38667923e+35, 3.52726523e+35, 3.56697678e+35, 3.54408350e+35,\n",
       "       3.54085695e+35, 3.62296129e+35, 3.60995080e+35, 3.64430473e+35,\n",
       "       3.65114099e+35, 3.62885306e+35, 3.53737336e+35, 3.43878117e+35,\n",
       "       3.47948622e+35, 3.63033167e+35, 3.62541780e+35, 3.45673696e+35,\n",
       "       3.39772893e+35, 3.52375697e+35, 3.63073295e+35, 3.64406918e+35,\n",
       "       3.64827364e+35, 3.71593716e+35, 3.79948900e+35, 3.79336617e+35,\n",
       "       3.77247175e+35, 3.77457587e+35, 3.89603856e+35, 3.94839210e+35,\n",
       "       4.01772557e+35, 4.10585567e+35, 4.09759402e+35, 4.14066745e+35,\n",
       "       4.19484858e+35, 4.21919556e+35, 4.25579313e+35, 4.28765909e+35,\n",
       "       4.36917306e+35, 4.46339737e+35, 4.53469685e+35, 4.67109343e+35,\n",
       "       4.65392511e+35, 4.62147303e+35, 4.52453167e+35, 4.56883843e+35,\n",
       "       4.68144922e+35, 4.69871010e+35, 4.84052421e+35, 4.92852647e+35,\n",
       "       4.81694292e+35, 4.68000295e+35, 4.58710408e+35, 4.42553153e+35,\n",
       "       4.70646559e+35, 4.79860598e+35, 4.92225279e+35, 4.93400027e+35,\n",
       "       4.84281043e+35, 5.07322704e+35, 5.01717285e+35, 5.03067338e+35,\n",
       "       5.05734635e+35, 5.23906770e+35, 5.33994429e+35, 5.49087228e+35,\n",
       "       5.36478560e+35, 4.81993760e+35, 4.61081222e+35, 4.93818014e+35])"
      ]
     },
     "execution_count": 51,
     "metadata": {},
     "output_type": "execute_result"
    }
   ],
   "source": [
    "X_b.dot(theta)"
   ]
  },
  {
   "cell_type": "code",
   "execution_count": 54,
   "metadata": {},
   "outputs": [],
   "source": [
    "theta_path_bgd = []\n",
    "\n",
    "def plot_gradient_descent(theta, eta, theta_path=None):\n",
    "    m = len(X_b)\n",
    "    plt.plot(X, y, \"b.\")\n",
    "    n_iterations = 1000\n",
    "    for iteration in range(n_iterations):\n",
    "        if iteration < 10:\n",
    "            y_predict = X_new_b.dot(theta)\n",
    "            style = \"b-\" if iteration > 0 else \"r--\"\n",
    "            plt.plot(X_new, y_predict, style)\n",
    "            \n",
    "        gradients = 2/m * X_b.T.dot(X_b.dot(theta) - y)\n",
    "        theta = theta - eta * gradients\n",
    "        if theta_path is not None:\n",
    "            theta_path.append(theta)\n",
    "    plt.xlabel(\"$x_1$\", fontsize=18)\n",
    "    plt.axis([0, 2, 0, 15])\n",
    "    plt.title(r\"$\\eta = {}$\".format(eta), fontsize=16)"
   ]
  },
  {
   "cell_type": "code",
   "execution_count": 62,
   "metadata": {},
   "outputs": [
    {
     "ename": "ValueError",
     "evalue": "shapes (240,5) and (240,1) not aligned: 5 (dim 1) != 240 (dim 0)",
     "output_type": "error",
     "traceback": [
      "\u001b[1;31m---------------------------------------------------------------------------\u001b[0m",
      "\u001b[1;31mValueError\u001b[0m                                Traceback (most recent call last)",
      "\u001b[1;32m<ipython-input-62-1d6628061b78>\u001b[0m in \u001b[0;36m<module>\u001b[1;34m\u001b[0m\n\u001b[0;32m      3\u001b[0m \u001b[1;33m\u001b[0m\u001b[0m\n\u001b[0;32m      4\u001b[0m \u001b[0mplt\u001b[0m\u001b[1;33m.\u001b[0m\u001b[0mfigure\u001b[0m\u001b[1;33m(\u001b[0m\u001b[0mfigsize\u001b[0m\u001b[1;33m=\u001b[0m\u001b[1;33m(\u001b[0m\u001b[1;36m10\u001b[0m\u001b[1;33m,\u001b[0m\u001b[1;36m4\u001b[0m\u001b[1;33m)\u001b[0m\u001b[1;33m)\u001b[0m\u001b[1;33m\u001b[0m\u001b[1;33m\u001b[0m\u001b[0m\n\u001b[1;32m----> 5\u001b[1;33m \u001b[0mplt\u001b[0m\u001b[1;33m.\u001b[0m\u001b[0msubplot\u001b[0m\u001b[1;33m(\u001b[0m\u001b[1;36m131\u001b[0m\u001b[1;33m)\u001b[0m\u001b[1;33m;\u001b[0m \u001b[0mplot_gradient_descent\u001b[0m\u001b[1;33m(\u001b[0m\u001b[0mtheta\u001b[0m\u001b[1;33m,\u001b[0m \u001b[0meta\u001b[0m\u001b[1;33m=\u001b[0m\u001b[1;36m0.02\u001b[0m\u001b[1;33m)\u001b[0m\u001b[1;33m\u001b[0m\u001b[1;33m\u001b[0m\u001b[0m\n\u001b[0m\u001b[0;32m      6\u001b[0m \u001b[0mplt\u001b[0m\u001b[1;33m.\u001b[0m\u001b[0mylabel\u001b[0m\u001b[1;33m(\u001b[0m\u001b[1;34m\"$y$\"\u001b[0m\u001b[1;33m,\u001b[0m \u001b[0mrotation\u001b[0m\u001b[1;33m=\u001b[0m\u001b[1;36m0\u001b[0m\u001b[1;33m,\u001b[0m \u001b[0mfontsize\u001b[0m\u001b[1;33m=\u001b[0m\u001b[1;36m18\u001b[0m\u001b[1;33m)\u001b[0m\u001b[1;33m\u001b[0m\u001b[1;33m\u001b[0m\u001b[0m\n\u001b[0;32m      7\u001b[0m \u001b[0mplt\u001b[0m\u001b[1;33m.\u001b[0m\u001b[0msubplot\u001b[0m\u001b[1;33m(\u001b[0m\u001b[1;36m132\u001b[0m\u001b[1;33m)\u001b[0m\u001b[1;33m;\u001b[0m \u001b[0mplot_gradient_descent\u001b[0m\u001b[1;33m(\u001b[0m\u001b[0mtheta\u001b[0m\u001b[1;33m,\u001b[0m \u001b[0meta\u001b[0m\u001b[1;33m=\u001b[0m\u001b[1;36m0.1\u001b[0m\u001b[1;33m,\u001b[0m \u001b[0mtheta_path\u001b[0m\u001b[1;33m=\u001b[0m\u001b[0mtheta_path_bgd\u001b[0m\u001b[1;33m)\u001b[0m\u001b[1;33m\u001b[0m\u001b[1;33m\u001b[0m\u001b[0m\n",
      "\u001b[1;32m<ipython-input-54-182ca5d9c0e6>\u001b[0m in \u001b[0;36mplot_gradient_descent\u001b[1;34m(theta, eta, theta_path)\u001b[0m\n\u001b[0;32m      7\u001b[0m     \u001b[1;32mfor\u001b[0m \u001b[0miteration\u001b[0m \u001b[1;32min\u001b[0m \u001b[0mrange\u001b[0m\u001b[1;33m(\u001b[0m\u001b[0mn_iterations\u001b[0m\u001b[1;33m)\u001b[0m\u001b[1;33m:\u001b[0m\u001b[1;33m\u001b[0m\u001b[1;33m\u001b[0m\u001b[0m\n\u001b[0;32m      8\u001b[0m         \u001b[1;32mif\u001b[0m \u001b[0miteration\u001b[0m \u001b[1;33m<\u001b[0m \u001b[1;36m10\u001b[0m\u001b[1;33m:\u001b[0m\u001b[1;33m\u001b[0m\u001b[1;33m\u001b[0m\u001b[0m\n\u001b[1;32m----> 9\u001b[1;33m             \u001b[0my_predict\u001b[0m \u001b[1;33m=\u001b[0m \u001b[0mX_new_b\u001b[0m\u001b[1;33m.\u001b[0m\u001b[0mdot\u001b[0m\u001b[1;33m(\u001b[0m\u001b[0mtheta\u001b[0m\u001b[1;33m)\u001b[0m\u001b[1;33m\u001b[0m\u001b[1;33m\u001b[0m\u001b[0m\n\u001b[0m\u001b[0;32m     10\u001b[0m             \u001b[0mstyle\u001b[0m \u001b[1;33m=\u001b[0m \u001b[1;34m\"b-\"\u001b[0m \u001b[1;32mif\u001b[0m \u001b[0miteration\u001b[0m \u001b[1;33m>\u001b[0m \u001b[1;36m0\u001b[0m \u001b[1;32melse\u001b[0m \u001b[1;34m\"r--\"\u001b[0m\u001b[1;33m\u001b[0m\u001b[1;33m\u001b[0m\u001b[0m\n\u001b[0;32m     11\u001b[0m             \u001b[0mplt\u001b[0m\u001b[1;33m.\u001b[0m\u001b[0mplot\u001b[0m\u001b[1;33m(\u001b[0m\u001b[0mX_new\u001b[0m\u001b[1;33m,\u001b[0m \u001b[0my_predict\u001b[0m\u001b[1;33m,\u001b[0m \u001b[0mstyle\u001b[0m\u001b[1;33m)\u001b[0m\u001b[1;33m\u001b[0m\u001b[1;33m\u001b[0m\u001b[0m\n",
      "\u001b[1;31mValueError\u001b[0m: shapes (240,5) and (240,1) not aligned: 5 (dim 1) != 240 (dim 0)"
     ]
    },
    {
     "data": {
      "image/png": "[encoded data removed]",
      "text/plain": [
       "<Figure size 720x288 with 1 Axes>"
      ]
     },
     "metadata": {
      "needs_background": "light"
     },
     "output_type": "display_data"
    }
   ],
   "source": [
    "np.random.seed(42)\n",
    "theta = np.random.randn(240,1)  # random initialization\n",
    "\n",
    "plt.figure(figsize=(10,4))\n",
    "plt.subplot(131); plot_gradient_descent(theta, eta=0.02)\n",
    "plt.ylabel(\"$y$\", rotation=0, fontsize=18)\n",
    "plt.subplot(132); plot_gradient_descent(theta, eta=0.1, theta_path=theta_path_bgd)\n",
    "plt.subplot(133); plot_gradient_descent(theta, eta=0.5)\n",
    "\n",
    "save_fig(\"gradient_descent_plot\")\n",
    "plt.show()"
   ]
  },
  {
   "cell_type": "markdown",
   "metadata": {},
   "source": [
    "# Regularized Linear Regression"
   ]
  },
  {
   "cell_type": "markdown",
   "metadata": {},
   "source": [
    "## Ridge Regression"
   ]
  },
  {
   "cell_type": "code",
   "execution_count": 67,
   "metadata": {},
   "outputs": [
    {
     "name": "stdout",
     "output_type": "stream",
     "text": [
      "ridge regression linear model intercept: 0.050166181625542094\n",
      "ridge regression linear model coeff:\n",
      "[ 0.00872125  0.64273312  0.83232051 -0.48166375]\n",
      "R-squared score (training): 0.998\n",
      "R-squared score (test): 0.998\n",
      "Number of non-zero features: 4\n"
     ]
    }
   ],
   "source": [
    "from sklearn.linear_model import Ridge\n",
    "X_train, X_test, y_train, y_test = train_test_split(X, y, random_state=0)\n",
    "\n",
    "linridge = Ridge(alpha=20.0).fit(X_train, y_train)\n",
    "\n",
    "print('ridge regression linear model intercept: {}'\n",
    "     .format(linridge.intercept_))\n",
    "print('ridge regression linear model coeff:\\n{}'\n",
    "     .format(linridge.coef_))\n",
    "print('R-squared score (training): {:.3f}'\n",
    "     .format(linridge.score(X_train, y_train)))\n",
    "print('R-squared score (test): {:.3f}'\n",
    "     .format(linridge.score(X_test, y_test)))\n",
    "print('Number of non-zero features: {}'\n",
    "     .format(np.sum(linridge.coef_ != 0)))"
   ]
  },
  {
   "cell_type": "code",
   "execution_count": 68,
   "metadata": {},
   "outputs": [
    {
     "name": "stdout",
     "output_type": "stream",
     "text": [
      "ridge regression linear model intercept: 98.2645910775835\n",
      "ridge regression linear model coeff:\n",
      "[38.45554244 42.36824534 44.23752511 43.33608165]\n",
      "R-squared score (training): 0.877\n",
      "R-squared score (test): 0.861\n",
      "Number of non-zero features: 4\n"
     ]
    }
   ],
   "source": [
    "from sklearn.preprocessing import MinMaxScaler\n",
    "scaler = MinMaxScaler()\n",
    "\n",
    "from sklearn.linear_model import Ridge\n",
    "X_train, X_test, y_train, y_test = train_test_split(X, y, random_state = 0)\n",
    "\n",
    "X_train_scaled = scaler.fit_transform(X_train)\n",
    "X_test_scaled = scaler.transform(X_test)\n",
    "\n",
    "linridge = Ridge(alpha=20.0).fit(X_train_scaled, y_train)\n",
    "\n",
    "print('ridge regression linear model intercept: {}'\n",
    "     .format(linridge.intercept_))\n",
    "print('ridge regression linear model coeff:\\n{}'\n",
    "     .format(linridge.coef_))\n",
    "print('R-squared score (training): {:.3f}'\n",
    "     .format(linridge.score(X_train_scaled, y_train)))\n",
    "print('R-squared score (test): {:.3f}'\n",
    "     .format(linridge.score(X_test_scaled, y_test)))\n",
    "print('Number of non-zero features: {}'\n",
    "     .format(np.sum(linridge.coef_ != 0)))"
   ]
  },
  {
   "cell_type": "code",
   "execution_count": 61,
   "metadata": {},
   "outputs": [
    {
     "name": "stdout",
     "output_type": "stream",
     "text": [
      "Ridge regression: effect of alpha regularization parameter\n",
      "\n",
      "Alpha = 0.00\n",
      "num abs(coeff) > 1.0: 4, r-squared training: 1.00, r-squared test: 1.00\n",
      "\n",
      "Alpha = 1.00\n",
      "num abs(coeff) > 1.0: 4, r-squared training: 0.99, r-squared test: 0.99\n",
      "\n",
      "Alpha = 10.00\n",
      "num abs(coeff) > 1.0: 4, r-squared training: 0.94, r-squared test: 0.93\n",
      "\n",
      "Alpha = 20.00\n",
      "num abs(coeff) > 1.0: 4, r-squared training: 0.88, r-squared test: 0.86\n",
      "\n",
      "Alpha = 50.00\n",
      "num abs(coeff) > 1.0: 4, r-squared training: 0.69, r-squared test: 0.67\n",
      "\n",
      "Alpha = 100.00\n",
      "num abs(coeff) > 1.0: 4, r-squared training: 0.50, r-squared test: 0.48\n",
      "\n",
      "Alpha = 1000.00\n",
      "num abs(coeff) > 1.0: 4, r-squared training: 0.08, r-squared test: 0.07\n",
      "\n"
     ]
    }
   ],
   "source": [
    "print('Ridge regression: effect of alpha regularization parameter\\n')\n",
    "for this_alpha in [0, 1, 10, 20, 50, 100, 1000]:\n",
    "    linridge = Ridge(alpha = this_alpha).fit(X_train_scaled, y_train)\n",
    "    r2_train = linridge.score(X_train_scaled, y_train)\n",
    "    r2_test = linridge.score(X_test_scaled, y_test)\n",
    "    num_coeff_bigger = np.sum(abs(linridge.coef_) > 1.0)\n",
    "    print('Alpha = {:.2f}\\nnum abs(coeff) > 1.0: {}, \\\n",
    "r-squared training: {:.2f}, r-squared test: {:.2f}\\n'\n",
    "         .format(this_alpha, num_coeff_bigger, r2_train, r2_test))"
   ]
  },
  {
   "cell_type": "markdown",
   "metadata": {},
   "source": [
    "## Lasso Regression"
   ]
  },
  {
   "cell_type": "code",
   "execution_count": 57,
   "metadata": {},
   "outputs": [
    {
     "name": "stdout",
     "output_type": "stream",
     "text": [
      "lasso regression linear model intercept: 89.19810034204993\n",
      "lasso regression linear model coeff:\n",
      "[  6.93655394  37.01612056 173.33301446   0.        ]\n",
      "Non-zero features: 3\n",
      "R-squared score (training): 0.975\n",
      "R-squared score (test): 0.973\n",
      "\n",
      "Features with non-zero weight (sorted by absolute magnitude):\n",
      "\thigh, 173.333\n",
      "\tlow, 37.016\n",
      "\ttimestamp, 6.937\n"
     ]
    }
   ],
   "source": [
    "from sklearn.linear_model import Lasso\n",
    "from sklearn.preprocessing import MinMaxScaler\n",
    "scaler = MinMaxScaler()\n",
    "\n",
    "X_train, X_test, y_train, y_test = train_test_split(X, y, random_state = 0)\n",
    "\n",
    "X_train_scaled = scaler.fit_transform(X_train)\n",
    "X_test_scaled = scaler.transform(X_test)\n",
    "\n",
    "linlasso = Lasso(alpha=2.0, max_iter = 10000).fit(X_train_scaled, y_train)\n",
    "\n",
    "print('lasso regression linear model intercept: {}'\n",
    "     .format(linlasso.intercept_))\n",
    "print('lasso regression linear model coeff:\\n{}'\n",
    "     .format(linlasso.coef_))\n",
    "print('Non-zero features: {}'\n",
    "     .format(np.sum(linlasso.coef_ != 0)))\n",
    "print('R-squared score (training): {:.3f}'\n",
    "     .format(linlasso.score(X_train_scaled, y_train)))\n",
    "print('R-squared score (test): {:.3f}\\n'\n",
    "     .format(linlasso.score(X_test_scaled, y_test)))\n",
    "print('Features with non-zero weight (sorted by absolute magnitude):')\n",
    "\n",
    "for e in sorted (list(zip(list(X), linlasso.coef_)),\n",
    "                key = lambda e: -abs(e[1])):\n",
    "    if e[1] != 0:\n",
    "        print('\\t{}, {:.3f}'.format(e[0], e[1]))"
   ]
  },
  {
   "cell_type": "code",
   "execution_count": 58,
   "metadata": {},
   "outputs": [
    {
     "name": "stdout",
     "output_type": "stream",
     "text": [
      "Lasso regression: effect of alpha regularization\n",
      "parameter on number of features kept in final model\n",
      "\n",
      "Alpha = 0.50\n",
      "Features kept: 3, r-squared training: 1.00, r-squared test: 1.00\n",
      "\n",
      "Alpha = 1.00\n",
      "Features kept: 3, r-squared training: 0.99, r-squared test: 0.99\n",
      "\n",
      "Alpha = 2.00\n",
      "Features kept: 3, r-squared training: 0.98, r-squared test: 0.97\n",
      "\n",
      "Alpha = 3.00\n",
      "Features kept: 2, r-squared training: 0.95, r-squared test: 0.95\n",
      "\n",
      "Alpha = 5.00\n",
      "Features kept: 2, r-squared training: 0.88, r-squared test: 0.87\n",
      "\n",
      "Alpha = 10.00\n",
      "Features kept: 2, r-squared training: 0.54, r-squared test: 0.52\n",
      "\n",
      "Alpha = 20.00\n",
      "Features kept: 0, r-squared training: 0.00, r-squared test: -0.00\n",
      "\n",
      "Alpha = 50.00\n",
      "Features kept: 0, r-squared training: 0.00, r-squared test: -0.00\n",
      "\n"
     ]
    }
   ],
   "source": [
    "print('Lasso regression: effect of alpha regularization\\n\\\n",
    "parameter on number of features kept in final model\\n')\n",
    "\n",
    "for alpha in [0.5, 1, 2, 3, 5, 10, 20, 50]:\n",
    "    linlasso = Lasso(alpha, max_iter = 10000).fit(X_train_scaled, y_train)\n",
    "    r2_train = linlasso.score(X_train_scaled, y_train)\n",
    "    r2_test = linlasso.score(X_test_scaled, y_test)\n",
    "    \n",
    "    print('Alpha = {:.2f}\\nFeatures kept: {}, r-squared training: {:.2f}, \\\n",
    "r-squared test: {:.2f}\\n'\n",
    "         .format(alpha, np.sum(linlasso.coef_ != 0), r2_train, r2_test))"
   ]
  },
  {
   "cell_type": "markdown",
   "metadata": {},
   "source": [
    "# Polynomial Regression"
   ]
  },
  {
   "cell_type": "code",
   "execution_count": null,
   "metadata": {},
   "outputs": [],
   "source": []
  }
 ],
 "metadata": {
  "kernelspec": {
   "display_name": "Python 3",
   "language": "python",
   "name": "python3"
  },
  "language_info": {
   "codemirror_mode": {
    "name": "ipython",
    "version": 3
   },
   "file_extension": ".py",
   "mimetype": "text/x-python",
   "name": "python",
   "nbconvert_exporter": "python",
   "pygments_lexer": "ipython3",
   "version": "3.7.6"
  }
 },
 "nbformat": 4,
 "nbformat_minor": 4
}
