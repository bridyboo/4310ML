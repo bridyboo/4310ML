{
 "cells": [
  {
   "cell_type": "code",
   "execution_count": 87,
   "metadata": {},
   "outputs": [
    {
     "name": "stdout",
     "output_type": "stream",
     "text": [
      "Download complete.\n"
     ]
    }
   ],
   "source": [
    "import os\n",
    "import urllib\n",
    "\n",
    "# Download the data\n",
    "API_KEY = \"PO6RG0NM9390YF3A\"\n",
    "STOCK_SYMBOL = \"SPY\"\n",
    "INTERVAL = \"1min\"\n",
    "DATA_TYPE = \"MONTHLY\" # INTRADAY || DAILY || WEEKLY || MONTHLY\n",
    "\n",
    "if DATA_TYPE == \"intraday\":\n",
    "    DOWNLOAD_ROOT = f\"https://www.alphavantage.co/query?function=TIME_SERIES_INTRADAY&symbol={STOCK_SYMBOL}&interval={INTERVAL}&apikey={API_KEY}&datatype=csv&ouputsize=full\"\n",
    "else:\n",
    "    DOWNLOAD_ROOT = f\"https://www.alphavantage.co/query?function=TIME_SERIES_{DATA_TYPE}&symbol={STOCK_SYMBOL}&apikey={API_KEY}&datatype=csv&ouputsize=full\"\n",
    "filename = STOCK_SYMBOL+\"_\"+DATA_TYPE+\".csv\"\n",
    "datapath = \"rawdata/\"\n",
    "os.makedirs(datapath, exist_ok=True)\n",
    "urllib.request.urlretrieve(DOWNLOAD_ROOT, datapath+filename)\n",
    "print('Download complete.')"
   ]
  },
  {
   "cell_type": "code",
   "execution_count": 88,
   "metadata": {},
   "outputs": [
    {
     "name": "stdout",
     "output_type": "stream",
     "text": [
      "      timestamp      open      high       low     close      volume\n",
      "239  2000-06-30  143.6875  149.1562  143.0000  145.2812   127146000\n",
      "238  2000-07-31  145.4375  151.9843  141.5156  143.0000   106780100\n",
      "237  2000-08-31  143.6250  153.0937  142.6250  152.3437   102365500\n",
      "236  2000-09-29  153.2500  153.5937  142.1250  143.6250   113203000\n",
      "235  2000-10-31  144.2812  145.7500  130.1562  142.9531   178392400\n",
      "..          ...       ...       ...       ...       ...         ...\n",
      "4    2020-01-31  323.5400  332.9500  320.3600  321.7300  1389179454\n",
      "3    2020-02-28  323.3500  339.0800  285.5400  296.2600  2099672006\n",
      "2    2020-03-31  298.2100  313.8400  218.2600  257.7500  5888710884\n",
      "1    2020-04-30  247.9800  294.8800  243.9000  290.4800  2798273802\n",
      "0    2020-05-22  285.3100  297.8700  272.9900  295.4400  1499792747\n",
      "\n",
      "[240 rows x 6 columns]\n"
     ]
    }
   ],
   "source": [
    "import matplotlib.pyplot as plt\n",
    "import numpy as np\n",
    "import pandas as pd\n",
    "import datetime\n",
    "\n",
    "stock_data = pd.read_csv(datapath + filename, thousands=',')\n",
    "\n",
    "stock_data = stock_data.iloc[::-1]\n",
    "print(stock_data)"
   ]
  },
  {
   "cell_type": "code",
   "execution_count": 89,
   "metadata": {},
   "outputs": [],
   "source": [
    "import sys\n",
    "assert sys.version_info >= (3, 5)\n",
    "\n",
    "import sklearn\n",
    "assert sklearn.__version__ >= \"0.20\"\n",
    "\n",
    "import numpy as np\n",
    "import pandas as pd\n",
    "import os\n",
    "from sklearn.metrics import confusion_matrix\n",
    "from sklearn.metrics import classification_report\n",
    "from sklearn.model_selection import train_test_split\n",
    "\n",
    "%matplotlib inline\n",
    "import matplotlib as mpl\n",
    "import matplotlib.pyplot as plt\n",
    "mpl.rc('axes', labelsize=14)\n",
    "mpl.rc('xtick', labelsize=12)\n",
    "mpl.rc('ytick', labelsize=12)"
   ]
  },
  {
   "cell_type": "code",
   "execution_count": 90,
   "metadata": {},
   "outputs": [
    {
     "name": "stdout",
     "output_type": "stream",
     "text": [
      "     timestamp      open      high       low     close      volume\n",
      "239          1  143.6875  149.1562  143.0000  145.2812   127146000\n",
      "238          2  145.4375  151.9843  141.5156  143.0000   106780100\n",
      "237          3  143.6250  153.0937  142.6250  152.3437   102365500\n",
      "236          4  153.2500  153.5937  142.1250  143.6250   113203000\n",
      "235          5  144.2812  145.7500  130.1562  142.9531   178392400\n",
      "..         ...       ...       ...       ...       ...         ...\n",
      "4          236  323.5400  332.9500  320.3600  321.7300  1389179454\n",
      "3          237  323.3500  339.0800  285.5400  296.2600  2099672006\n",
      "2          238  298.2100  313.8400  218.2600  257.7500  5888710884\n",
      "1          239  247.9800  294.8800  243.9000  290.4800  2798273802\n",
      "0          240  285.3100  297.8700  272.9900  295.4400  1499792747\n",
      "\n",
      "[240 rows x 6 columns]\n"
     ]
    }
   ],
   "source": [
    "from matplotlib import cm\n",
    "import datetime as dt\n",
    "rowNum = 1\n",
    "timeRow = []\n",
    "for index, row in stock_data.iterrows():\n",
    "    timeRow.append(rowNum)\n",
    "    rowNum += 1\n",
    "stock_data['timestamp'] = timeRow\n",
    "\n",
    "X = stock_data[['timestamp', 'low', 'high', 'open']]\n",
    "y = stock_data['close']\n",
    "print(stock_data)"
   ]
  },
  {
   "cell_type": "markdown",
   "metadata": {},
   "source": [
    "# Linear Regression"
   ]
  },
  {
   "cell_type": "code",
   "execution_count": 91,
   "metadata": {},
   "outputs": [],
   "source": [
    "from sklearn.linear_model import LinearRegression\n",
    "\n",
    "X_train, X_test, y_train, y_test = train_test_split(X, y, random_state=0)\n",
    "\n",
    "linreg = LinearRegression().fit(X_train, y_train)"
   ]
  },
  {
   "cell_type": "code",
   "execution_count": 92,
   "metadata": {},
   "outputs": [
    {
     "name": "stdout",
     "output_type": "stream",
     "text": [
      "linear model coeff (w): [ 0.00864723  0.64401578  0.83853151 -0.48921793]\n",
      "linear model intercept (b): 0.044\n",
      "R-squared score (training): 0.998\n",
      "R-squared score (test): 0.998\n",
      "RMSE: 2.628\n"
     ]
    },
    {
     "data": {
      "image/png": "[encoded data removed]",
      "text/plain": [
       "<Figure size 360x288 with 1 Axes>"
      ]
     },
     "metadata": {
      "needs_background": "light"
     },
     "output_type": "display_data"
    }
   ],
   "source": [
    "from sklearn import metrics\n",
    "\n",
    "print('linear model coeff (w): {}'.format(linreg.coef_))\n",
    "\n",
    "print('linear model intercept (b): {:.3f}'.format(linreg.intercept_))\n",
    "\n",
    "print('R-squared score (training): {:.3f}'.format(linreg.score(X_train, y_train)))\n",
    "\n",
    "print('R-squared score (test): {:.3f}'.format(linreg.score(X_test, y_test)))\n",
    "\n",
    "\n",
    "# make predictions on the testing set\n",
    "y_pred = linreg.predict(X_test)\n",
    "print('RMSE: {:.3f}'.format(np.sqrt(metrics.mean_squared_error(y_test, y_pred))))\n",
    "\n",
    "\n",
    "plt.figure(figsize=(5,4))\n",
    "plt.scatter(X['timestamp'], y)\n",
    "plt.plot(X, linreg.coef_ * X + linreg.intercept_, 'r-')\n",
    "plt.title('Least-squares linear regression')\n",
    "plt.xlabel('Feature value (x)')\n",
    "plt.ylabel('Target value (y)')\n",
    "plt.show()"
   ]
  },
  {
   "cell_type": "code",
   "execution_count": 93,
   "metadata": {},
   "outputs": [
    {
     "name": "stdout",
     "output_type": "stream",
     "text": [
      "[ 95.82    130.068   100.254   129.992    95.82    292.51854 167.59\n",
      " 280.118   148.176   217.976   137.854   240.444   149.918   174.908\n",
      " 302.24054 125.64    199.01016 107.686   273.076   127.64812  88.39\n",
      " 207.984   149.918   109.29    142.9531  112.04    224.918   128.594\n",
      " 121.8975  185.77    118.878   112.534   141.752   122.212   134.12\n",
      " 115.6     138.066   195.208   121.774   137.99    152.984   112.534\n",
      " 295.50854 113.44     89.736   108.652    89.736   133.36436 107.686\n",
      " 293.05654 123.084   148.176   302.24054 132.05    135.328    86.636\n",
      " 295.50854 174.908   107.11    194.292  ]\n",
      "R-squared test score: 0.991\n"
     ]
    }
   ],
   "source": [
    "from sklearn.neighbors import KNeighborsRegressor\n",
    "\n",
    "knnreg = KNeighborsRegressor(n_neighbors = 5).fit(X_train, y_train)\n",
    "\n",
    "print(knnreg.predict(X_test))\n",
    "print('R-squared test score: {:.3f}'\n",
    "     .format(knnreg.score(X_test, y_test)))"
   ]
  },
  {
   "cell_type": "markdown",
   "metadata": {},
   "source": [
    "# Linear Regression with Gradient Descent"
   ]
  },
  {
   "cell_type": "code",
   "execution_count": 94,
   "metadata": {},
   "outputs": [],
   "source": [
    "X_b = np.c_[np.ones((240,1)), X]\n",
    "theta = np.linalg.inv(X_b.T.dot(X_b)).dot(X_b.T).dot(y)"
   ]
  },
  {
   "cell_type": "code",
   "execution_count": 95,
   "metadata": {
    "scrolled": true
   },
   "outputs": [
    {
     "name": "stdout",
     "output_type": "stream",
     "text": [
      "[146.83117271 147.43356016 150.05096639 145.20919883 135.3667691\n",
      " 134.90510196 132.78018656 133.98436483 127.03328928 116.05368853\n",
      " 120.48781017 129.17072016 124.12446492 119.38509724 115.85900722\n",
      " 102.21047351 109.34803447 114.2431773  115.38386254 112.5659629\n",
      " 109.0498131  116.24327734 108.92886275 108.21844848  99.25953288\n",
      "  85.3437457   89.18147158  86.18768337  86.25175885  93.0489185\n",
      "  90.12109277  89.74773159  83.03736754  85.10964134  91.20408936\n",
      "  95.07841326 100.56355106 100.32055252  99.20273896 102.31307287\n",
      " 104.75442519 104.96776282 109.86949852 114.7324226  115.13469934\n",
      " 112.0487343  113.24162891 110.44286242 113.79193842 110.06063971\n",
      " 110.439757   112.62357336 112.09087158 117.76402541 120.49270541\n",
      " 117.96238105 120.71224347 119.59710974 115.52739875 118.517202\n",
      " 120.75302117 122.81651817 122.01582725 122.74487909 119.02429144\n",
      " 125.87214442 126.79762067 128.05430626 126.67347646 129.81836162\n",
      " 129.92148115 127.94753896 125.5973298  124.50187796 129.5669937\n",
      " 132.14279809 137.17252972 138.72487428 141.51631313 142.20595593\n",
      " 142.44147744 141.20135835 147.6169506  152.24741115 149.95317904\n",
      " 151.19796747 144.01640367 151.13144022 153.52131964 144.88260174\n",
      " 149.23798495 133.4666769  135.20235543 130.75747473 138.68345916\n",
      " 142.75276636 132.34954918 124.52160421 129.49662333 118.01825592\n",
      "  96.20019822  86.08049988  88.42807171  87.60270035  82.27545318\n",
      "  78.81955232  87.87894438  92.7340612   92.13784021  95.71357631\n",
      " 102.89900865 105.97539065 108.94583729 110.31096874 111.75105983\n",
      " 111.68379031 109.09230924 117.46673936 121.3011794  111.0803468\n",
      " 109.33914825 110.11875426 108.37001051 114.87388698 118.24854794\n",
      " 121.74833533 125.65884322 129.44309574 134.15546024 128.54699168\n",
      " 133.84925138 133.70079713 129.74101826 132.81721463 118.00053263\n",
      " 116.5360768  124.32560792 123.83637395 124.19384633 132.12887465\n",
      " 137.61023724 139.61478333 139.13553457 135.1192417  134.26775747\n",
      " 136.79615325 140.82148624 146.89270789 144.45255924 139.30997891\n",
      " 143.44544882 150.23751553 151.98524983 155.93773894 157.612602\n",
      " 167.22608791 160.72689994 168.29596425 166.58246214 171.74116639\n",
      " 174.1683866  180.35545104 181.94015402 180.39353854 183.37988036\n",
      " 188.01198755 185.51189679 190.91455526 195.60271087 196.70850113\n",
      " 198.56481089 198.70512998 191.77278555 205.9785835  206.68041335\n",
      " 201.87151727 209.34261892 207.68388522 210.55095874 211.59970966\n",
      " 208.96830944 210.25918344 193.29934541 197.87096343 205.49400942\n",
      " 207.43886019 204.79050869 189.45710591 189.09762071 205.23320097\n",
      " 209.47904295 207.76539157 205.57255273 215.20572597 217.57891577\n",
      " 215.9210125  213.84207752 217.9571081  226.50605848 228.51953844\n",
      " 235.33670375 235.80232445 237.04184696 239.64944826 243.40538828\n",
      " 245.78169966 245.17449069 249.03726448 256.9656716  263.44938274\n",
      " 265.4961544  283.79097109 264.58826179 270.43873351 265.10130139\n",
      " 269.79730334 275.9937109  282.21399956 288.76129934 291.25484274\n",
      " 272.21159497 274.48596621 250.48586656 265.95128869 278.39815502\n",
      " 279.39991119 292.93215462 282.32490838 292.14047317 299.89657865\n",
      " 290.1559923  300.16354899 295.28022177 313.84522631 317.60412865\n",
      " 329.41678716 312.46865328 260.38205913 286.34716232 288.378194  ]\n"
     ]
    }
   ],
   "source": [
    "X_new = np.array([[0],[240]])\n",
    "X_new_b = np.c_[np.ones((240,1)), X]\n",
    "\n",
    "y_predict = X_new_b.dot(theta)\n",
    "print(y_predict)"
   ]
  },
  {
   "cell_type": "code",
   "execution_count": 96,
   "metadata": {},
   "outputs": [
    {
     "data": {
      "text/plain": [
       "array([2.93661338e+31, 4.27794170e+33, 5.23824627e+33, 5.59647831e+33,\n",
       "       5.42925684e+33])"
      ]
     },
     "execution_count": 96,
     "metadata": {},
     "output_type": "execute_result"
    }
   ],
   "source": [
    "eta = 0.1\n",
    "n_iterations = 10\n",
    "m = 100\n",
    "for iteration in range(n_iterations):\n",
    "    gradients = 2/m * X_b.T.dot(X_b.dot(theta) - y)\n",
    "    theta = theta - eta * gradients\n",
    "theta"
   ]
  },
  {
   "cell_type": "code",
   "execution_count": 97,
   "metadata": {
    "scrolled": true
   },
   "outputs": [
    {
     "data": {
      "text/plain": [
       "array([2.36824231e+36, 2.39007319e+36, 2.39653065e+36, 2.45324431e+36,\n",
       "       2.30223571e+36, 2.28522517e+36, 2.19170595e+36, 2.19554657e+36,\n",
       "       2.19321436e+36, 1.99754008e+36, 1.96348130e+36, 2.11625907e+36,\n",
       "       2.09510760e+36, 2.03410271e+36, 2.00329718e+36, 1.82852707e+36,\n",
       "       1.80103215e+36, 1.86370204e+36, 1.94785649e+36, 1.93870600e+36,\n",
       "       1.90376488e+36, 1.94448132e+36, 1.92588119e+36, 1.86143978e+36,\n",
       "       1.78931343e+36, 1.61521934e+36, 1.57453088e+36, 1.55855594e+36,\n",
       "       1.48629175e+36, 1.59751271e+36, 1.64482208e+36, 1.58539685e+36,\n",
       "       1.51906182e+36, 1.52720128e+36, 1.57673415e+36, 1.67051592e+36,\n",
       "       1.76605245e+36, 1.76600789e+36, 1.77987195e+36, 1.82882392e+36,\n",
       "       1.83758476e+36, 1.89517726e+36, 1.94326079e+36, 2.02694469e+36,\n",
       "       2.05316203e+36, 2.04831698e+36, 2.04178977e+36, 2.00992893e+36,\n",
       "       2.04948456e+36, 2.04128679e+36, 2.01061478e+36, 2.03975660e+36,\n",
       "       2.05085501e+36, 2.10731853e+36, 2.17440343e+36, 2.19057648e+36,\n",
       "       2.18544207e+36, 2.20260771e+36, 2.15873953e+36, 2.16120690e+36,\n",
       "       2.21431061e+36, 2.23080654e+36, 2.27052936e+36, 2.26795498e+36,\n",
       "       2.24819286e+36, 2.27935113e+36, 2.34181393e+36, 2.34612304e+36,\n",
       "       2.36486922e+36, 2.39965688e+36, 2.41877005e+36, 2.41840243e+36,\n",
       "       2.36915138e+36, 2.36668894e+36, 2.40708482e+36, 2.46458496e+36,\n",
       "       2.52559383e+36, 2.58476771e+36, 2.63055886e+36, 2.65613241e+36,\n",
       "       2.67672260e+36, 2.62876442e+36, 2.70339923e+36, 2.80055786e+36,\n",
       "       2.84127691e+36, 2.81985019e+36, 2.72377501e+36, 2.79710853e+36,\n",
       "       2.86641424e+36, 2.81320528e+36, 2.80368143e+36, 2.67179438e+36,\n",
       "       2.61809386e+36, 2.54545057e+36, 2.61182285e+36, 2.69021924e+36,\n",
       "       2.62814543e+36, 2.45820132e+36, 2.50165471e+36, 2.44423646e+36,\n",
       "       2.14879759e+36, 1.91596639e+36, 1.86185696e+36, 1.88444440e+36,\n",
       "       1.76980198e+36, 1.66473098e+36, 1.79263900e+36, 1.91543202e+36,\n",
       "       1.97126473e+36, 1.98636439e+36, 2.11490904e+36, 2.15899920e+36,\n",
       "       2.19424649e+36, 2.21837215e+36, 2.29784938e+36, 2.31237947e+36,\n",
       "       2.25999352e+36, 2.35223153e+36, 2.44551145e+36, 2.38367820e+36,\n",
       "       2.27835241e+36, 2.24013849e+36, 2.31394479e+36, 2.31668629e+36,\n",
       "       2.42218128e+36, 2.48956402e+36, 2.53178502e+36, 2.62349554e+36,\n",
       "       2.68626940e+36, 2.68578830e+36, 2.72747320e+36, 2.76483160e+36,\n",
       "       2.71537610e+36, 2.72020457e+36, 2.59845168e+36, 2.51939549e+36,\n",
       "       2.48388550e+36, 2.57806290e+36, 2.61346051e+36, 2.70142474e+36,\n",
       "       2.78696235e+36, 2.85054763e+36, 2.88236521e+36, 2.84642071e+36,\n",
       "       2.75155377e+36, 2.83999857e+36, 2.89292623e+36, 2.96183698e+36,\n",
       "       2.98105402e+36, 2.92069249e+36, 2.96697664e+36, 3.04097978e+36,\n",
       "       3.10938455e+36, 3.14483105e+36, 3.21147989e+36, 3.30679509e+36,\n",
       "       3.30585289e+36, 3.34135574e+36, 3.41406742e+36, 3.41062570e+36,\n",
       "       3.45693275e+36, 3.58130956e+36, 3.64297739e+36, 3.66204018e+36,\n",
       "       3.62945126e+36, 3.73305405e+36, 3.74448117e+36, 3.79398550e+36,\n",
       "       3.87643039e+36, 3.91735900e+36, 3.89904770e+36, 3.98384024e+36,\n",
       "       3.89047112e+36, 4.05197026e+36, 4.09758917e+36, 4.07129036e+36,\n",
       "       4.06758384e+36, 4.16190177e+36, 4.14695588e+36, 4.18642019e+36,\n",
       "       4.19427339e+36, 4.16866997e+36, 4.06358204e+36, 3.95032358e+36,\n",
       "       3.99708379e+36, 4.17036854e+36, 4.16472369e+36, 3.97095042e+36,\n",
       "       3.90316454e+36, 4.04794012e+36, 4.17082951e+36, 4.18614959e+36,\n",
       "       4.19097950e+36, 4.26870843e+36, 4.36468919e+36, 4.35765554e+36,\n",
       "       4.33365294e+36, 4.33607006e+36, 4.47560116e+36, 4.53574266e+36,\n",
       "       4.61538996e+36, 4.71663002e+36, 4.70713939e+36, 4.75662029e+36,\n",
       "       4.81886123e+36, 4.84682999e+36, 4.88887171e+36, 4.92547795e+36,\n",
       "       5.01911768e+36, 5.12735851e+36, 5.20926428e+36, 5.36595079e+36,\n",
       "       5.34622857e+36, 5.30894901e+36, 5.19758696e+36, 5.24848465e+36,\n",
       "       5.37784707e+36, 5.39767563e+36, 5.56058557e+36, 5.66167877e+36,\n",
       "       5.53349640e+36, 5.37618566e+36, 5.26946744e+36, 5.08385986e+36,\n",
       "       5.40658480e+36, 5.51243171e+36, 5.65447183e+36, 5.66796683e+36,\n",
       "       5.56321188e+36, 5.82790454e+36, 5.76351190e+36, 5.77902073e+36,\n",
       "       5.80966149e+36, 6.01841515e+36, 6.13429783e+36, 6.30767740e+36,\n",
       "       6.16283446e+36, 5.53693656e+36, 5.29670233e+36, 5.67276849e+36])"
      ]
     },
     "execution_count": 97,
     "metadata": {},
     "output_type": "execute_result"
    }
   ],
   "source": [
    "X_b.dot(theta)"
   ]
  },
  {
   "cell_type": "code",
   "execution_count": 98,
   "metadata": {},
   "outputs": [],
   "source": [
    "theta_path_bgd = []\n",
    "\n",
    "def plot_gradient_descent(theta, eta, theta_path=None):\n",
    "    m = len(X_b)\n",
    "    plt.plot(X, y, \"b.\")\n",
    "    n_iterations = 1000\n",
    "    for iteration in range(n_iterations):\n",
    "        if iteration < 10:\n",
    "            y_predict = X_new_b.dot(theta)\n",
    "            style = \"b-\" if iteration > 0 else \"r--\"\n",
    "            plt.plot(X_new, y_predict, style)\n",
    "            \n",
    "        gradients = 2/m * X_b.T.dot(X_b.dot(theta) - y)\n",
    "        theta = theta - eta * gradients\n",
    "        if theta_path is not None:\n",
    "            theta_path.append(theta)\n",
    "    plt.xlabel(\"$x_1$\", fontsize=18)\n",
    "    plt.axis([0, 2, 0, 15])\n",
    "    plt.title(r\"$\\eta = {}$\".format(eta), fontsize=16)"
   ]
  },
  {
   "cell_type": "code",
   "execution_count": 99,
   "metadata": {},
   "outputs": [
    {
     "ename": "ValueError",
     "evalue": "shapes (240,5) and (2,1) not aligned: 5 (dim 1) != 2 (dim 0)",
     "output_type": "error",
     "traceback": [
      "\u001b[1;31m---------------------------------------------------------------------------\u001b[0m",
      "\u001b[1;31mValueError\u001b[0m                                Traceback (most recent call last)",
      "\u001b[1;32m<ipython-input-99-5f99db502e82>\u001b[0m in \u001b[0;36m<module>\u001b[1;34m\u001b[0m\n\u001b[0;32m      3\u001b[0m \u001b[1;33m\u001b[0m\u001b[0m\n\u001b[0;32m      4\u001b[0m \u001b[0mplt\u001b[0m\u001b[1;33m.\u001b[0m\u001b[0mfigure\u001b[0m\u001b[1;33m(\u001b[0m\u001b[0mfigsize\u001b[0m\u001b[1;33m=\u001b[0m\u001b[1;33m(\u001b[0m\u001b[1;36m10\u001b[0m\u001b[1;33m,\u001b[0m\u001b[1;36m4\u001b[0m\u001b[1;33m)\u001b[0m\u001b[1;33m)\u001b[0m\u001b[1;33m\u001b[0m\u001b[1;33m\u001b[0m\u001b[0m\n\u001b[1;32m----> 5\u001b[1;33m \u001b[0mplt\u001b[0m\u001b[1;33m.\u001b[0m\u001b[0msubplot\u001b[0m\u001b[1;33m(\u001b[0m\u001b[1;36m131\u001b[0m\u001b[1;33m)\u001b[0m\u001b[1;33m;\u001b[0m \u001b[0mplot_gradient_descent\u001b[0m\u001b[1;33m(\u001b[0m\u001b[0mtheta\u001b[0m\u001b[1;33m,\u001b[0m \u001b[0meta\u001b[0m\u001b[1;33m=\u001b[0m\u001b[1;36m0.02\u001b[0m\u001b[1;33m)\u001b[0m\u001b[1;33m\u001b[0m\u001b[1;33m\u001b[0m\u001b[0m\n\u001b[0m\u001b[0;32m      6\u001b[0m \u001b[0mplt\u001b[0m\u001b[1;33m.\u001b[0m\u001b[0mylabel\u001b[0m\u001b[1;33m(\u001b[0m\u001b[1;34m\"$y$\"\u001b[0m\u001b[1;33m,\u001b[0m \u001b[0mrotation\u001b[0m\u001b[1;33m=\u001b[0m\u001b[1;36m0\u001b[0m\u001b[1;33m,\u001b[0m \u001b[0mfontsize\u001b[0m\u001b[1;33m=\u001b[0m\u001b[1;36m18\u001b[0m\u001b[1;33m)\u001b[0m\u001b[1;33m\u001b[0m\u001b[1;33m\u001b[0m\u001b[0m\n\u001b[0;32m      7\u001b[0m \u001b[0mplt\u001b[0m\u001b[1;33m.\u001b[0m\u001b[0msubplot\u001b[0m\u001b[1;33m(\u001b[0m\u001b[1;36m132\u001b[0m\u001b[1;33m)\u001b[0m\u001b[1;33m;\u001b[0m \u001b[0mplot_gradient_descent\u001b[0m\u001b[1;33m(\u001b[0m\u001b[0mtheta\u001b[0m\u001b[1;33m,\u001b[0m \u001b[0meta\u001b[0m\u001b[1;33m=\u001b[0m\u001b[1;36m0.1\u001b[0m\u001b[1;33m,\u001b[0m \u001b[0mtheta_path\u001b[0m\u001b[1;33m=\u001b[0m\u001b[0mtheta_path_bgd\u001b[0m\u001b[1;33m)\u001b[0m\u001b[1;33m\u001b[0m\u001b[1;33m\u001b[0m\u001b[0m\n",
      "\u001b[1;32m<ipython-input-98-182ca5d9c0e6>\u001b[0m in \u001b[0;36mplot_gradient_descent\u001b[1;34m(theta, eta, theta_path)\u001b[0m\n\u001b[0;32m      7\u001b[0m     \u001b[1;32mfor\u001b[0m \u001b[0miteration\u001b[0m \u001b[1;32min\u001b[0m \u001b[0mrange\u001b[0m\u001b[1;33m(\u001b[0m\u001b[0mn_iterations\u001b[0m\u001b[1;33m)\u001b[0m\u001b[1;33m:\u001b[0m\u001b[1;33m\u001b[0m\u001b[1;33m\u001b[0m\u001b[0m\n\u001b[0;32m      8\u001b[0m         \u001b[1;32mif\u001b[0m \u001b[0miteration\u001b[0m \u001b[1;33m<\u001b[0m \u001b[1;36m10\u001b[0m\u001b[1;33m:\u001b[0m\u001b[1;33m\u001b[0m\u001b[1;33m\u001b[0m\u001b[0m\n\u001b[1;32m----> 9\u001b[1;33m             \u001b[0my_predict\u001b[0m \u001b[1;33m=\u001b[0m \u001b[0mX_new_b\u001b[0m\u001b[1;33m.\u001b[0m\u001b[0mdot\u001b[0m\u001b[1;33m(\u001b[0m\u001b[0mtheta\u001b[0m\u001b[1;33m)\u001b[0m\u001b[1;33m\u001b[0m\u001b[1;33m\u001b[0m\u001b[0m\n\u001b[0m\u001b[0;32m     10\u001b[0m             \u001b[0mstyle\u001b[0m \u001b[1;33m=\u001b[0m \u001b[1;34m\"b-\"\u001b[0m \u001b[1;32mif\u001b[0m \u001b[0miteration\u001b[0m \u001b[1;33m>\u001b[0m \u001b[1;36m0\u001b[0m \u001b[1;32melse\u001b[0m \u001b[1;34m\"r--\"\u001b[0m\u001b[1;33m\u001b[0m\u001b[1;33m\u001b[0m\u001b[0m\n\u001b[0;32m     11\u001b[0m             \u001b[0mplt\u001b[0m\u001b[1;33m.\u001b[0m\u001b[0mplot\u001b[0m\u001b[1;33m(\u001b[0m\u001b[0mX_new\u001b[0m\u001b[1;33m,\u001b[0m \u001b[0my_predict\u001b[0m\u001b[1;33m,\u001b[0m \u001b[0mstyle\u001b[0m\u001b[1;33m)\u001b[0m\u001b[1;33m\u001b[0m\u001b[1;33m\u001b[0m\u001b[0m\n",
      "\u001b[1;31mValueError\u001b[0m: shapes (240,5) and (2,1) not aligned: 5 (dim 1) != 2 (dim 0)"
     ]
    },
    {
     "data": {
      "image/png": "[encoded data removed]",
      "text/plain": [
       "<Figure size 720x288 with 1 Axes>"
      ]
     },
     "metadata": {
      "needs_background": "light"
     },
     "output_type": "display_data"
    }
   ],
   "source": [
    "np.random.seed(42)\n",
    "theta = np.random.randn(240,1)  # random initialization\n",
    "\n",
    "plt.figure(figsize=(10,4))\n",
    "plt.subplot(131); plot_gradient_descent(theta, eta=0.02)\n",
    "plt.ylabel(\"$y$\", rotation=0, fontsize=18)\n",
    "plt.subplot(132); plot_gradient_descent(theta, eta=0.1, theta_path=theta_path_bgd)\n",
    "plt.subplot(133); plot_gradient_descent(theta, eta=0.5)\n",
    "\n",
    "save_fig(\"gradient_descent_plot\")\n",
    "plt.show()"
   ]
  },
  {
   "cell_type": "markdown",
   "metadata": {},
   "source": [
    "# Regularized Linear Regression"
   ]
  },
  {
   "cell_type": "markdown",
   "metadata": {},
   "source": [
    "## Ridge Regression"
   ]
  },
  {
   "cell_type": "code",
   "execution_count": 100,
   "metadata": {},
   "outputs": [
    {
     "name": "stdout",
     "output_type": "stream",
     "text": [
      "ridge regression linear model intercept: 0.05016618162548525\n",
      "ridge regression linear model coeff:\n",
      "[ 0.00872125  0.64273312  0.83232051 -0.48166375]\n",
      "R-squared score (training): 0.998\n",
      "R-squared score (test): 0.998\n",
      "Number of non-zero features: 4\n"
     ]
    }
   ],
   "source": [
    "from sklearn.linear_model import Ridge\n",
    "X_train, X_test, y_train, y_test = train_test_split(X, y, random_state=0)\n",
    "\n",
    "linridge = Ridge(alpha=20.0).fit(X_train, y_train)\n",
    "\n",
    "print('ridge regression linear model intercept: {}'\n",
    "     .format(linridge.intercept_))\n",
    "print('ridge regression linear model coeff:\\n{}'\n",
    "     .format(linridge.coef_))\n",
    "print('R-squared score (training): {:.3f}'\n",
    "     .format(linridge.score(X_train, y_train)))\n",
    "print('R-squared score (test): {:.3f}'\n",
    "     .format(linridge.score(X_test, y_test)))\n",
    "print('Number of non-zero features: {}'\n",
    "     .format(np.sum(linridge.coef_ != 0)))"
   ]
  },
  {
   "cell_type": "code",
   "execution_count": 101,
   "metadata": {},
   "outputs": [
    {
     "name": "stdout",
     "output_type": "stream",
     "text": [
      "ridge regression linear model intercept: 98.2645910775835\n",
      "ridge regression linear model coeff:\n",
      "[38.45554244 42.36824534 44.23752511 43.33608165]\n",
      "R-squared score (training): 0.877\n",
      "R-squared score (test): 0.861\n",
      "Number of non-zero features: 4\n"
     ]
    }
   ],
   "source": [
    "from sklearn.preprocessing import MinMaxScaler\n",
    "scaler = MinMaxScaler()\n",
    "\n",
    "from sklearn.linear_model import Ridge\n",
    "X_train, X_test, y_train, y_test = train_test_split(X, y, random_state = 0)\n",
    "\n",
    "X_train_scaled = scaler.fit_transform(X_train)\n",
    "X_test_scaled = scaler.transform(X_test)\n",
    "\n",
    "linridge = Ridge(alpha=20.0).fit(X_train_scaled, y_train)\n",
    "\n",
    "print('ridge regression linear model intercept: {}'\n",
    "     .format(linridge.intercept_))\n",
    "print('ridge regression linear model coeff:\\n{}'\n",
    "     .format(linridge.coef_))\n",
    "print('R-squared score (training): {:.3f}'\n",
    "     .format(linridge.score(X_train_scaled, y_train)))\n",
    "print('R-squared score (test): {:.3f}'\n",
    "     .format(linridge.score(X_test_scaled, y_test)))\n",
    "print('Number of non-zero features: {}'\n",
    "     .format(np.sum(linridge.coef_ != 0)))"
   ]
  },
  {
   "cell_type": "code",
   "execution_count": 102,
   "metadata": {},
   "outputs": [
    {
     "name": "stdout",
     "output_type": "stream",
     "text": [
      "Ridge regression: effect of alpha regularization parameter\n",
      "\n",
      "Alpha = 0.00\n",
      "num abs(coeff) > 1.0: 4, r-squared training: 1.00, r-squared test: 1.00\n",
      "\n",
      "Alpha = 1.00\n",
      "num abs(coeff) > 1.0: 4, r-squared training: 0.99, r-squared test: 0.99\n",
      "\n",
      "Alpha = 10.00\n",
      "num abs(coeff) > 1.0: 4, r-squared training: 0.94, r-squared test: 0.93\n",
      "\n",
      "Alpha = 20.00\n",
      "num abs(coeff) > 1.0: 4, r-squared training: 0.88, r-squared test: 0.86\n",
      "\n",
      "Alpha = 50.00\n",
      "num abs(coeff) > 1.0: 4, r-squared training: 0.69, r-squared test: 0.67\n",
      "\n",
      "Alpha = 100.00\n",
      "num abs(coeff) > 1.0: 4, r-squared training: 0.50, r-squared test: 0.48\n",
      "\n",
      "Alpha = 1000.00\n",
      "num abs(coeff) > 1.0: 4, r-squared training: 0.08, r-squared test: 0.07\n",
      "\n"
     ]
    }
   ],
   "source": [
    "print('Ridge regression: effect of alpha regularization parameter\\n')\n",
    "for this_alpha in [0, 1, 10, 20, 50, 100, 1000]:\n",
    "    linridge = Ridge(alpha = this_alpha).fit(X_train_scaled, y_train)\n",
    "    r2_train = linridge.score(X_train_scaled, y_train)\n",
    "    r2_test = linridge.score(X_test_scaled, y_test)\n",
    "    num_coeff_bigger = np.sum(abs(linridge.coef_) > 1.0)\n",
    "    print('Alpha = {:.2f}\\nnum abs(coeff) > 1.0: {}, \\\n",
    "r-squared training: {:.2f}, r-squared test: {:.2f}\\n'\n",
    "         .format(this_alpha, num_coeff_bigger, r2_train, r2_test))"
   ]
  },
  {
   "cell_type": "markdown",
   "metadata": {},
   "source": [
    "## Lasso Regression"
   ]
  },
  {
   "cell_type": "code",
   "execution_count": 103,
   "metadata": {},
   "outputs": [
    {
     "name": "stdout",
     "output_type": "stream",
     "text": [
      "lasso regression linear model intercept: 89.19810034204994\n",
      "lasso regression linear model coeff:\n",
      "[  6.93655394  37.01612056 173.33301446   0.        ]\n",
      "Non-zero features: 3\n",
      "R-squared score (training): 0.975\n",
      "R-squared score (test): 0.973\n",
      "\n",
      "Features with non-zero weight (sorted by absolute magnitude):\n",
      "\thigh, 173.333\n",
      "\tlow, 37.016\n",
      "\ttimestamp, 6.937\n"
     ]
    }
   ],
   "source": [
    "from sklearn.linear_model import Lasso\n",
    "from sklearn.preprocessing import MinMaxScaler\n",
    "scaler = MinMaxScaler()\n",
    "\n",
    "X_train, X_test, y_train, y_test = train_test_split(X, y, random_state = 0)\n",
    "\n",
    "X_train_scaled = scaler.fit_transform(X_train)\n",
    "X_test_scaled = scaler.transform(X_test)\n",
    "\n",
    "linlasso = Lasso(alpha=2.0, max_iter = 10000).fit(X_train_scaled, y_train)\n",
    "\n",
    "print('lasso regression linear model intercept: {}'\n",
    "     .format(linlasso.intercept_))\n",
    "print('lasso regression linear model coeff:\\n{}'\n",
    "     .format(linlasso.coef_))\n",
    "print('Non-zero features: {}'\n",
    "     .format(np.sum(linlasso.coef_ != 0)))\n",
    "print('R-squared score (training): {:.3f}'\n",
    "     .format(linlasso.score(X_train_scaled, y_train)))\n",
    "print('R-squared score (test): {:.3f}\\n'\n",
    "     .format(linlasso.score(X_test_scaled, y_test)))\n",
    "print('Features with non-zero weight (sorted by absolute magnitude):')\n",
    "\n",
    "for e in sorted (list(zip(list(X), linlasso.coef_)),\n",
    "                key = lambda e: -abs(e[1])):\n",
    "    if e[1] != 0:\n",
    "        print('\\t{}, {:.3f}'.format(e[0], e[1]))"
   ]
  },
  {
   "cell_type": "code",
   "execution_count": 104,
   "metadata": {},
   "outputs": [
    {
     "name": "stdout",
     "output_type": "stream",
     "text": [
      "Lasso regression: effect of alpha regularization\n",
      "parameter on number of features kept in final model\n",
      "\n",
      "Alpha = 0.50\n",
      "Features kept: 3, r-squared training: 1.00, r-squared test: 1.00\n",
      "\n",
      "Alpha = 1.00\n",
      "Features kept: 3, r-squared training: 0.99, r-squared test: 0.99\n",
      "\n",
      "Alpha = 2.00\n",
      "Features kept: 3, r-squared training: 0.98, r-squared test: 0.97\n",
      "\n",
      "Alpha = 3.00\n",
      "Features kept: 2, r-squared training: 0.95, r-squared test: 0.95\n",
      "\n",
      "Alpha = 5.00\n",
      "Features kept: 2, r-squared training: 0.88, r-squared test: 0.87\n",
      "\n",
      "Alpha = 10.00\n",
      "Features kept: 2, r-squared training: 0.54, r-squared test: 0.52\n",
      "\n",
      "Alpha = 20.00\n",
      "Features kept: 0, r-squared training: 0.00, r-squared test: -0.00\n",
      "\n",
      "Alpha = 50.00\n",
      "Features kept: 0, r-squared training: 0.00, r-squared test: -0.00\n",
      "\n"
     ]
    }
   ],
   "source": [
    "print('Lasso regression: effect of alpha regularization\\n\\\n",
    "parameter on number of features kept in final model\\n')\n",
    "\n",
    "for alpha in [0.5, 1, 2, 3, 5, 10, 20, 50]:\n",
    "    linlasso = Lasso(alpha, max_iter = 10000).fit(X_train_scaled, y_train)\n",
    "    r2_train = linlasso.score(X_train_scaled, y_train)\n",
    "    r2_test = linlasso.score(X_test_scaled, y_test)\n",
    "    \n",
    "    print('Alpha = {:.2f}\\nFeatures kept: {}, r-squared training: {:.2f}, \\\n",
    "r-squared test: {:.2f}\\n'\n",
    "         .format(alpha, np.sum(linlasso.coef_ != 0), r2_train, r2_test))"
   ]
  },
  {
   "cell_type": "markdown",
   "metadata": {},
   "source": [
    "# Polynomial Regression"
   ]
  },
  {
   "cell_type": "code",
   "execution_count": 167,
   "metadata": {},
   "outputs": [],
   "source": [
    "from sklearn.preprocessing import PolynomialFeatures\n",
    "from sklearn.model_selection import KFold # import k-fold validation\n",
    "from sklearn.metrics import classification_report\n",
    "from sklearn.metrics import mean_squared_error\n",
    "from math import sqrt\n",
    "from sklearn.model_selection import train_test_split\n",
    "\n",
    "def plot_learning_curves(model, X, y):\n",
    "    X_train, X_val, y_train, y_val = train_test_split(X, y, test_size=0.2, random_state=10)\n",
    "    \n",
    "    train_errors, val_errors = [], []\n",
    "    \n",
    "    for m in range(1, len(X_train)):\n",
    "        model.fit(X_train[:m], y_train[:m])\n",
    "        y_train_predict = model.predict(X_train[:m])\n",
    "        y_val_predict = model.predict(X_val)\n",
    "        train_errors.append(mean_squared_error(y_train[:m], y_train_predict))\n",
    "        val_errors.append(mean_squared_error(y_val, y_val_predict))\n",
    "        \n",
    "    plt.plot(np.sqrt(train_errors), \"r-+\", linewidth=2, label=\"train\")\n",
    "    plt.plot(np.sqrt(val_errors), \"b-\", linewidth=3, label=\"val\")\n",
    "    plt.legend(loc=\"upper right\", fontsize=14)   # not shown in the book\n",
    "    plt.xlabel(\"Training set size\", fontsize=14) # not shown\n",
    "    plt.ylabel(\"RMSE\", fontsize=14)              # not shown"
   ]
  },
  {
   "cell_type": "code",
   "execution_count": 209,
   "metadata": {},
   "outputs": [
    {
     "name": "stdout",
     "output_type": "stream",
     "text": [
      "POLYNOMIAL DEGREE-2 W/ LINEAR REGRESSION\n",
      "(poly deg 2) linear model coeff (w):\n",
      "[ 0.00000000e+00 -7.99347520e-02  4.34919318e-01  1.26693145e+00\n",
      " -6.02763967e-01 -9.42272764e-05 -1.54505944e-04  2.97197557e-03\n",
      " -2.18838683e-03  1.61169760e-03  9.02590734e-03 -1.13616915e-02\n",
      "  3.05089655e-03 -1.98144026e-02  1.70040618e-02]\n",
      "(poly deg 2) linear model intercept (b): -5.150\n",
      "(poly deg 2) R-squared score (training): 0.998\n",
      "(poly deg 2) R-squared score (test): 0.998\n",
      "(poly deg 2) RMSE score (train): 2.618\n",
      "(poly deg 2) RMSE score (test): 2.882\n",
      "\n",
      "POLYNOMIAL DEGREE-3 W/ LINEAR REGRESSION\n",
      "(poly deg 3) linear model coeff (w):\n",
      "[-5.16075744e+06  2.80254772e-01  2.09841510e+00 -7.94064812e-01\n",
      " -2.73281880e-01 -2.24025650e-03  6.81348823e-03 -7.94573412e-04\n",
      " -6.62889712e-03  3.31144437e-02 -1.74254272e-01  9.98042800e-02\n",
      "  1.68572138e-01 -1.64736814e-01  3.76296992e-02 -7.48529833e-06\n",
      " -7.81697797e-05  8.51464694e-05  1.50377400e-05 -5.37922390e-04\n",
      "  6.61120185e-04  4.07197303e-04 -1.47686763e-03  2.32154330e-03\n",
      " -1.38384431e-03  2.19277606e-04  2.55870829e-03 -2.93092885e-03\n",
      "  7.32178248e-03 -1.96026558e-02  1.24028241e-02  1.62832347e-03\n",
      " -1.18104444e-02  2.10996644e-02 -1.08867762e-02]\n",
      "(poly deg 3) linear model intercept (b): 5160754.244\n",
      "(poly deg 3) R-squared score (training): 0.998\n",
      "(poly deg 3) R-squared score (test): 0.996\n",
      "(poly deg 3) RMSE score (train): 2.503\n",
      "(poly deg 3) RMSE score (test): 4.056\n",
      "\n",
      "POLYNOMIAL DEGREE-5 W/ LINEAR REGRESSION\n",
      "(poly deg 5) linear model coeff (w):\n",
      "[-9.05022137e+01  5.84092967e+00 -2.74098276e+01 -5.21734757e+01\n",
      "  5.56689738e+01 -7.64451613e-02 -1.43441560e+00 -1.95321974e-01\n",
      "  1.57694181e+00  3.28750260e-01  5.39735131e+00 -4.28394432e+00\n",
      "  1.27825159e+00 -6.39027462e+00  3.97979124e+00  2.41108481e-04\n",
      " -6.47972411e-03 -3.84085030e-03  1.19437478e-02 -1.60909337e-01\n",
      "  3.35925743e-01  7.67777245e-03 -3.20320189e-02 -2.56615868e-01\n",
      "  1.04633774e-01 -4.37949700e-02 -1.08612814e-01  3.19862001e-01\n",
      " -2.16015696e-01  3.68297809e-01 -4.65975107e-01 -1.95806137e-01\n",
      "  7.84081106e-01 -8.29257431e-01  3.85952551e-01 -2.53790294e-06\n",
      " -3.32427561e-05  4.74756679e-05 -1.23842577e-05  2.81519790e-04\n",
      " -1.12955769e-03  7.65245757e-04  1.21811871e-03 -1.43800934e-03\n",
      "  2.89209852e-04 -3.29696247e-03  2.16982692e-02 -1.07139305e-02\n",
      " -3.53720576e-02  2.74048389e-02 -4.35436697e-03  7.85289951e-03\n",
      "  8.92692021e-03 -1.96818853e-02  7.55216857e-03 -7.63933158e-03\n",
      " -2.79167807e-03  3.39855675e-02  1.04205161e-02 -2.46598995e-02\n",
      " -3.43412248e-02  3.76224684e-02 -1.12878605e-01  1.29870827e-01\n",
      " -2.03429442e-02  1.13436855e-02 -8.53009459e-02  1.78963275e-01\n",
      " -1.57737702e-01  4.34850860e-02  1.05888978e-08 -1.04838826e-07\n",
      " -1.03282437e-07  1.98034781e-07 -2.32340199e-06  7.39782532e-06\n",
      " -2.59162710e-06 -3.56472207e-06  2.59833656e-07  8.05679687e-07\n",
      " -4.55376020e-07 -2.52354154e-05  2.93406978e-05  1.48889469e-04\n",
      " -2.61487142e-04  1.05177675e-04 -9.81857000e-05  1.55556546e-04\n",
      " -2.81901618e-05 -2.53453331e-05 -9.10704958e-05  3.06154787e-04\n",
      "  4.88450128e-05 -1.20571654e-03  1.48848849e-03 -8.08105008e-04\n",
      "  9.92510554e-04 -7.07413467e-04 -6.23160307e-04  6.88530472e-04\n",
      " -1.45538969e-04 -2.72989648e-04  6.23065053e-04 -1.67641617e-04\n",
      " -1.26023165e-04 -1.02283271e-04  2.24491878e-04  3.61735865e-04\n",
      "  2.04104493e-03 -5.20126443e-03  1.85229669e-03  1.03447362e-03\n",
      " -8.16920296e-03  1.52453944e-02 -6.67671725e-03  2.57430313e-06\n",
      " -3.23406650e-03  1.37644196e-02 -1.94043369e-02  8.09362525e-03\n",
      "  8.86256426e-05 -3.46589615e-04  2.62398782e-03 -7.73137587e-03\n",
      "  8.98565978e-03 -3.45247704e-03]\n",
      "(poly deg 5) linear model intercept (b): 794.004\n",
      "(poly deg 5) R-squared score (training): 0.998\n",
      "(poly deg 5) R-squared score (test): 0.385\n",
      "(poly deg 5) RMSE score (train): 2.862\n",
      "(poly deg 5) RMSE score (test): 50.208\n",
      "\n",
      "POLYNOMIAL DEGREE-10 W/ LINEAR REGRESSION\n",
      "(poly deg 10) linear model coeff (w):\n",
      "[-2.81390980e-14 -1.06758650e-14 -1.60538481e-14 ... -1.29297153e-13\n",
      " -4.42180777e-13  4.35094481e-13]\n",
      "(poly deg 10) linear model intercept (b): 31.227\n",
      "(poly deg 10) R-squared score (training): 1.000\n",
      "(poly deg 10) R-squared score (test): -35325.746\n",
      "(poly deg 10) RMSE score (train): 0.257\n",
      "(poly deg 10) RMSE score (test): 12028.557\n",
      "\n"
     ]
    },
    {
     "data": {
      "image/png": "[encoded data removed]",
      "text/plain": [
       "<Figure size 432x288 with 1 Axes>"
      ]
     },
     "metadata": {
      "needs_background": "light"
     },
     "output_type": "display_data"
    }
   ],
   "source": [
    "for degree in [2, 3, 5,10]:\n",
    "    poly = PolynomialFeatures(degree)\n",
    "    X_F1_poly = poly.fit_transform(X)\n",
    "\n",
    "    X_train, X_test, y_train, y_test = train_test_split(X_F1_poly, y, random_state=0)\n",
    "    linreg = LinearRegression().fit(X_train, y_train)\n",
    "\n",
    "    print('POLYNOMIAL DEGREE-{} W/ LINEAR REGRESSION'.format(degree))\n",
    "    print('(poly deg {}) linear model coeff (w):\\n{}'\n",
    "         .format(degree, linreg.coef_))\n",
    "    print('(poly deg {}) linear model intercept (b): {:.3f}'\n",
    "         .format(degree, linreg.intercept_))\n",
    "    print('(poly deg {}) R-squared score (training): {:.3f}'\n",
    "         .format(degree, linreg.score(X_train, y_train)))\n",
    "    print('(poly deg {}) R-squared score (test): {:.3f}'\n",
    "         .format(degree, linreg.score(X_test, y_test)))\n",
    "    print('(poly deg {}) RMSE score (train): {:.3f}'\n",
    "         .format(degree, sqrt(mean_squared_error(y_train, linreg.predict(X_train)))))\n",
    "    print('(poly deg {}) RMSE score (test): {:.3f}\\n'\n",
    "         .format(degree, sqrt(mean_squared_error(y_test, linreg.predict(X_test)))))\n",
    "\n",
    "plot_learning_curves(linreg,  X,y)\n"
   ]
  },
  {
   "cell_type": "code",
   "execution_count": 211,
   "metadata": {},
   "outputs": [
    {
     "name": "stdout",
     "output_type": "stream",
     "text": [
      "POLYNOMIAL DEGREE-2 W/ RIDGE REGRESSION\n",
      "(poly deg 2) linear model coeff (w):\n",
      "[ 0.00000000e+00 -7.98426205e-02  4.34916393e-01  1.25916204e+00\n",
      " -5.95295586e-01 -9.24276543e-05 -1.60006468e-04  2.95921300e-03\n",
      " -2.17243998e-03  1.61157806e-03  9.03975420e-03 -1.13707216e-02\n",
      "  3.04643323e-03 -1.97743849e-02  1.69646238e-02]\n",
      "(poly deg 2) linear model intercept (b): -5.109\n",
      "(poly deg 2) R-squared score (training): 0.998\n",
      "(poly deg 2) R-squared score (test): 0.998\n",
      "(poly deg 2) RMSE score (train): 2.618\n",
      "(poly deg 2) RMSE score (test): 2.880\n",
      "\n",
      "POLYNOMIAL DEGREE-3 W/ RIDGE REGRESSION\n",
      "(poly deg 3) linear model coeff (w):\n",
      "[ 0.00000000e+00  2.78549423e-01  1.93373813e+00 -5.95724884e-01\n",
      " -2.87435536e-01 -1.82480363e-03  6.07140566e-03 -7.96322946e-04\n",
      " -6.73928760e-03  2.97403681e-02 -1.68778384e-01  9.75296836e-02\n",
      "  1.66953755e-01 -1.64688418e-01  3.96188533e-02 -3.62636305e-06\n",
      "  1.27449755e-05 -2.19172077e-06  7.35113346e-06 -3.42879300e-04\n",
      " -8.89801191e-05  6.90418776e-04 -9.56618568e-04  2.08484137e-03\n",
      " -1.39259056e-03  5.03336806e-04  2.18370630e-03 -3.43716470e-03\n",
      "  7.87150619e-03 -1.95574626e-02  1.27510279e-02  1.46507427e-03\n",
      " -1.22654311e-02  2.17281405e-02 -1.12439100e-02]\n",
      "(poly deg 3) linear model intercept (b): -7.119\n",
      "(poly deg 3) R-squared score (training): 0.999\n",
      "(poly deg 3) R-squared score (test): 0.997\n",
      "(poly deg 3) RMSE score (train): 2.158\n",
      "(poly deg 3) RMSE score (test): 3.415\n",
      "\n",
      "POLYNOMIAL DEGREE-5 W/ RIDGE REGRESSION\n",
      "(poly deg 5) linear model coeff (w):\n",
      "[ 7.38357250e-03 -1.68688875e-01 -7.37668206e-01 -6.85124766e-01\n",
      " -6.26502182e-01  6.02873047e-03 -1.21255120e+00  6.58704321e-01\n",
      "  4.98850007e-01  6.05727694e-01  9.22550093e-02 -1.45928444e-01\n",
      " -1.79099498e-01 -1.74416408e-01 -1.18617659e-01  5.77197406e-06\n",
      " -1.00181590e-02 -1.51004708e-03  1.12914627e-02 -1.17509427e-01\n",
      "  2.47570951e-01  1.52610356e-02 -7.73346364e-02 -9.45660278e-02\n",
      "  2.76167118e-02 -3.32278819e-02 -1.59669487e-02  1.63827205e-01\n",
      "  2.02372586e-01 -5.29956153e-01  1.09506018e-01 -1.40707302e-01\n",
      "  2.79852462e-01  6.56921190e-03 -4.32652169e-02  2.99145620e-06\n",
      "  1.12605863e-05 -1.41749277e-05 -3.44318583e-06  1.54947635e-04\n",
      " -1.58665359e-04 -2.78370866e-05  3.71365727e-04 -5.62231738e-04\n",
      "  2.28336667e-04 -2.95718200e-03  1.49167137e-02 -5.17488019e-03\n",
      " -2.90908575e-02  2.73490384e-02 -9.10255280e-03  6.51494144e-03\n",
      "  8.95245247e-03 -2.15334990e-02  1.01195252e-02 -5.82893937e-03\n",
      "  2.85447607e-03  2.12003463e-02  2.58609759e-02 -6.85264075e-02\n",
      "  4.87248419e-03 -2.72061752e-03 -2.76747286e-02  8.95885402e-02\n",
      " -3.23192362e-02  8.39547768e-03 -3.35085414e-02  6.01133750e-02\n",
      " -6.54153559e-02  2.31126290e-02  1.27149305e-08 -2.94703370e-07\n",
      " -8.32669700e-08  3.10486967e-07 -6.06191881e-07  2.95213917e-07\n",
      "  1.58805447e-06 -2.58445981e-06  5.42442732e-06 -4.01431313e-06\n",
      "  2.36400602e-06 -6.46246684e-05  5.98781273e-05  1.54654560e-04\n",
      " -1.93865235e-04  4.09342167e-05 -5.53064577e-05  2.31107122e-05\n",
      "  6.76379359e-05 -3.48345369e-05 -7.08358535e-05  2.41559631e-04\n",
      "  3.64352516e-05 -8.00800479e-04  9.36298540e-04 -5.51170170e-04\n",
      "  7.44806191e-04 -7.56614580e-04 -9.40794080e-05  3.86864399e-04\n",
      " -3.74831215e-05 -5.38681400e-04  1.15262240e-03 -7.41583101e-04\n",
      "  9.26618685e-05 -8.51633953e-05  1.51582433e-04  3.31212328e-04\n",
      "  1.73818078e-03 -4.29336357e-03  1.48381329e-03 -8.15347676e-04\n",
      " -1.99856242e-03  7.95975934e-03 -3.97277509e-03  1.26909666e-03\n",
      " -4.32545290e-03  9.08150933e-03 -1.14613576e-02  4.79874316e-03\n",
      "  7.47525458e-05 -1.61047274e-03  5.73484248e-03 -9.29835358e-03\n",
      "  7.80712152e-03 -2.56976289e-03]\n",
      "(poly deg 5) linear model intercept (b): 104.234\n",
      "(poly deg 5) R-squared score (training): 1.000\n",
      "(poly deg 5) R-squared score (test): 0.644\n",
      "(poly deg 5) RMSE score (train): 1.110\n",
      "(poly deg 5) RMSE score (test): 38.187\n",
      "\n",
      "POLYNOMIAL DEGREE-10 W/ RIDGE REGRESSION\n",
      "(poly deg 10) linear model coeff (w):\n",
      "[ 0.00000000e+00  4.72190174e-36  8.94190420e-35 ... -1.49918086e-19\n",
      "  1.80836643e-19  8.09819868e-19]\n",
      "(poly deg 10) linear model intercept (b): 103.230\n",
      "(poly deg 10) R-squared score (training): 0.979\n",
      "(poly deg 10) R-squared score (test): -0.709\n",
      "(poly deg 10) RMSE score (train): 8.794\n",
      "(poly deg 10) RMSE score (test): 83.665\n",
      "\n"
     ]
    },
    {
     "name": "stderr",
     "output_type": "stream",
     "text": [
      "C:\\ProgramData\\Anaconda3\\lib\\site-packages\\sklearn\\linear_model\\_ridge.py:148: LinAlgWarning: Ill-conditioned matrix (rcond=5.66151e-18): result may not be accurate.\n",
      "  overwrite_a=True).T\n",
      "C:\\ProgramData\\Anaconda3\\lib\\site-packages\\sklearn\\linear_model\\_ridge.py:190: UserWarning: Singular matrix in solving dual problem. Using least-squares solution instead.\n",
      "  warnings.warn(\"Singular matrix in solving dual problem. Using \"\n"
     ]
    },
    {
     "data": {
      "image/png": "[encoded data removed]",
      "text/plain": [
       "<Figure size 432x288 with 1 Axes>"
      ]
     },
     "metadata": {
      "needs_background": "light"
     },
     "output_type": "display_data"
    }
   ],
   "source": [
    "for degree in [2, 3, 5, 10]:\n",
    "    poly = PolynomialFeatures(degree)\n",
    "    X_F1_poly = poly.fit_transform(X)\n",
    "\n",
    "    X_train, X_test, y_train, y_test = train_test_split(X_F1_poly, y, random_state=0)\n",
    "    linreg = Ridge().fit(X_train, y_train)\n",
    "\n",
    "    print('POLYNOMIAL DEGREE-{} W/ RIDGE REGRESSION'.format(degree))\n",
    "    print('(poly deg {}) linear model coeff (w):\\n{}'\n",
    "         .format(degree, linreg.coef_))\n",
    "    print('(poly deg {}) linear model intercept (b): {:.3f}'\n",
    "         .format(degree, linreg.intercept_))\n",
    "    print('(poly deg {}) R-squared score (training): {:.3f}'\n",
    "         .format(degree, linreg.score(X_train, y_train)))\n",
    "    print('(poly deg {}) R-squared score (test): {:.3f}'\n",
    "         .format(degree, linreg.score(X_test, y_test)))\n",
    "    print('(poly deg {}) RMSE score (train): {:.3f}'\n",
    "         .format(degree, sqrt(mean_squared_error(y_train, linreg.predict(X_train)))))\n",
    "    print('(poly deg {}) RMSE score (test): {:.3f}\\n'\n",
    "         .format(degree, sqrt(mean_squared_error(y_test, linreg.predict(X_test)))))\n",
    "\n",
    "plot_learning_curves(linreg,  X,y)"
   ]
  },
  {
   "cell_type": "code",
   "execution_count": null,
   "metadata": {},
   "outputs": [],
   "source": []
  },
  {
   "cell_type": "code",
   "execution_count": null,
   "metadata": {},
   "outputs": [],
   "source": []
  }
 ],
 "metadata": {
  "kernelspec": {
   "display_name": "Python 3",
   "language": "python",
   "name": "python3"
  },
  "language_info": {
   "codemirror_mode": {
    "name": "ipython",
    "version": 3
   },
   "file_extension": ".py",
   "mimetype": "text/x-python",
   "name": "python",
   "nbconvert_exporter": "python",
   "pygments_lexer": "ipython3",
   "version": "3.7.6"
  }
 },
 "nbformat": 4,
 "nbformat_minor": 4
}
