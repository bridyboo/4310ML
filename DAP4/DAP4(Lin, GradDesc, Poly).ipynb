{
 "cells": [
  {
   "cell_type": "code",
   "execution_count": 2,
   "metadata": {},
   "outputs": [
    {
     "name": "stdout",
     "output_type": "stream",
     "text": [
      "Download complete.\n"
     ]
    }
   ],
   "source": [
    "import os\n",
    "import urllib\n",
    "\n",
    "# Download the data\n",
    "API_KEY = \"PO6RG0NM9390YF3A\"\n",
    "STOCK_SYMBOL = \"SPY\"\n",
    "INTERVAL = \"1min\"\n",
    "DATA_TYPE = \"MONTHLY\" # INTRADAY || DAILY || WEEKLY || MONTHLY\n",
    "\n",
    "if DATA_TYPE == \"intraday\":\n",
    "    DOWNLOAD_ROOT = f\"https://www.alphavantage.co/query?function=TIME_SERIES_INTRADAY&symbol={STOCK_SYMBOL}&interval={INTERVAL}&apikey={API_KEY}&datatype=csv&ouputsize=full\"\n",
    "else:\n",
    "    DOWNLOAD_ROOT = f\"https://www.alphavantage.co/query?function=TIME_SERIES_{DATA_TYPE}&symbol={STOCK_SYMBOL}&apikey={API_KEY}&datatype=csv&ouputsize=full\"\n",
    "filename = STOCK_SYMBOL+\"_\"+DATA_TYPE+\".csv\"\n",
    "datapath = \"rawdata/\"\n",
    "os.makedirs(datapath, exist_ok=True)\n",
    "urllib.request.urlretrieve(DOWNLOAD_ROOT, datapath+filename)\n",
    "print('Download complete.')"
   ]
  },
  {
   "cell_type": "code",
   "execution_count": 3,
   "metadata": {},
   "outputs": [
    {
     "name": "stdout",
     "output_type": "stream",
     "text": [
      "      timestamp      open      high       low     close      volume\n",
      "239  2000-06-30  143.6875  149.1562  143.0000  145.2812   127146000\n",
      "238  2000-07-31  145.4375  151.9843  141.5156  143.0000   106780100\n",
      "237  2000-08-31  143.6250  153.0937  142.6250  152.3437   102365500\n",
      "236  2000-09-29  153.2500  153.5937  142.1250  143.6250   113203000\n",
      "235  2000-10-31  144.2812  145.7500  130.1562  142.9531   178392400\n",
      "..          ...       ...       ...       ...       ...         ...\n",
      "4    2020-01-31  323.5400  332.9500  320.3600  321.7300  1389179454\n",
      "3    2020-02-28  323.3500  339.0800  285.5400  296.2600  2099672006\n",
      "2    2020-03-31  298.2100  313.8400  218.2600  257.7500  5888710884\n",
      "1    2020-04-30  247.9800  294.8800  243.9000  290.4800  2798273802\n",
      "0    2020-05-28  285.3100  306.8400  272.9900  303.0700  1782712301\n",
      "\n",
      "[240 rows x 6 columns]\n"
     ]
    }
   ],
   "source": [
    "import matplotlib.pyplot as plt\n",
    "import numpy as np\n",
    "import pandas as pd\n",
    "import datetime\n",
    "\n",
    "stock_data = pd.read_csv(datapath + filename, thousands=',')\n",
    "\n",
    "stock_data = stock_data.iloc[::-1]\n",
    "print(stock_data)"
   ]
  },
  {
   "cell_type": "code",
   "execution_count": 4,
   "metadata": {},
   "outputs": [],
   "source": [
    "def plot_learning_curves(model, X, y):\n",
    "    X_train, X_val, y_train, y_val = train_test_split(X, y, test_size=0.2, random_state=10)\n",
    "    \n",
    "    train_errors, val_errors = [], []\n",
    "    \n",
    "    for m in range(1, len(X_train)):\n",
    "        model.fit(X_train[:m], y_train[:m])\n",
    "        y_train_predict = model.predict(X_train[:m])\n",
    "        y_val_predict = model.predict(X_val)\n",
    "        train_errors.append(mean_squared_error(y_train[:m], y_train_predict))\n",
    "        val_errors.append(mean_squared_error(y_val, y_val_predict))\n",
    "        \n",
    "    plt.plot(np.sqrt(train_errors), \"r-+\", linewidth=2, label=\"train\")\n",
    "    plt.plot(np.sqrt(val_errors), \"b-\", linewidth=3, label=\"val\")\n",
    "    plt.legend(loc=\"upper right\", fontsize=14)   # not shown in the book\n",
    "    plt.xlabel(\"Training set size\", fontsize=14) # not shown\n",
    "    plt.ylabel(\"RMSE\", fontsize=14)              # not shown"
   ]
  },
  {
   "cell_type": "code",
   "execution_count": 5,
   "metadata": {},
   "outputs": [],
   "source": [
    "import sys\n",
    "assert sys.version_info >= (3, 5)\n",
    "\n",
    "import sklearn\n",
    "assert sklearn.__version__ >= \"0.20\"\n",
    "\n",
    "import numpy as np\n",
    "import pandas as pd\n",
    "import os\n",
    "from sklearn.metrics import confusion_matrix\n",
    "from sklearn.metrics import classification_report\n",
    "from sklearn.model_selection import train_test_split\n",
    "\n",
    "%matplotlib inline\n",
    "import matplotlib as mpl\n",
    "import matplotlib.pyplot as plt\n",
    "mpl.rc('axes', labelsize=14)\n",
    "mpl.rc('xtick', labelsize=12)\n",
    "mpl.rc('ytick', labelsize=12)"
   ]
  },
  {
   "cell_type": "code",
   "execution_count": 6,
   "metadata": {},
   "outputs": [
    {
     "name": "stdout",
     "output_type": "stream",
     "text": [
      "     timestamp      open      high       low     close      volume\n",
      "239          1  143.6875  149.1562  143.0000  145.2812   127146000\n",
      "238          2  145.4375  151.9843  141.5156  143.0000   106780100\n",
      "237          3  143.6250  153.0937  142.6250  152.3437   102365500\n",
      "236          4  153.2500  153.5937  142.1250  143.6250   113203000\n",
      "235          5  144.2812  145.7500  130.1562  142.9531   178392400\n",
      "..         ...       ...       ...       ...       ...         ...\n",
      "4          236  323.5400  332.9500  320.3600  321.7300  1389179454\n",
      "3          237  323.3500  339.0800  285.5400  296.2600  2099672006\n",
      "2          238  298.2100  313.8400  218.2600  257.7500  5888710884\n",
      "1          239  247.9800  294.8800  243.9000  290.4800  2798273802\n",
      "0          240  285.3100  306.8400  272.9900  303.0700  1782712301\n",
      "\n",
      "[240 rows x 6 columns]\n"
     ]
    }
   ],
   "source": [
    "from matplotlib import cm\n",
    "import datetime as dt\n",
    "rowNum = 1\n",
    "timeRow = []\n",
    "for index, row in stock_data.iterrows():\n",
    "    timeRow.append(rowNum)\n",
    "    rowNum += 1\n",
    "stock_data['timestamp'] = timeRow\n",
    "\n",
    "X = stock_data[['timestamp']]\n",
    "y = stock_data['close']\n",
    "print(stock_data)"
   ]
  },
  {
   "cell_type": "markdown",
   "metadata": {},
   "source": [
    "# Linear Regression"
   ]
  },
  {
   "cell_type": "code",
   "execution_count": 7,
   "metadata": {},
   "outputs": [],
   "source": [
    "from sklearn.linear_model import LinearRegression\n",
    "\n",
    "X_train, X_test, y_train, y_test = train_test_split(X, y, random_state=0)\n",
    "\n",
    "linreg = LinearRegression().fit(X_train, y_train)"
   ]
  },
  {
   "cell_type": "code",
   "execution_count": 8,
   "metadata": {},
   "outputs": [
    {
     "name": "stdout",
     "output_type": "stream",
     "text": [
      "linear model coeff (w): [0.74736092]\n",
      "linear model intercept (b): 72.359\n",
      "R-squared score (training): 0.736\n",
      "R-squared score (test): 0.651\n",
      "RMSE: 37.964\n"
     ]
    },
    {
     "data": {
      "image/png": "[encoded data removed]",
      "text/plain": [
       "<Figure size 360x288 with 1 Axes>"
      ]
     },
     "metadata": {
      "needs_background": "light"
     },
     "output_type": "display_data"
    }
   ],
   "source": [
    "from sklearn import metrics\n",
    "\n",
    "print('linear model coeff (w): {}'.format(linreg.coef_))\n",
    "\n",
    "print('linear model intercept (b): {:.3f}'.format(linreg.intercept_))\n",
    "\n",
    "print('R-squared score (training): {:.3f}'.format(linreg.score(X_train, y_train)))\n",
    "\n",
    "print('R-squared score (test): {:.3f}'.format(linreg.score(X_test, y_test)))\n",
    "\n",
    "\n",
    "# make predictions on the testing set\n",
    "y_pred = linreg.predict(X_test)\n",
    "print('RMSE: {:.3f}'.format(np.sqrt(metrics.mean_squared_error(y_test, y_pred))))\n",
    "\n",
    "\n",
    "plt.figure(figsize=(5,4))\n",
    "plt.scatter(X, y)\n",
    "plt.plot(X, linreg.coef_ * X + linreg.intercept_, 'r-')\n",
    "plt.title('Least-squares linear regression')\n",
    "plt.xlabel('Feature value (x)')\n",
    "plt.ylabel('Target value (y)')\n",
    "plt.show()"
   ]
  },
  {
   "cell_type": "code",
   "execution_count": 9,
   "metadata": {},
   "outputs": [
    {
     "data": {
      "text/plain": [
       "array([-32.43047891,  -5.27997638,  -5.57840794])"
      ]
     },
     "execution_count": 9,
     "metadata": {},
     "output_type": "execute_result"
    }
   ],
   "source": [
    "from sklearn.model_selection import cross_val_score\n",
    "\n",
    "cross_val_score(linreg, X, y, cv=3)"
   ]
  },
  {
   "cell_type": "code",
   "execution_count": 10,
   "metadata": {},
   "outputs": [
    {
     "name": "stdout",
     "output_type": "stream",
     "text": [
      "LINEAR REGRESSION\n",
      "linear model coeff (w):\n",
      "[0.74736092]\n",
      "linear model intercept (b): 72.359\n",
      "R-squared score (training): 0.736\n",
      "R-squared score (test): 0.651\n",
      " RMSE score (train): 31.377\n",
      "RMSE score (test): 37.964\n",
      "\n"
     ]
    }
   ],
   "source": [
    "from sklearn.metrics import mean_squared_error\n",
    "from math import sqrt\n",
    "\n",
    "\n",
    "linreg = LinearRegression().fit(X_train, y_train)\n",
    "\n",
    "print('LINEAR REGRESSION')\n",
    "print('linear model coeff (w):\\n{}'\n",
    "    .format(linreg.coef_))\n",
    "print('linear model intercept (b): {:.3f}'\n",
    "     .format(linreg.intercept_))\n",
    "print('R-squared score (training): {:.3f}'\n",
    "     .format(linreg.score(X_train, y_train)))\n",
    "print('R-squared score (test): {:.3f}'\n",
    "     .format(linreg.score(X_test, y_test)))\n",
    "print(' RMSE score (train): {:.3f}'\n",
    "     .format(sqrt(mean_squared_error(y_train, linreg.predict(X_train)))))\n",
    "print('RMSE score (test): {:.3f}\\n'\n",
    "     .format(sqrt(mean_squared_error(y_test, linreg.predict(X_test)))))"
   ]
  },
  {
   "cell_type": "code",
   "execution_count": 11,
   "metadata": {},
   "outputs": [
    {
     "data": {
      "image/png": "[encoded data removed]",
      "text/plain": [
       "<Figure size 432x288 with 1 Axes>"
      ]
     },
     "metadata": {
      "needs_background": "light"
     },
     "output_type": "display_data"
    }
   ],
   "source": [
    "plot_learning_curves(linreg,  X,y)"
   ]
  },
  {
   "cell_type": "markdown",
   "metadata": {},
   "source": [
    "# Linear Regression with Gradient Descent"
   ]
  },
  {
   "cell_type": "code",
   "execution_count": 12,
   "metadata": {},
   "outputs": [
    {
     "name": "stdout",
     "output_type": "stream",
     "text": [
      "[69.95855868  0.7554259 ]\n"
     ]
    }
   ],
   "source": [
    "X_b = np.c_[np.ones((240, 1)), X]  # add x0 = 1 to each instance\n",
    "\n",
    "theta_best = np.linalg.inv(X_b.T.dot(X_b)).dot(X_b.T).dot(y)\n",
    "\n",
    "print(theta_best)"
   ]
  },
  {
   "cell_type": "code",
   "execution_count": 13,
   "metadata": {},
   "outputs": [
    {
     "data": {
      "text/plain": [
       "array([69.95855868, 71.46941047])"
      ]
     },
     "execution_count": 13,
     "metadata": {},
     "output_type": "execute_result"
    }
   ],
   "source": [
    "X_new = np.array([[0], [2]])\n",
    "X_new_b = np.c_[np.ones((2, 1)), X_new]  # add x0 = 1 to each instance\n",
    "\n",
    "y_predict = X_new_b.dot(theta_best)\n",
    "y_predict"
   ]
  },
  {
   "cell_type": "code",
   "execution_count": 14,
   "metadata": {},
   "outputs": [
    {
     "name": "stdout",
     "output_type": "stream",
     "text": [
      "[0.03338246 0.08536784]\n"
     ]
    },
    {
     "data": {
      "text/plain": [
       "array([-3.24351020e+37, -5.20036115e+39])"
      ]
     },
     "execution_count": 14,
     "metadata": {},
     "output_type": "execute_result"
    }
   ],
   "source": [
    "eta = 0.1\n",
    "n_iterations = 10\n",
    "m = 100\n",
    "theta = np.random.randn(2, 1)\n",
    "theta = np.squeeze(np.asarray(theta))\n",
    "print (theta)\n",
    "for iteration in range(n_iterations):\n",
    "    gradients = 2/m * X_b.T.dot(X_b.dot(theta) - y)\n",
    "    theta = theta - eta * gradients\n",
    "theta"
   ]
  },
  {
   "cell_type": "code",
   "execution_count": 15,
   "metadata": {
    "scrolled": true
   },
   "outputs": [
    {
     "data": {
      "text/plain": [
       "array([-5.23279625e+39, -1.04331574e+40, -1.56335186e+40, -2.08338797e+40,\n",
       "       -2.60342409e+40, -3.12346020e+40, -3.64349632e+40, -4.16353243e+40,\n",
       "       -4.68356855e+40, -5.20360466e+40, -5.72364078e+40, -6.24367689e+40,\n",
       "       -6.76371301e+40, -7.28374912e+40, -7.80378524e+40, -8.32382135e+40,\n",
       "       -8.84385747e+40, -9.36389358e+40, -9.88392970e+40, -1.04039658e+41,\n",
       "       -1.09240019e+41, -1.14440380e+41, -1.19640742e+41, -1.24841103e+41,\n",
       "       -1.30041464e+41, -1.35241825e+41, -1.40442186e+41, -1.45642547e+41,\n",
       "       -1.50842909e+41, -1.56043270e+41, -1.61243631e+41, -1.66443992e+41,\n",
       "       -1.71644353e+41, -1.76844714e+41, -1.82045075e+41, -1.87245437e+41,\n",
       "       -1.92445798e+41, -1.97646159e+41, -2.02846520e+41, -2.08046881e+41,\n",
       "       -2.13247242e+41, -2.18447604e+41, -2.23647965e+41, -2.28848326e+41,\n",
       "       -2.34048687e+41, -2.39249048e+41, -2.44449409e+41, -2.49649770e+41,\n",
       "       -2.54850132e+41, -2.60050493e+41, -2.65250854e+41, -2.70451215e+41,\n",
       "       -2.75651576e+41, -2.80851937e+41, -2.86052298e+41, -2.91252660e+41,\n",
       "       -2.96453021e+41, -3.01653382e+41, -3.06853743e+41, -3.12054104e+41,\n",
       "       -3.17254465e+41, -3.22454827e+41, -3.27655188e+41, -3.32855549e+41,\n",
       "       -3.38055910e+41, -3.43256271e+41, -3.48456632e+41, -3.53656993e+41,\n",
       "       -3.58857355e+41, -3.64057716e+41, -3.69258077e+41, -3.74458438e+41,\n",
       "       -3.79658799e+41, -3.84859160e+41, -3.90059522e+41, -3.95259883e+41,\n",
       "       -4.00460244e+41, -4.05660605e+41, -4.10860966e+41, -4.16061327e+41,\n",
       "       -4.21261688e+41, -4.26462050e+41, -4.31662411e+41, -4.36862772e+41,\n",
       "       -4.42063133e+41, -4.47263494e+41, -4.52463855e+41, -4.57664217e+41,\n",
       "       -4.62864578e+41, -4.68064939e+41, -4.73265300e+41, -4.78465661e+41,\n",
       "       -4.83666022e+41, -4.88866383e+41, -4.94066745e+41, -4.99267106e+41,\n",
       "       -5.04467467e+41, -5.09667828e+41, -5.14868189e+41, -5.20068550e+41,\n",
       "       -5.25268911e+41, -5.30469273e+41, -5.35669634e+41, -5.40869995e+41,\n",
       "       -5.46070356e+41, -5.51270717e+41, -5.56471078e+41, -5.61671440e+41,\n",
       "       -5.66871801e+41, -5.72072162e+41, -5.77272523e+41, -5.82472884e+41,\n",
       "       -5.87673245e+41, -5.92873606e+41, -5.98073968e+41, -6.03274329e+41,\n",
       "       -6.08474690e+41, -6.13675051e+41, -6.18875412e+41, -6.24075773e+41,\n",
       "       -6.29276135e+41, -6.34476496e+41, -6.39676857e+41, -6.44877218e+41,\n",
       "       -6.50077579e+41, -6.55277940e+41, -6.60478301e+41, -6.65678663e+41,\n",
       "       -6.70879024e+41, -6.76079385e+41, -6.81279746e+41, -6.86480107e+41,\n",
       "       -6.91680468e+41, -6.96880830e+41, -7.02081191e+41, -7.07281552e+41,\n",
       "       -7.12481913e+41, -7.17682274e+41, -7.22882635e+41, -7.28082996e+41,\n",
       "       -7.33283358e+41, -7.38483719e+41, -7.43684080e+41, -7.48884441e+41,\n",
       "       -7.54084802e+41, -7.59285163e+41, -7.64485524e+41, -7.69685886e+41,\n",
       "       -7.74886247e+41, -7.80086608e+41, -7.85286969e+41, -7.90487330e+41,\n",
       "       -7.95687691e+41, -8.00888053e+41, -8.06088414e+41, -8.11288775e+41,\n",
       "       -8.16489136e+41, -8.21689497e+41, -8.26889858e+41, -8.32090219e+41,\n",
       "       -8.37290581e+41, -8.42490942e+41, -8.47691303e+41, -8.52891664e+41,\n",
       "       -8.58092025e+41, -8.63292386e+41, -8.68492748e+41, -8.73693109e+41,\n",
       "       -8.78893470e+41, -8.84093831e+41, -8.89294192e+41, -8.94494553e+41,\n",
       "       -8.99694914e+41, -9.04895276e+41, -9.10095637e+41, -9.15295998e+41,\n",
       "       -9.20496359e+41, -9.25696720e+41, -9.30897081e+41, -9.36097443e+41,\n",
       "       -9.41297804e+41, -9.46498165e+41, -9.51698526e+41, -9.56898887e+41,\n",
       "       -9.62099248e+41, -9.67299609e+41, -9.72499971e+41, -9.77700332e+41,\n",
       "       -9.82900693e+41, -9.88101054e+41, -9.93301415e+41, -9.98501776e+41,\n",
       "       -1.00370214e+42, -1.00890250e+42, -1.01410286e+42, -1.01930322e+42,\n",
       "       -1.02450358e+42, -1.02970394e+42, -1.03490430e+42, -1.04010467e+42,\n",
       "       -1.04530503e+42, -1.05050539e+42, -1.05570575e+42, -1.06090611e+42,\n",
       "       -1.06610647e+42, -1.07130683e+42, -1.07650719e+42, -1.08170755e+42,\n",
       "       -1.08690792e+42, -1.09210828e+42, -1.09730864e+42, -1.10250900e+42,\n",
       "       -1.10770936e+42, -1.11290972e+42, -1.11811008e+42, -1.12331044e+42,\n",
       "       -1.12851081e+42, -1.13371117e+42, -1.13891153e+42, -1.14411189e+42,\n",
       "       -1.14931225e+42, -1.15451261e+42, -1.15971297e+42, -1.16491333e+42,\n",
       "       -1.17011369e+42, -1.17531406e+42, -1.18051442e+42, -1.18571478e+42,\n",
       "       -1.19091514e+42, -1.19611550e+42, -1.20131586e+42, -1.20651622e+42,\n",
       "       -1.21171658e+42, -1.21691694e+42, -1.22211731e+42, -1.22731767e+42,\n",
       "       -1.23251803e+42, -1.23771839e+42, -1.24291875e+42, -1.24811911e+42])"
      ]
     },
     "execution_count": 15,
     "metadata": {},
     "output_type": "execute_result"
    }
   ],
   "source": [
    "X_b.dot(theta)"
   ]
  },
  {
   "cell_type": "code",
   "execution_count": 16,
   "metadata": {},
   "outputs": [],
   "source": [
    "theta_path_bgd = []\n",
    "\n",
    "def plot_gradient_descent(theta, eta, theta_path=None):\n",
    "    m = len(X_b)\n",
    "    plt.plot(X, y, \"b.\")\n",
    "    n_iterations = 1000\n",
    "    for iteration in range(n_iterations):\n",
    "        if iteration < 10:\n",
    "            y_predict = X_new_b.dot(theta)\n",
    "            style = \"b-\" if iteration > 0 else \"r--\"\n",
    "            plt.plot(X_new, y_predict, style)\n",
    "            \n",
    "        gradients = 2/m * X_b.T.dot(X_b.dot(theta) - y)\n",
    "        theta = theta - eta * gradients\n",
    "        if theta_path is not None:\n",
    "            theta_path.append(theta)\n",
    "    plt.xlabel(\"$x_1$\", fontsize=18)\n",
    "    plt.axis([0, 240, 0, 350])\n",
    "    plt.title(r\"$\\eta = {}$\".format(eta), fontsize=16)"
   ]
  },
  {
   "cell_type": "code",
   "execution_count": 17,
   "metadata": {},
   "outputs": [],
   "source": [
    "PROJECT_ROOT_DIR = \".\"\n",
    "CHAPTER_ID = \"gradientDescent\"\n",
    "IMAGES_PATH = os.path.join(PROJECT_ROOT_DIR, \"images\", CHAPTER_ID)\n",
    "os.makedirs(IMAGES_PATH, exist_ok=True)\n",
    "\n",
    "def save_fig(fig_id, tight_layout=True, fig_extension=\"png\", resolution=300):\n",
    "    path = os.path.join(IMAGES_PATH, fig_id + \".\" + fig_extension)\n",
    "    print(\"Saving figure\", fig_id)\n",
    "    if tight_layout:\n",
    "        plt.tight_layout()\n",
    "    plt.savefig(path, format=fig_extension, dpi=resolution)"
   ]
  },
  {
   "cell_type": "code",
   "execution_count": 18,
   "metadata": {},
   "outputs": [
    {
     "name": "stderr",
     "output_type": "stream",
     "text": [
      "/Users/dantemonaldo/opt/anaconda3/lib/python3.7/site-packages/ipykernel_launcher.py:14: RuntimeWarning: invalid value encountered in subtract\n",
      "  \n",
      "/Users/dantemonaldo/opt/anaconda3/lib/python3.7/site-packages/ipykernel_launcher.py:14: RuntimeWarning: invalid value encountered in subtract\n",
      "  \n",
      "/Users/dantemonaldo/opt/anaconda3/lib/python3.7/site-packages/ipykernel_launcher.py:14: RuntimeWarning: invalid value encountered in subtract\n",
      "  \n"
     ]
    },
    {
     "name": "stdout",
     "output_type": "stream",
     "text": [
      "Saving figure gradient_descent_plot\n"
     ]
    },
    {
     "data": {
      "image/png": "[encoded data removed]",
      "text/plain": [
       "<Figure size 720x288 with 3 Axes>"
      ]
     },
     "metadata": {
      "needs_background": "light"
     },
     "output_type": "display_data"
    }
   ],
   "source": [
    "np.random.seed(42)\n",
    "theta = np.random.randn(2, 1)\n",
    "theta = np.squeeze(np.asarray(theta))\n",
    "\n",
    "plt.figure(figsize=(10,4))\n",
    "plt.subplot(131); plot_gradient_descent(theta, eta=0.02)\n",
    "plt.ylabel(\"$y$\", rotation=0, fontsize=18)\n",
    "plt.subplot(132); plot_gradient_descent(theta, eta=0.1, theta_path=theta_path_bgd)\n",
    "plt.subplot(133); plot_gradient_descent(theta, eta=0.5)\n",
    "\n",
    "save_fig(\"gradient_descent_plot\")\n",
    "plt.show()"
   ]
  },
  {
   "cell_type": "markdown",
   "metadata": {},
   "source": []
  },
  {
   "cell_type": "markdown",
   "metadata": {},
   "source": [
    "# Regularized Linear Regression"
   ]
  },
  {
   "cell_type": "markdown",
   "metadata": {},
   "source": [
    "## Ridge Regression"
   ]
  },
  {
   "cell_type": "code",
   "execution_count": 19,
   "metadata": {},
   "outputs": [
    {
     "name": "stdout",
     "output_type": "stream",
     "text": [
      "ridge regression linear model intercept: 72.36189813698965\n",
      "ridge regression linear model coeff:\n",
      "[0.74733982]\n",
      "R-squared score (training): 0.736\n",
      "R-squared score (test): 0.651\n",
      "Number of non-zero features: 1\n"
     ]
    }
   ],
   "source": [
    "from sklearn.linear_model import Ridge\n",
    "X_train, X_test, y_train, y_test = train_test_split(X, y, random_state=0)\n",
    "\n",
    "linridge = Ridge(alpha=25.0).fit(X_train, y_train)\n",
    "\n",
    "print('ridge regression linear model intercept: {}'\n",
    "     .format(linridge.intercept_))\n",
    "print('ridge regression linear model coeff:\\n{}'\n",
    "     .format(linridge.coef_))\n",
    "print('R-squared score (training): {:.3f}'\n",
    "     .format(linridge.score(X_train, y_train)))\n",
    "print('R-squared score (test): {:.3f}'\n",
    "     .format(linridge.score(X_test, y_test)))\n",
    "print('Number of non-zero features: {}'\n",
    "     .format(np.sum(linridge.coef_ != 0)))"
   ]
  },
  {
   "cell_type": "code",
   "execution_count": 20,
   "metadata": {},
   "outputs": [
    {
     "name": "stdout",
     "output_type": "stream",
     "text": [
      "ridge regression linear model intercept: 73.10672764658696\n",
      "ridge regression linear model coeff:\n",
      "[177.87189896]\n",
      "R-squared score (training): 0.736\n",
      "R-squared score (test): 0.651\n",
      "Number of non-zero features: 1\n"
     ]
    }
   ],
   "source": [
    "from sklearn.preprocessing import MinMaxScaler\n",
    "scaler = MinMaxScaler()\n",
    "\n",
    "from sklearn.linear_model import Ridge\n",
    "X_train, X_test, y_train, y_test = train_test_split(X, y, random_state = 0)\n",
    "\n",
    "X_train_scaled = scaler.fit_transform(X_train)\n",
    "X_test_scaled = scaler.transform(X_test)\n",
    "\n",
    "linridge = Ridge(alpha=0).fit(X_train_scaled, y_train)\n",
    "\n",
    "print('ridge regression linear model intercept: {}'\n",
    "     .format(linridge.intercept_))\n",
    "print('ridge regression linear model coeff:\\n{}'\n",
    "     .format(linridge.coef_))\n",
    "print('R-squared score (training): {:.3f}'\n",
    "     .format(linridge.score(X_train_scaled, y_train)))\n",
    "print('R-squared score (test): {:.3f}'\n",
    "     .format(linridge.score(X_test_scaled, y_test)))\n",
    "print('Number of non-zero features: {}'\n",
    "     .format(np.sum(linridge.coef_ != 0)))"
   ]
  },
  {
   "cell_type": "code",
   "execution_count": 25,
   "metadata": {},
   "outputs": [
    {
     "name": "stderr",
     "output_type": "stream",
     "text": [
      "/Users/dantemonaldo/opt/anaconda3/lib/python3.7/site-packages/sklearn/linear_model/_coordinate_descent.py:476: ConvergenceWarning: Objective did not converge. You might want to increase the number of iterations. Duality gap: 0.0, tolerance: 0.0\n",
      "  positive)\n"
     ]
    },
    {
     "data": {
      "image/png": "[encoded data removed]",
      "text/plain": [
       "<Figure size 432x288 with 1 Axes>"
      ]
     },
     "metadata": {
      "needs_background": "light"
     },
     "output_type": "display_data"
    }
   ],
   "source": [
    "plot_learning_curves(linlasso,X,y)"
   ]
  },
  {
   "cell_type": "code",
   "execution_count": 21,
   "metadata": {},
   "outputs": [
    {
     "name": "stdout",
     "output_type": "stream",
     "text": [
      "Ridge regression: effect of alpha regularization parameter\n",
      "\n",
      "Alpha = 0.00\n",
      "num abs(coeff) > 1.0: 1, r-squared training: 0.74, r-squared test: 0.65\n",
      "\n",
      "Alpha = 1.00\n",
      "num abs(coeff) > 1.0: 1, r-squared training: 0.73, r-squared test: 0.65\n",
      "\n",
      "Alpha = 10.00\n",
      "num abs(coeff) > 1.0: 1, r-squared training: 0.62, r-squared test: 0.54\n",
      "\n",
      "Alpha = 20.00\n",
      "num abs(coeff) > 1.0: 1, r-squared training: 0.50, r-squared test: 0.43\n",
      "\n",
      "Alpha = 50.00\n",
      "num abs(coeff) > 1.0: 1, r-squared training: 0.31, r-squared test: 0.26\n",
      "\n",
      "Alpha = 100.00\n",
      "num abs(coeff) > 1.0: 1, r-squared training: 0.19, r-squared test: 0.15\n",
      "\n",
      "Alpha = 1000.00\n",
      "num abs(coeff) > 1.0: 1, r-squared training: 0.02, r-squared test: 0.01\n",
      "\n"
     ]
    }
   ],
   "source": [
    "print('Ridge regression: effect of alpha regularization parameter\\n')\n",
    "for this_alpha in [0, 1, 10, 20, 50, 100, 1000]:\n",
    "    linridge = Ridge(alpha = this_alpha).fit(X_train_scaled, y_train)\n",
    "    r2_train = linridge.score(X_train_scaled, y_train)\n",
    "    r2_test = linridge.score(X_test_scaled, y_test)\n",
    "    num_coeff_bigger = np.sum(abs(linridge.coef_) > 1.0)\n",
    "    print('Alpha = {:.2f}\\nnum abs(coeff) > 1.0: {}, \\\n",
    "r-squared training: {:.2f}, r-squared test: {:.2f}\\n'\n",
    "         .format(this_alpha, num_coeff_bigger, r2_train, r2_test))"
   ]
  },
  {
   "cell_type": "markdown",
   "metadata": {},
   "source": [
    "## Lasso Regression"
   ]
  },
  {
   "cell_type": "code",
   "execution_count": 22,
   "metadata": {},
   "outputs": [
    {
     "name": "stdout",
     "output_type": "stream",
     "text": [
      "lasso regression linear model intercept: 78.8627052830337\n",
      "lasso regression linear model coeff:\n",
      "[166.35833114]\n",
      "Non-zero features: 1\n",
      "R-squared score (training): 0.733\n",
      "R-squared score (test): 0.645\n",
      "\n",
      "Features with non-zero weight (sorted by absolute magnitude):\n",
      "\ttimestamp, 166.358\n"
     ]
    }
   ],
   "source": [
    "from sklearn.linear_model import Lasso\n",
    "from sklearn.preprocessing import MinMaxScaler\n",
    "scaler = MinMaxScaler()\n",
    "\n",
    "X_train, X_test, y_train, y_test = train_test_split(X, y, random_state = 0)\n",
    "\n",
    "X_train_scaled = scaler.fit_transform(X_train)\n",
    "X_test_scaled = scaler.transform(X_test)\n",
    "\n",
    "linlasso = Lasso(alpha=1, max_iter = 10000).fit(X_train_scaled, y_train)\n",
    "\n",
    "print('lasso regression linear model intercept: {}'\n",
    "     .format(linlasso.intercept_))\n",
    "print('lasso regression linear model coeff:\\n{}'\n",
    "     .format(linlasso.coef_))\n",
    "print('Non-zero features: {}'\n",
    "     .format(np.sum(linlasso.coef_ != 0)))\n",
    "print('R-squared score (training): {:.3f}'\n",
    "     .format(linlasso.score(X_train_scaled, y_train)))\n",
    "print('R-squared score (test): {:.3f}\\n'\n",
    "     .format(linlasso.score(X_test_scaled, y_test)))\n",
    "print('Features with non-zero weight (sorted by absolute magnitude):')\n",
    "\n",
    "for e in sorted (list(zip(list(X), linlasso.coef_)),\n",
    "                key = lambda e: -abs(e[1])):\n",
    "    if e[1] != 0:\n",
    "        print('\\t{}, {:.3f}'.format(e[0], e[1]))"
   ]
  },
  {
   "cell_type": "code",
   "execution_count": 23,
   "metadata": {},
   "outputs": [
    {
     "name": "stderr",
     "output_type": "stream",
     "text": [
      "/Users/dantemonaldo/opt/anaconda3/lib/python3.7/site-packages/sklearn/linear_model/_coordinate_descent.py:476: ConvergenceWarning: Objective did not converge. You might want to increase the number of iterations. Duality gap: 0.0, tolerance: 0.0\n",
      "  positive)\n"
     ]
    },
    {
     "data": {
      "image/png": "[encoded data removed]",
      "text/plain": [
       "<Figure size 432x288 with 1 Axes>"
      ]
     },
     "metadata": {
      "needs_background": "light"
     },
     "output_type": "display_data"
    }
   ],
   "source": [
    "plot_learning_curves(linlasso,X,y)"
   ]
  },
  {
   "cell_type": "code",
   "execution_count": 24,
   "metadata": {},
   "outputs": [
    {
     "name": "stdout",
     "output_type": "stream",
     "text": [
      "Lasso regression: effect of alpha regularization\n",
      "parameter on number of features kept in final model\n",
      "\n",
      "Alpha = 0.50\n",
      "Features kept: 1, r-squared training: 0.74, r-squared test: 0.65\n",
      "\n",
      "Alpha = 1.00\n",
      "Features kept: 1, r-squared training: 0.73, r-squared test: 0.65\n",
      "\n",
      "Alpha = 2.00\n",
      "Features kept: 1, r-squared training: 0.72, r-squared test: 0.63\n",
      "\n",
      "Alpha = 3.00\n",
      "Features kept: 1, r-squared training: 0.71, r-squared test: 0.62\n",
      "\n",
      "Alpha = 5.00\n",
      "Features kept: 1, r-squared training: 0.66, r-squared test: 0.57\n",
      "\n",
      "Alpha = 10.00\n",
      "Features kept: 1, r-squared training: 0.43, r-squared test: 0.36\n",
      "\n",
      "Alpha = 20.00\n",
      "Features kept: 0, r-squared training: 0.00, r-squared test: -0.00\n",
      "\n",
      "Alpha = 50.00\n",
      "Features kept: 0, r-squared training: 0.00, r-squared test: -0.00\n",
      "\n"
     ]
    }
   ],
   "source": [
    "print('Lasso regression: effect of alpha regularization\\n\\\n",
    "parameter on number of features kept in final model\\n')\n",
    "\n",
    "for alpha in [0.5, 1, 2, 3, 5, 10, 20, 50]:\n",
    "    linlasso = Lasso(alpha, max_iter = 10000).fit(X_train_scaled, y_train)\n",
    "    r2_train = linlasso.score(X_train_scaled, y_train)\n",
    "    r2_test = linlasso.score(X_test_scaled, y_test)\n",
    "    \n",
    "    print('Alpha = {:.2f}\\nFeatures kept: {}, r-squared training: {:.2f}, \\\n",
    "r-squared test: {:.2f}\\n'\n",
    "         .format(alpha, np.sum(linlasso.coef_ != 0), r2_train, r2_test))"
   ]
  },
  {
   "cell_type": "markdown",
   "metadata": {},
   "source": [
    "# Polynomial Regression"
   ]
  },
  {
   "cell_type": "code",
   "execution_count": 85,
   "metadata": {},
   "outputs": [],
   "source": [
    "from sklearn.preprocessing import PolynomialFeatures\n",
    "from sklearn.model_selection import KFold # import k-fold validation\n",
    "from sklearn.metrics import classification_report\n",
    "from sklearn.metrics import mean_squared_error\n",
    "from math import sqrt\n",
    "from sklearn.model_selection import train_test_split\n",
    "    \n",
    "X = stock_data[['timestamp']]\n",
    "y = stock_data['close']\n",
    "\n",
    "def plot_learning_curves(model, X, y):\n",
    "    X_train, X_val, y_train, y_val = train_test_split(X, y, test_size=0.2, random_state=10)\n",
    "    \n",
    "    train_errors, val_errors = [], []\n",
    "    \n",
    "    for m in range(1, len(X_train)):\n",
    "        model.fit(X_train[:m], y_train[:m])\n",
    "        y_train_predict = model.predict(X_train[:m])\n",
    "        y_val_predict = model.predict(X_val)\n",
    "        train_errors.append(mean_squared_error(y_train[:m], y_train_predict))\n",
    "        val_errors.append(mean_squared_error(y_val, y_val_predict))\n",
    "        \n",
    "    plt.plot(np.sqrt(train_errors), \"r-+\", linewidth=2, label=\"train\")\n",
    "    plt.plot(np.sqrt(val_errors), \"b-\", linewidth=3, label=\"val\")\n",
    "    plt.legend(loc=\"upper right\", fontsize=14)   # not shown in the book\n",
    "    plt.xlabel(\"Training set size\", fontsize=14) # not shown\n",
    "    plt.ylabel(\"RMSE\", fontsize=14)              # not shown"
   ]
  },
  {
   "cell_type": "code",
   "execution_count": 86,
   "metadata": {},
   "outputs": [
    {
     "name": "stdout",
     "output_type": "stream",
     "text": [
      "POLYNOMIAL DEGREE-2 W/ LINEAR REGRESSION\n",
      "(poly deg 2) linear model coeff (w):\n",
      "[ 0.         -0.75662664  0.00626281]\n",
      "(poly deg 2) linear model intercept (b): 131.842\n",
      "(poly deg 2) R-squared score (training): 0.919\n",
      "(poly deg 2) R-squared score (test): 0.920\n",
      "(poly deg 2) RMSE score (train): 17.406\n",
      "(poly deg 2) RMSE score (test): 18.047\n",
      "\n",
      "POLYNOMIAL DEGREE-3 W/ LINEAR REGRESSION\n",
      "(poly deg 3) linear model coeff (w):\n",
      "[ 0.00000000e+00 -3.89177610e-01  2.44153410e-03  1.06415777e-05]\n",
      "(poly deg 3) linear model intercept (b): 124.330\n",
      "(poly deg 3) R-squared score (training): 0.921\n",
      "(poly deg 3) R-squared score (test): 0.923\n",
      "(poly deg 3) RMSE score (train): 17.187\n",
      "(poly deg 3) RMSE score (test): 17.733\n",
      "\n",
      "POLYNOMIAL DEGREE-5 W/ LINEAR REGRESSION\n",
      "(poly deg 5) linear model coeff (w):\n",
      "[ 0.00000000e+00 -3.77036592e+00  1.05949449e-01 -1.17907746e-03\n",
      "  5.71509971e-06 -9.70460130e-09]\n",
      "(poly deg 5) linear model intercept (b): 149.710\n",
      "(poly deg 5) R-squared score (training): 0.945\n",
      "(poly deg 5) R-squared score (test): 0.925\n",
      "(poly deg 5) RMSE score (train): 14.356\n",
      "(poly deg 5) RMSE score (test): 17.492\n",
      "\n",
      "POLYNOMIAL DEGREE-10 W/ LINEAR REGRESSION\n",
      "(poly deg 10) linear model coeff (w):\n",
      "[ 0.00000000e+00  7.66592626e-09  4.26548636e-12  1.41356765e-10\n",
      "  6.20290190e-09  1.61314190e-07 -4.73643105e-09  5.46177171e-11\n",
      " -3.08876532e-13  8.58262182e-16 -9.39365918e-19]\n",
      "(poly deg 10) linear model intercept (b): 109.506\n",
      "(poly deg 10) R-squared score (training): 0.945\n",
      "(poly deg 10) R-squared score (test): 0.945\n",
      "(poly deg 10) RMSE score (train): 14.263\n",
      "(poly deg 10) RMSE score (test): 15.006\n",
      "\n"
     ]
    },
    {
     "data": {
      "image/png": "[encoded data removed]",
      "text/plain": [
       "<Figure size 432x288 with 1 Axes>"
      ]
     },
     "metadata": {
      "needs_background": "light"
     },
     "output_type": "display_data"
    }
   ],
   "source": [
    "for degree in [2, 3, 5,10]:\n",
    "    poly = PolynomialFeatures(degree)\n",
    "    X_F1_poly = poly.fit_transform(X)\n",
    "    \n",
    "    X_train, X_test, y_train, y_test = train_test_split(X_F1_poly, y, random_state=0)\n",
    "    linreg = LinearRegression().fit(X_train, y_train)\n",
    "\n",
    "    print('POLYNOMIAL DEGREE-{} W/ LINEAR REGRESSION'.format(degree))\n",
    "    print('(poly deg {}) linear model coeff (w):\\n{}'\n",
    "         .format(degree, linreg.coef_))\n",
    "    print('(poly deg {}) linear model intercept (b): {:.3f}'\n",
    "         .format(degree, linreg.intercept_))\n",
    "    print('(poly deg {}) R-squared score (training): {:.3f}'\n",
    "         .format(degree, linreg.score(X_train, y_train)))\n",
    "    print('(poly deg {}) R-squared score (test): {:.3f}'\n",
    "         .format(degree, linreg.score(X_test, y_test)))\n",
    "    print('(poly deg {}) RMSE score (train): {:.3f}'\n",
    "         .format(degree, sqrt(mean_squared_error(y_train, linreg.predict(X_train)))))\n",
    "    print('(poly deg {}) RMSE score (test): {:.3f}\\n'\n",
    "         .format(degree, sqrt(mean_squared_error(y_test, linreg.predict(X_test)))))\n",
    "\n",
    "plot_learning_curves(linreg,  X,y)\n"
   ]
  },
  {
   "cell_type": "code",
   "execution_count": 87,
   "metadata": {},
   "outputs": [
    {
     "name": "stdout",
     "output_type": "stream",
     "text": [
      "POLYNOMIAL DEGREE-2 W/ RIDGE REGRESSION\n",
      "(poly deg 2) linear model coeff (w):\n",
      "[ 0.         -0.75661183  0.00626275]\n",
      "(poly deg 2) linear model intercept (b): 131.841\n",
      "(poly deg 2) R-squared score (training): 0.919\n",
      "(poly deg 2) R-squared score (test): 0.920\n",
      "(poly deg 2) RMSE score (train): 17.406\n",
      "(poly deg 2) RMSE score (test): 18.047\n",
      "\n",
      "POLYNOMIAL DEGREE-3 W/ RIDGE REGRESSION\n",
      "(poly deg 3) linear model coeff (w):\n",
      "[ 0.00000000e+00 -3.89131472e-01  2.44110359e-03  1.06426934e-05]\n",
      "(poly deg 3) linear model intercept (b): 124.329\n",
      "(poly deg 3) R-squared score (training): 0.921\n",
      "(poly deg 3) R-squared score (test): 0.923\n",
      "(poly deg 3) RMSE score (train): 17.187\n",
      "(poly deg 3) RMSE score (test): 17.733\n",
      "\n",
      "POLYNOMIAL DEGREE-5 W/ RIDGE REGRESSION\n",
      "(poly deg 5) linear model coeff (w):\n",
      "[ 0.00000000e+00 -3.76513646e+00  1.05818535e-01 -1.17776631e-03\n",
      "  5.70940494e-06 -9.69565154e-09]\n",
      "(poly deg 5) linear model intercept (b): 149.655\n",
      "(poly deg 5) R-squared score (training): 0.945\n",
      "(poly deg 5) R-squared score (test): 0.925\n",
      "(poly deg 5) RMSE score (train): 14.356\n",
      "(poly deg 5) RMSE score (test): 17.489\n",
      "\n",
      "POLYNOMIAL DEGREE-10 W/ RIDGE REGRESSION\n",
      "(poly deg 10) linear model coeff (w):\n",
      "[ 0.00000000e+00 -4.01385572e+00  2.16256993e-01 -1.33313037e-02\n",
      "  4.80735563e-04 -9.11928584e-06  9.78739343e-08 -6.19716560e-10\n",
      "  2.29885906e-12 -4.62515622e-15  3.89954670e-18]\n",
      "(poly deg 10) linear model intercept (b): 154.260\n",
      "(poly deg 10) R-squared score (training): 0.973\n",
      "(poly deg 10) R-squared score (test): 0.965\n",
      "(poly deg 10) RMSE score (train): 10.125\n",
      "(poly deg 10) RMSE score (test): 12.001\n",
      "\n"
     ]
    },
    {
     "name": "stderr",
     "output_type": "stream",
     "text": [
      "C:\\Users\\aboss\\anaconda3\\lib\\site-packages\\sklearn\\linear_model\\_ridge.py:148: LinAlgWarning: Ill-conditioned matrix (rcond=1.41122e-25): result may not be accurate.\n",
      "  overwrite_a=True).T\n",
      "C:\\Users\\aboss\\anaconda3\\lib\\site-packages\\sklearn\\linear_model\\_ridge.py:148: LinAlgWarning: Ill-conditioned matrix (rcond=3.71451e-49): result may not be accurate.\n",
      "  overwrite_a=True).T\n"
     ]
    },
    {
     "data": {
      "image/png": "[encoded data removed]",
      "text/plain": [
       "<Figure size 432x288 with 1 Axes>"
      ]
     },
     "metadata": {
      "needs_background": "light"
     },
     "output_type": "display_data"
    }
   ],
   "source": [
    "for degree in [2, 3, 5, 10]:\n",
    "    poly = PolynomialFeatures(degree)\n",
    "    X_F1_poly = poly.fit_transform(X)\n",
    "\n",
    "    X_train, X_test, y_train, y_test = train_test_split(X_F1_poly, y, random_state=0)\n",
    "    linreg = Ridge().fit(X_train, y_train)\n",
    "\n",
    "    print('POLYNOMIAL DEGREE-{} W/ RIDGE REGRESSION'.format(degree))\n",
    "    print('(poly deg {}) linear model coeff (w):\\n{}'\n",
    "         .format(degree, linreg.coef_))\n",
    "    print('(poly deg {}) linear model intercept (b): {:.3f}'\n",
    "         .format(degree, linreg.intercept_))\n",
    "    print('(poly deg {}) R-squared score (training): {:.3f}'\n",
    "         .format(degree, linreg.score(X_train, y_train)))\n",
    "    print('(poly deg {}) R-squared score (test): {:.3f}'\n",
    "         .format(degree, linreg.score(X_test, y_test)))\n",
    "    print('(poly deg {}) RMSE score (train): {:.3f}'\n",
    "         .format(degree, sqrt(mean_squared_error(y_train, linreg.predict(X_train)))))\n",
    "    print('(poly deg {}) RMSE score (test): {:.3f}\\n'\n",
    "         .format(degree, sqrt(mean_squared_error(y_test, linreg.predict(X_test)))))\n",
    "\n",
    "plot_learning_curves(linreg,  X,y)"
   ]
  },
  {
   "cell_type": "code",
   "execution_count": null,
   "metadata": {},
   "outputs": [],
   "source": []
  },
  {
   "cell_type": "code",
   "execution_count": null,
   "metadata": {},
   "outputs": [],
   "source": []
  }
 ],
 "metadata": {
  "kernelspec": {
   "display_name": "Python 3",
   "language": "python",
   "name": "python3"
  },
  "language_info": {
   "codemirror_mode": {
    "name": "ipython",
    "version": 3
   },
   "file_extension": ".py",
   "mimetype": "text/x-python",
   "name": "python",
   "nbconvert_exporter": "python",
   "pygments_lexer": "ipython3",
   "version": "3.7.6"
  }
 },
 "nbformat": 4,
 "nbformat_minor": 4
}
